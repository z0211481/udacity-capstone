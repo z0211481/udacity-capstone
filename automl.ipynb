{
  "cells": [
    {
      "cell_type": "markdown",
      "metadata": {},
      "source": [
        "# Automated ML\n",
        "\n",
        "TODO: Import Dependencies. In the cell below, import all the dependencies that you will need to complete the project."
      ]
    },
    {
      "cell_type": "code",
      "execution_count": 1,
      "metadata": {
        "gather": {
          "logged": 1683635214952
        },
        "jupyter": {
          "outputs_hidden": false,
          "source_hidden": false
        },
        "nteract": {
          "transient": {
            "deleting": false
          }
        }
      },
      "outputs": [
        {
          "name": "stdout",
          "output_type": "stream",
          "text": [
            "SDK version: 1.49.0\n"
          ]
        }
      ],
      "source": [
        "import logging\n",
        "import os\n",
        "import csv\n",
        "import json\n",
        "\n",
        "from matplotlib import pyplot as plt\n",
        "import numpy as np\n",
        "import pandas as pd\n",
        "from sklearn import datasets\n",
        "import pkg_resources\n",
        "\n",
        "import azureml.core\n",
        "from azureml.core.experiment import Experiment\n",
        "from azureml.core.workspace import Workspace\n",
        "from azureml.train.automl import AutoMLConfig\n",
        "from azureml.core.dataset import Dataset\n",
        "\n",
        "from azureml.pipeline.steps import AutoMLStep\n",
        "from azureml.core.compute import AmlCompute\n",
        "from azureml.core.compute import ComputeTarget\n",
        "from azureml.core.compute_target import ComputeTargetException\n",
        "from azureml.widgets import RunDetails\n",
        "\n",
        "from azureml.core.model import InferenceConfig\n",
        "from azureml.core.webservice import AciWebservice\n",
        "from azureml.core.webservice import Webservice\n",
        "from azureml.core.model import Model\n",
        "from azureml.core.environment import Environment\n",
        "\n",
        "from azureml.automl.runtime.onnx_convert import OnnxConverter\n",
        "\n",
        "\n",
        "# Check core SDK version number\n",
        "print(\"SDK version:\", azureml.core.VERSION)"
      ]
    },
    {
      "attachments": {},
      "cell_type": "markdown",
      "metadata": {},
      "source": [
        "## Dataset\n",
        "\n",
        "### Overview\n",
        "\n",
        "The dataset contains information about visual characteristics of cancerous cells in the breast and ground truth about the diagnosis made based on the cell data. The visuals were measured based on X-rays.\n",
        "\n",
        "The task is to predict based on the 30 different visual parameters if the cell is benign (B) or malignant (M)"
      ]
    },
    {
      "cell_type": "code",
      "execution_count": 2,
      "metadata": {
        "gather": {
          "logged": 1683635217871
        },
        "jupyter": {
          "outputs_hidden": false,
          "source_hidden": false
        },
        "nteract": {
          "transient": {
            "deleting": false
          }
        }
      },
      "outputs": [
        {
          "name": "stderr",
          "output_type": "stream",
          "text": [
            "2023-05-09:12:26:54,889 INFO     [workspace.py:291] Found the config file in: /config.json\n",
            "2023-05-09:12:26:56,887 INFO     [clientbase.py:192] Created a worker pool for first use\n"
          ]
        },
        {
          "data": {
            "text/html": [
              "<table style=\"width:100%\"><tr><th>Name</th><th>Workspace</th><th>Report Page</th><th>Docs Page</th></tr><tr><td>cancer-auto-ml</td><td>quick-starts-ws-233260</td><td><a href=\"https://ml.azure.com/experiments/id/69e1debc-2d85-4b47-b963-3e36429e25f2?wsid=/subscriptions/3d1a56d2-7c81-4118-9790-f85d1acf0c77/resourcegroups/aml-quickstarts-233260/workspaces/quick-starts-ws-233260&amp;tid=660b3398-b80e-49d2-bc5b-ac1dc93b5254\" target=\"_blank\" rel=\"noopener\">Link to Azure Machine Learning studio</a></td><td><a href=\"https://docs.microsoft.com/en-us/python/api/azureml-core/azureml.core.experiment.Experiment?view=azure-ml-py\" target=\"_blank\" rel=\"noopener\">Link to Documentation</a></td></tr></table>"
            ],
            "text/plain": [
              "Experiment(Name: cancer-auto-ml,\n",
              "Workspace: quick-starts-ws-233260)"
            ]
          },
          "execution_count": 2,
          "metadata": {},
          "output_type": "execute_result"
        }
      ],
      "source": [
        "ws = Workspace.from_config()\n",
        "experiment_name = 'cancer-auto-ml'\n",
        "project_folder = './capstone-project'\n",
        "\n",
        "experiment=Experiment(ws, experiment_name)\n",
        "experiment"
      ]
    },
    {
      "cell_type": "code",
      "execution_count": 3,
      "metadata": {
        "gather": {
          "logged": 1683635822829
        },
        "jupyter": {
          "outputs_hidden": false,
          "source_hidden": false
        },
        "nteract": {
          "transient": {
            "deleting": false
          }
        }
      },
      "outputs": [
        {
          "name": "stdout",
          "output_type": "stream",
          "text": [
            "Found existing cluster, use it.\n",
            "Succeeded....................................................................................................................\n",
            "AmlCompute wait for completion finished\n",
            "\n",
            "Wait timeout has been reached\n",
            "Current provisioning state of AmlCompute is \"Succeeded\" and current node count is \"0\"\n"
          ]
        }
      ],
      "source": [
        "\n",
        "\n",
        "amlcompute_cluster_name = \"cluster-project\"\n",
        "\n",
        "\n",
        "try:\n",
        "    compute_target = ComputeTarget(workspace=ws, name=amlcompute_cluster_name)\n",
        "    print('Found existing cluster, use it.')\n",
        "except ComputeTargetException:\n",
        "    compute_config = AmlCompute.provisioning_configuration(vm_size='STANDARD_D2_V2',# for GPU, use \"STANDARD_NC6\"\n",
        "                                                           #vm_priority = 'lowpriority', # optional\n",
        "                                                           max_nodes=4)\n",
        "    compute_target = ComputeTarget.create(ws, amlcompute_cluster_name, compute_config)\n",
        "\n",
        "compute_target.wait_for_completion(show_output=True, min_node_count = 1, timeout_in_minutes = 10)\n"
      ]
    },
    {
      "cell_type": "code",
      "execution_count": 4,
      "metadata": {
        "gather": {
          "logged": 1683635823120
        }
      },
      "outputs": [],
      "source": [
        "dataset_name = 'cancer-data'\n",
        "try: \n",
        "    ds = ws.datasets[dataset_name]\n",
        "except KeyError:\n",
        "    print(\"Dataset not found, create and rerun this cell!\")\n",
        "    raise"
      ]
    },
    {
      "cell_type": "code",
      "execution_count": 5,
      "metadata": {
        "gather": {
          "logged": 1683635825365
        }
      },
      "outputs": [
        {
          "data": {
            "text/html": [
              "<div>\n",
              "<style scoped>\n",
              "    .dataframe tbody tr th:only-of-type {\n",
              "        vertical-align: middle;\n",
              "    }\n",
              "\n",
              "    .dataframe tbody tr th {\n",
              "        vertical-align: top;\n",
              "    }\n",
              "\n",
              "    .dataframe thead th {\n",
              "        text-align: right;\n",
              "    }\n",
              "</style>\n",
              "<table border=\"1\" class=\"dataframe\">\n",
              "  <thead>\n",
              "    <tr style=\"text-align: right;\">\n",
              "      <th></th>\n",
              "      <th>id</th>\n",
              "      <th>diagnosis</th>\n",
              "      <th>radius_mean</th>\n",
              "      <th>texture_mean</th>\n",
              "      <th>perimeter_mean</th>\n",
              "      <th>area_mean</th>\n",
              "      <th>smoothness_mean</th>\n",
              "      <th>compactness_mean</th>\n",
              "      <th>concavity_mean</th>\n",
              "      <th>concave points_mean</th>\n",
              "      <th>...</th>\n",
              "      <th>radius_worst</th>\n",
              "      <th>texture_worst</th>\n",
              "      <th>perimeter_worst</th>\n",
              "      <th>area_worst</th>\n",
              "      <th>smoothness_worst</th>\n",
              "      <th>compactness_worst</th>\n",
              "      <th>concavity_worst</th>\n",
              "      <th>concave points_worst</th>\n",
              "      <th>symmetry_worst</th>\n",
              "      <th>fractal_dimension_worst</th>\n",
              "    </tr>\n",
              "  </thead>\n",
              "  <tbody>\n",
              "    <tr>\n",
              "      <th>0</th>\n",
              "      <td>842302</td>\n",
              "      <td>M</td>\n",
              "      <td>17.99</td>\n",
              "      <td>10.38</td>\n",
              "      <td>122.80</td>\n",
              "      <td>1001.00</td>\n",
              "      <td>0.12</td>\n",
              "      <td>0.28</td>\n",
              "      <td>0.30</td>\n",
              "      <td>0.15</td>\n",
              "      <td>...</td>\n",
              "      <td>25.38</td>\n",
              "      <td>17.33</td>\n",
              "      <td>184.60</td>\n",
              "      <td>2019.00</td>\n",
              "      <td>0.16</td>\n",
              "      <td>0.67</td>\n",
              "      <td>0.71</td>\n",
              "      <td>0.27</td>\n",
              "      <td>0.46</td>\n",
              "      <td>0.12</td>\n",
              "    </tr>\n",
              "    <tr>\n",
              "      <th>1</th>\n",
              "      <td>842517</td>\n",
              "      <td>M</td>\n",
              "      <td>20.57</td>\n",
              "      <td>17.77</td>\n",
              "      <td>132.90</td>\n",
              "      <td>1326.00</td>\n",
              "      <td>0.08</td>\n",
              "      <td>0.08</td>\n",
              "      <td>0.09</td>\n",
              "      <td>0.07</td>\n",
              "      <td>...</td>\n",
              "      <td>24.99</td>\n",
              "      <td>23.41</td>\n",
              "      <td>158.80</td>\n",
              "      <td>1956.00</td>\n",
              "      <td>0.12</td>\n",
              "      <td>0.19</td>\n",
              "      <td>0.24</td>\n",
              "      <td>0.19</td>\n",
              "      <td>0.28</td>\n",
              "      <td>0.09</td>\n",
              "    </tr>\n",
              "    <tr>\n",
              "      <th>2</th>\n",
              "      <td>84300903</td>\n",
              "      <td>M</td>\n",
              "      <td>19.69</td>\n",
              "      <td>21.25</td>\n",
              "      <td>130.00</td>\n",
              "      <td>1203.00</td>\n",
              "      <td>0.11</td>\n",
              "      <td>0.16</td>\n",
              "      <td>0.20</td>\n",
              "      <td>0.13</td>\n",
              "      <td>...</td>\n",
              "      <td>23.57</td>\n",
              "      <td>25.53</td>\n",
              "      <td>152.50</td>\n",
              "      <td>1709.00</td>\n",
              "      <td>0.14</td>\n",
              "      <td>0.42</td>\n",
              "      <td>0.45</td>\n",
              "      <td>0.24</td>\n",
              "      <td>0.36</td>\n",
              "      <td>0.09</td>\n",
              "    </tr>\n",
              "    <tr>\n",
              "      <th>3</th>\n",
              "      <td>84348301</td>\n",
              "      <td>M</td>\n",
              "      <td>11.42</td>\n",
              "      <td>20.38</td>\n",
              "      <td>77.58</td>\n",
              "      <td>386.10</td>\n",
              "      <td>0.14</td>\n",
              "      <td>0.28</td>\n",
              "      <td>0.24</td>\n",
              "      <td>0.11</td>\n",
              "      <td>...</td>\n",
              "      <td>14.91</td>\n",
              "      <td>26.50</td>\n",
              "      <td>98.87</td>\n",
              "      <td>567.70</td>\n",
              "      <td>0.21</td>\n",
              "      <td>0.87</td>\n",
              "      <td>0.69</td>\n",
              "      <td>0.26</td>\n",
              "      <td>0.66</td>\n",
              "      <td>0.17</td>\n",
              "    </tr>\n",
              "    <tr>\n",
              "      <th>4</th>\n",
              "      <td>84358402</td>\n",
              "      <td>M</td>\n",
              "      <td>20.29</td>\n",
              "      <td>14.34</td>\n",
              "      <td>135.10</td>\n",
              "      <td>1297.00</td>\n",
              "      <td>0.10</td>\n",
              "      <td>0.13</td>\n",
              "      <td>0.20</td>\n",
              "      <td>0.10</td>\n",
              "      <td>...</td>\n",
              "      <td>22.54</td>\n",
              "      <td>16.67</td>\n",
              "      <td>152.20</td>\n",
              "      <td>1575.00</td>\n",
              "      <td>0.14</td>\n",
              "      <td>0.20</td>\n",
              "      <td>0.40</td>\n",
              "      <td>0.16</td>\n",
              "      <td>0.24</td>\n",
              "      <td>0.08</td>\n",
              "    </tr>\n",
              "  </tbody>\n",
              "</table>\n",
              "<p>5 rows × 32 columns</p>\n",
              "</div>"
            ],
            "text/plain": [
              "         id diagnosis  radius_mean  texture_mean  perimeter_mean  area_mean  \\\n",
              "0    842302         M        17.99         10.38          122.80    1001.00   \n",
              "1    842517         M        20.57         17.77          132.90    1326.00   \n",
              "2  84300903         M        19.69         21.25          130.00    1203.00   \n",
              "3  84348301         M        11.42         20.38           77.58     386.10   \n",
              "4  84358402         M        20.29         14.34          135.10    1297.00   \n",
              "\n",
              "   smoothness_mean  compactness_mean  concavity_mean  concave points_mean  \\\n",
              "0             0.12              0.28            0.30                 0.15   \n",
              "1             0.08              0.08            0.09                 0.07   \n",
              "2             0.11              0.16            0.20                 0.13   \n",
              "3             0.14              0.28            0.24                 0.11   \n",
              "4             0.10              0.13            0.20                 0.10   \n",
              "\n",
              "   ...  radius_worst  texture_worst  perimeter_worst  area_worst  \\\n",
              "0  ...         25.38          17.33           184.60     2019.00   \n",
              "1  ...         24.99          23.41           158.80     1956.00   \n",
              "2  ...         23.57          25.53           152.50     1709.00   \n",
              "3  ...         14.91          26.50            98.87      567.70   \n",
              "4  ...         22.54          16.67           152.20     1575.00   \n",
              "\n",
              "   smoothness_worst  compactness_worst  concavity_worst  concave points_worst  \\\n",
              "0              0.16               0.67             0.71                  0.27   \n",
              "1              0.12               0.19             0.24                  0.19   \n",
              "2              0.14               0.42             0.45                  0.24   \n",
              "3              0.21               0.87             0.69                  0.26   \n",
              "4              0.14               0.20             0.40                  0.16   \n",
              "\n",
              "   symmetry_worst  fractal_dimension_worst  \n",
              "0            0.46                     0.12  \n",
              "1            0.28                     0.09  \n",
              "2            0.36                     0.09  \n",
              "3            0.66                     0.17  \n",
              "4            0.24                     0.08  \n",
              "\n",
              "[5 rows x 32 columns]"
            ]
          },
          "execution_count": 5,
          "metadata": {},
          "output_type": "execute_result"
        }
      ],
      "source": [
        "df = ds.to_pandas_dataframe()\n",
        "df.head()"
      ]
    },
    {
      "attachments": {},
      "cell_type": "markdown",
      "metadata": {},
      "source": [
        "## AutoML Configuration\n",
        "\n",
        "I have chosen the timeout and concurrent iterations so the training would not be too time-consuming. For the same reason I have also enabled early stopping. "
      ]
    },
    {
      "cell_type": "code",
      "execution_count": 6,
      "metadata": {
        "gather": {
          "logged": 1683635825526
        },
        "jupyter": {
          "outputs_hidden": false,
          "source_hidden": false
        },
        "nteract": {
          "transient": {
            "deleting": false
          }
        }
      },
      "outputs": [],
      "source": [
        "automl_settings = {\n",
        "    \"experiment_timeout_minutes\": 20,\n",
        "    \"max_concurrent_iterations\": 5,\n",
        "    \"primary_metric\" : 'AUC_weighted'\n",
        "}\n",
        "automl_config = AutoMLConfig(compute_target=compute_target,\n",
        "                             task = \"classification\",\n",
        "                             training_data=ds,\n",
        "                             label_column_name=\"diagnosis\",   \n",
        "                             path = project_folder,\n",
        "                             enable_early_stopping=True,\n",
        "                             featurization= 'auto',\n",
        "                             debug_log = \"automl_errors.log\",\n",
        "                             **automl_settings\n",
        "                            )"
      ]
    },
    {
      "cell_type": "code",
      "execution_count": 7,
      "metadata": {
        "gather": {
          "logged": 1683635829025
        },
        "jupyter": {
          "outputs_hidden": false,
          "source_hidden": false
        },
        "nteract": {
          "transient": {
            "deleting": false
          }
        }
      },
      "outputs": [
        {
          "name": "stdout",
          "output_type": "stream",
          "text": [
            "Submitting remote run.\n"
          ]
        },
        {
          "data": {
            "text/html": [
              "<table style=\"width:100%\"><tr><th>Experiment</th><th>Id</th><th>Type</th><th>Status</th><th>Details Page</th><th>Docs Page</th></tr><tr><td>cancer-auto-ml</td><td>AutoML_04db1331-2219-4eef-93bc-3b73ce29a4ec</td><td>automl</td><td>NotStarted</td><td><a href=\"https://ml.azure.com/runs/AutoML_04db1331-2219-4eef-93bc-3b73ce29a4ec?wsid=/subscriptions/3d1a56d2-7c81-4118-9790-f85d1acf0c77/resourcegroups/aml-quickstarts-233260/workspaces/quick-starts-ws-233260&amp;tid=660b3398-b80e-49d2-bc5b-ac1dc93b5254\" target=\"_blank\" rel=\"noopener\">Link to Azure Machine Learning studio</a></td><td><a href=\"https://docs.microsoft.com/en-us/python/api/overview/azure/ml/intro?view=azure-ml-py\" target=\"_blank\" rel=\"noopener\">Link to Documentation</a></td></tr></table>"
            ],
            "text/plain": [
              "<IPython.core.display.HTML object>"
            ]
          },
          "metadata": {},
          "output_type": "display_data"
        }
      ],
      "source": [
        "\n",
        "remote_run = experiment.submit(automl_config)"
      ]
    },
    {
      "attachments": {},
      "cell_type": "markdown",
      "metadata": {},
      "source": [
        "## Run Details"
      ]
    },
    {
      "cell_type": "code",
      "execution_count": 8,
      "metadata": {
        "gather": {
          "logged": 1683637360414
        },
        "jupyter": {
          "outputs_hidden": false,
          "source_hidden": false
        },
        "nteract": {
          "transient": {
            "deleting": false
          }
        }
      },
      "outputs": [
        {
          "data": {
            "application/vnd.jupyter.widget-view+json": {
              "model_id": "6632a79596654e48a410555dff1eea30",
              "version_major": 2,
              "version_minor": 0
            },
            "text/plain": [
              "_AutoMLWidget(widget_settings={'childWidgetDisplay': 'popup', 'send_telemetry': False, 'log_level': 'INFO', 's…"
            ]
          },
          "metadata": {},
          "output_type": "display_data"
        },
        {
          "data": {
            "application/aml.mini.widget.v1": "{\"status\": \"Completed\", \"workbench_run_details_uri\": \"https://ml.azure.com/runs/AutoML_04db1331-2219-4eef-93bc-3b73ce29a4ec?wsid=/subscriptions/3d1a56d2-7c81-4118-9790-f85d1acf0c77/resourcegroups/aml-quickstarts-233260/workspaces/quick-starts-ws-233260&tid=660b3398-b80e-49d2-bc5b-ac1dc93b5254\", \"run_id\": \"AutoML_04db1331-2219-4eef-93bc-3b73ce29a4ec\", \"run_properties\": {\"run_id\": \"AutoML_04db1331-2219-4eef-93bc-3b73ce29a4ec\", \"created_utc\": \"2023-05-09T12:37:07.857718Z\", \"properties\": {\"num_iterations\": \"1000\", \"training_type\": \"TrainFull\", \"acquisition_function\": \"EI\", \"primary_metric\": \"AUC_weighted\", \"train_split\": \"0\", \"acquisition_parameter\": \"0\", \"num_cross_validation\": null, \"target\": \"cluster-project\", \"AMLSettingsJsonString\": \"{\\\"path\\\":null,\\\"name\\\":\\\"cancer-auto-ml\\\",\\\"subscription_id\\\":\\\"3d1a56d2-7c81-4118-9790-f85d1acf0c77\\\",\\\"resource_group\\\":\\\"aml-quickstarts-233260\\\",\\\"workspace_name\\\":\\\"quick-starts-ws-233260\\\",\\\"region\\\":\\\"westeurope\\\",\\\"compute_target\\\":\\\"cluster-project\\\",\\\"spark_service\\\":null,\\\"azure_service\\\":\\\"remote\\\",\\\"many_models\\\":false,\\\"pipeline_fetch_max_batch_size\\\":1,\\\"enable_batch_run\\\":true,\\\"enable_parallel_run\\\":false,\\\"num_procs\\\":null,\\\"enable_run_restructure\\\":false,\\\"start_auxiliary_runs_before_parent_complete\\\":false,\\\"enable_code_generation\\\":true,\\\"iterations\\\":1000,\\\"primary_metric\\\":\\\"AUC_weighted\\\",\\\"task_type\\\":\\\"classification\\\",\\\"positive_label\\\":null,\\\"data_script\\\":null,\\\"test_size\\\":0.0,\\\"test_include_predictions_only\\\":false,\\\"validation_size\\\":0.0,\\\"n_cross_validations\\\":null,\\\"y_min\\\":null,\\\"y_max\\\":null,\\\"num_classes\\\":null,\\\"featurization\\\":\\\"auto\\\",\\\"_ignore_package_version_incompatibilities\\\":false,\\\"is_timeseries\\\":false,\\\"max_cores_per_iteration\\\":1,\\\"max_concurrent_iterations\\\":5,\\\"iteration_timeout_minutes\\\":null,\\\"mem_in_mb\\\":null,\\\"enforce_time_on_windows\\\":false,\\\"experiment_timeout_minutes\\\":20,\\\"experiment_exit_score\\\":null,\\\"partition_column_names\\\":null,\\\"whitelist_models\\\":null,\\\"blacklist_algos\\\":[\\\"TensorFlowLinearClassifier\\\",\\\"TensorFlowDNN\\\"],\\\"supported_models\\\":[\\\"LogisticRegression\\\",\\\"DecisionTree\\\",\\\"LinearSVM\\\",\\\"MultinomialNaiveBayes\\\",\\\"SVM\\\",\\\"KNN\\\",\\\"SGD\\\",\\\"AveragedPerceptronClassifier\\\",\\\"BernoulliNaiveBayes\\\",\\\"GradientBoosting\\\",\\\"LightGBM\\\",\\\"RandomForest\\\",\\\"XGBoostClassifier\\\",\\\"ExtremeRandomTrees\\\",\\\"TabnetClassifier\\\",\\\"TensorFlowDNN\\\",\\\"TensorFlowLinearClassifier\\\"],\\\"private_models\\\":[],\\\"auto_blacklist\\\":true,\\\"blacklist_samples_reached\\\":false,\\\"exclude_nan_labels\\\":true,\\\"verbosity\\\":20,\\\"_debug_log\\\":\\\"azureml_automl.log\\\",\\\"show_warnings\\\":false,\\\"model_explainability\\\":true,\\\"service_url\\\":null,\\\"sdk_url\\\":null,\\\"sdk_packages\\\":null,\\\"enable_onnx_compatible_models\\\":false,\\\"enable_split_onnx_featurizer_estimator_models\\\":false,\\\"vm_type\\\":\\\"STANDARD_D2_V2\\\",\\\"telemetry_verbosity\\\":20,\\\"send_telemetry\\\":true,\\\"enable_dnn\\\":false,\\\"scenario\\\":\\\"AutoML\\\",\\\"environment_label\\\":null,\\\"save_mlflow\\\":false,\\\"enable_categorical_indicators\\\":false,\\\"force_text_dnn\\\":false,\\\"enable_feature_sweeping\\\":true,\\\"enable_early_stopping\\\":true,\\\"early_stopping_n_iters\\\":10,\\\"arguments\\\":null,\\\"dataset_id\\\":\\\"d5a5fa2f-0ead-4d2c-888b-37b80ea0733f\\\",\\\"hyperdrive_config\\\":null,\\\"validation_dataset_id\\\":null,\\\"run_source\\\":null,\\\"metrics\\\":null,\\\"enable_metric_confidence\\\":false,\\\"enable_ensembling\\\":true,\\\"enable_stack_ensembling\\\":true,\\\"ensemble_iterations\\\":15,\\\"enable_tf\\\":false,\\\"enable_subsampling\\\":null,\\\"subsample_seed\\\":null,\\\"enable_nimbusml\\\":false,\\\"enable_streaming\\\":false,\\\"force_streaming\\\":false,\\\"track_child_runs\\\":true,\\\"n_best_runs\\\":1,\\\"allowed_private_models\\\":[],\\\"label_column_name\\\":\\\"diagnosis\\\",\\\"weight_column_name\\\":null,\\\"cv_split_column_names\\\":null,\\\"enable_local_managed\\\":false,\\\"_local_managed_run_id\\\":null,\\\"cost_mode\\\":1,\\\"lag_length\\\":0,\\\"metric_operation\\\":\\\"maximize\\\",\\\"preprocess\\\":true}\", \"DataPrepJsonString\": \"{\\\\\\\"training_data\\\\\\\": {\\\\\\\"datasetId\\\\\\\": \\\\\\\"d5a5fa2f-0ead-4d2c-888b-37b80ea0733f\\\\\\\"}, \\\\\\\"datasets\\\\\\\": 0}\", \"EnableSubsampling\": null, \"runTemplate\": \"AutoML\", \"azureml.runsource\": \"automl\", \"display_task_type\": \"classification\", \"dependencies_versions\": \"{\\\"azureml-widgets\\\": \\\"1.49.0\\\", \\\"azureml-training-tabular\\\": \\\"1.49.0\\\", \\\"azureml-train\\\": \\\"1.49.0\\\", \\\"azureml-train-restclients-hyperdrive\\\": \\\"1.49.0\\\", \\\"azureml-train-core\\\": \\\"1.49.0\\\", \\\"azureml-train-automl\\\": \\\"1.49.0\\\", \\\"azureml-train-automl-runtime\\\": \\\"1.49.0\\\", \\\"azureml-train-automl-client\\\": \\\"1.49.0\\\", \\\"azureml-tensorboard\\\": \\\"1.49.0\\\", \\\"azureml-telemetry\\\": \\\"1.49.0\\\", \\\"azureml-sdk\\\": \\\"1.49.0\\\", \\\"azureml-responsibleai\\\": \\\"1.49.0\\\", \\\"azureml-pipeline\\\": \\\"1.49.0\\\", \\\"azureml-pipeline-steps\\\": \\\"1.49.0\\\", \\\"azureml-pipeline-core\\\": \\\"1.49.0\\\", \\\"azureml-opendatasets\\\": \\\"1.49.0\\\", \\\"azureml-mlflow\\\": \\\"1.49.0\\\", \\\"azureml-interpret\\\": \\\"1.49.0\\\", \\\"azureml-inference-server-http\\\": \\\"0.8.0\\\", \\\"azureml-explain-model\\\": \\\"1.49.0\\\", \\\"azureml-defaults\\\": \\\"1.49.0\\\", \\\"azureml-dataset-runtime\\\": \\\"1.49.0\\\", \\\"azureml-dataprep\\\": \\\"4.9.1\\\", \\\"azureml-dataprep-rslex\\\": \\\"2.16.1\\\", \\\"azureml-dataprep-native\\\": \\\"38.0.0\\\", \\\"azureml-datadrift\\\": \\\"1.49.0\\\", \\\"azureml-core\\\": \\\"1.49.0\\\", \\\"azureml-contrib-services\\\": \\\"1.49.0\\\", \\\"azureml-contrib-server\\\": \\\"1.49.0\\\", \\\"azureml-contrib-reinforcementlearning\\\": \\\"1.49.0\\\", \\\"azureml-contrib-pipeline-steps\\\": \\\"1.49.0\\\", \\\"azureml-contrib-notebook\\\": \\\"1.49.0\\\", \\\"azureml-contrib-fairness\\\": \\\"1.49.0\\\", \\\"azureml-contrib-dataset\\\": \\\"1.49.0\\\", \\\"azureml-contrib-automl-pipeline-steps\\\": \\\"1.49.0\\\", \\\"azureml-cli-common\\\": \\\"1.49.0\\\", \\\"azureml-automl-runtime\\\": \\\"1.49.0\\\", \\\"azureml-automl-dnn-nlp\\\": \\\"1.49.0\\\", \\\"azureml-automl-core\\\": \\\"1.49.0\\\", \\\"azureml-accel-models\\\": \\\"1.49.0\\\"}\", \"_aml_system_scenario_identification\": \"Remote.Parent\", \"ClientType\": \"SDK\", \"PlatformVersion\": \"DPV1\", \"environment_cpu_name\": \"AzureML-AutoML\", \"environment_cpu_label\": \"prod\", \"environment_gpu_name\": \"AzureML-AutoML-GPU\", \"environment_gpu_label\": \"prod\", \"root_attribution\": \"automl\", \"attribution\": \"AutoML\", \"Orchestrator\": \"AutoML\", \"CancelUri\": \"https://westeurope.api.azureml.ms/jasmine/v1.0/subscriptions/3d1a56d2-7c81-4118-9790-f85d1acf0c77/resourceGroups/aml-quickstarts-233260/providers/Microsoft.MachineLearningServices/workspaces/quick-starts-ws-233260/experimentids/69e1debc-2d85-4b47-b963-3e36429e25f2/cancel/AutoML_04db1331-2219-4eef-93bc-3b73ce29a4ec\", \"ClientSdkVersion\": null, \"snapshotId\": \"00000000-0000-0000-0000-000000000000\", \"SetupRunId\": \"AutoML_04db1331-2219-4eef-93bc-3b73ce29a4ec_setup\", \"SetupRunContainerId\": \"dcid.AutoML_04db1331-2219-4eef-93bc-3b73ce29a4ec_setup\", \"FeaturizationRunJsonPath\": \"featurizer_container.json\", \"FeaturizationRunId\": \"AutoML_04db1331-2219-4eef-93bc-3b73ce29a4ec_featurize\", \"ProblemInfoJsonString\": \"{\\\"dataset_num_categorical\\\": 0, \\\"is_sparse\\\": false, \\\"subsampling\\\": false, \\\"has_extra_col\\\": true, \\\"dataset_classes\\\": 2, \\\"dataset_features\\\": 31, \\\"dataset_samples\\\": 569, \\\"single_frequency_class_detected\\\": false}\", \"ModelExplainRunId\": \"AutoML_04db1331-2219-4eef-93bc-3b73ce29a4ec_ModelExplain\"}, \"tags\": {\"model_explain_run\": \"best_run\", \"_aml_system_automl_run_workspace_id\": \"7129c14f-8962-4bbf-bfdc-1da3bf32fc46\", \"_aml_system_azureml.automlComponent\": \"AutoML\", \"pipeline_id_000\": \"5dfac790c5c209f98a1da2dc1c7fb76f0397324f;c7af0367625be6ac5c2fecbfc72ed444cb7a2111;51ae05309834b29f71340af1008fc94fbd8213f4;ce2643edf3d450b10c86c7d034a9bc952dc282d3;039a99c3d5147edeb525249e2660628be3e8b83f;a18bd1af1629e8f96b25a32ac94e62b3bd9a9605;a3dadd95854bf6116ab454844302b51d417d78b7;1dfdf370ba770047b14bfa59c40920815defcdab;e92a63ad06df7b68a48ce96c06fad3fbf2a25ce2;5bc24cef89e67ee668d55e59548e1032cfbc7f0f;516a24fb1445632ecf04366c17b960ce157878b3;088b94df63b852cc8cba96bb2fa191ce8d1ef2e5;294650ec23bc3d067a4972de7ceb12f6e97260fa;634afb4b36be9286ca21289f56b5f7cdf1c72fa9;b983b703e4d6dbffd4a815a4d1c2ed94225c5027;681a59302459aec2cc115ddbc14e1d28f4b3b8df;4f207270c6817858b81b8050f1efa1d0053db52e;7ea0a64582be36507254a026ac98e9a5a49e1f34;6f4a466f84f725a47910c1dff062a1bb46df2a21;dea7fdbaedc77258dbfe31dbfed41e768ca38939;1e38ae92baee19b18f211a8b14c16015d5ee3dc3;a7434e890cabef86b0ce4ae71fb633e1e92b854d;a72eb56f3d4aadb7b7f0149ba6e5f05657a95ca1;c74787cd2f0507b852a1ac70d504d83ac9bdec83;9610149fbcf43017aa810a290e9c04cbe6fa8684;fe6cba96c01079b46d0585b99a43ecbebe41cb55;169ee938398f3d9dbb72503258e097a85432b6c9;2aa41acf133c6478770be628f9aa2251111947cc;55609b63cef82650f347f75f468356428beb60fc;4ecfd2f743c74d169630256b9ceac4a9c4573e84;a2a45922312ca6cc4d0831e6930b03e02e71541c;50738fce9fb72c9a452a01d706902cb034c07472;835074966ac5351570e037c312c41a2410987b21;b7d07f8a072345308f3e089b933aa885181afbfb;11d385b132a83292af2b061cea7135b0dac5b134;9b19b6fe12567ad89298bda2d33fd6e52a617dee;8c00fc7a571495dd75759cfc7a0fd491e680e8fe;29bc8d6fa1d9b6ea0fc16105ec32c2b74d6bb219;5522debad1569b7f4a55e1babededc068be1702d;32db2a9e32a802c1b6abe8193754160eaf6c3813;c7b2da73399f72cae5a344c5ed1d043c389a830f;7cc9e2d867722545731bface5006e7c99d685434;82e58891d8f2a07579596e86a8c28bd9ee0965f7;7dec2aa4821a524fee2137a7da92bc1e87c476fb;b93add9f7927254dcfd406ebb4cb9ec6ae44af26;0215821c39ec2326e3d0ef8f846ea88eb6ff0a3f;46cbaa2bf4495b65180810e0868371c557033a1f;c43d65c651451a1a94ae6688fd5a6ad125ba64a0\", \"score_000\": \"0.9947209139504535;0.9945989074403396;0.987999787203454;0.9879416580269789;0.9895218252059907;0.8988235656576524;0.9818203059854163;0.9699370886366887;0.9891695552970461;0.9806884521598954;0.9831450855106294;0.9904609510560263;0.9888677747704246;0.9642404386490734;0.985620839463766;0.9803706012176541;0.99046225336781;0.9920135027193776;0.9615228211715454;0.9918351206887607;0.984789362839235;0.9910000442438361;0.9898663877443914;0.9914306729952138;0.9894330759956317;0.992999598875491;0.994393700254537;0.9936810958515221;0.9898949565609069;0.9949268666457598;0.9896032108863253;0.9859099760533843;0.9928183906410875;0.9945416136519079;0.993533025873462;0.9947347155897013;0.9901365126117623;0.9944104847965773;0.9945916628963303;0.9865607401604102;0.9799873337073419;0.9905638547988515;0.9953034138240973;0.9936501180298464;0.9924252941587592;0.9888630286195415;0.9937700037858546;0.9942323572967421;0.9939905064865735;0.994007658172776;0.9908100446341466;0.9929084974229431;0.9934629307548997;0.9942627590634936;0.9933751819971711;0.661600370301751;0.9950853323657032;NaN;NaN;NaN;0.9911817572896202;0.9970297023947919;0.9960066844919787\", \"predicted_cost_000\": \"0;0;0.5;0.5;0.5;0.5;0.5;0.5;0.5;0.5;0.5;0.5;0.5;0.5;0.5;0.5;0.5;0.5;0.5;0.5;0.2553005627293304;0.28921467000366213;0.015589797204545118;0.07608720448225807;0.1333219886048964;0.2949339159925478;0.30706747965135106;0.3110782384237055;0.8055959999999106;0.4402881182120153;0.07743535594122493;0.1036674844004835;0.3428479367466759;0.12338433189932105;0.10941728093406505;0.12844573157575317;0.28853862588453977;0.0985554641046689;0.2853397921466196;0.4128880305466272;0.14053784481671616;0.24473211940452744;0.584829720375169;0.03643561996654498;0.08081906078961727;0.1967843301111202;0.24478047424477506;0.42962787278611814;0.792088910449914;0.09700957158301086;0.07054340867350879;0.21471415073301123;0.08820249691026473;0.15574820780931287;0.19137405701630067;0.14059057363297786;0.3703270251045968;0.05534743073879283;0.10684261914140335;0.20377006985894322;0.20241867114908577;0;0\", \"fit_time_000\": \"0.2161196;0.141522;0.016441;0.0326136;0.0216277;0.007866399999999999;0.0450266;0.2466589;0.0131212;0.1818409;0.056961700000000004;0.034629;0.0302918;0.0077625;0.047792900000000006;0.0492363;0.11452689999999999;0.0438376;0.0338397;0.5206584000000001;0.0591527;0.34232019999999996;0.24913729999999998;0.06656559999999999;0.0368324;0.0750178;0.1027662;0.16446700000000003;2.0235407;0.13516309999999998;0.0236416;0.4183204;0.1272217;1.5303852;0.0671766;0.2342413;0.2550881;0.21990669999999998;0.1292272;0.2109309;0.1043773;0.2164949;0.22043470000000004;0.051566;0.028256000000000003;0.17787400000000003;0.0384019;0.1343507;0.1601992;0.08692710000000001;0.26985119999999996;0.0603964;0.049294;1.2312458999999998;0.0632656;0.1257384;0.3294391;NaN;NaN;NaN;0.0397156;49;56\", \"training_percent_000\": \"100;100;100;100;100;100;100;100;100;100;100;100;100;100;100;100;100;100;100;100;100;100;100;100;100;100;100;100;100;100;100;100;100;100;100;100;100;100;100;100;100;100;100;100;100;100;100;100;100;100;100;100;100;100;100;100;100;100;100;100;100;100;100\", \"iteration_000\": \"0;1;2;3;4;5;6;7;8;9;10;11;12;13;14;15;16;17;18;19;23;25;21;20;22;24;27;28;26;29;30;32;33;31;34;35;36;37;38;39;40;41;42;43;44;45;46;47;48;49;50;51;52;53;54;55;56;59;60;58;57;61;62\", \"run_preprocessor_000\": \"MaxAbsScaler;MaxAbsScaler;MaxAbsScaler;MaxAbsScaler;StandardScalerWrapper;StandardScalerWrapper;SparseNormalizer;SparseNormalizer;RobustScaler;MinMaxScaler;StandardScalerWrapper;StandardScalerWrapper;StandardScalerWrapper;SparseNormalizer;RobustScaler;SparseNormalizer;MinMaxScaler;MinMaxScaler;SparseNormalizer;MaxAbsScaler;MaxAbsScaler;StandardScalerWrapper;StandardScalerWrapper;StandardScalerWrapper;MaxAbsScaler;MinMaxScaler;StandardScalerWrapper;StandardScalerWrapper;MaxAbsScaler;StandardScalerWrapper;MinMaxScaler;RobustScaler;StandardScalerWrapper;StandardScalerWrapper;StandardScalerWrapper;StandardScalerWrapper;StandardScalerWrapper;StandardScalerWrapper;StandardScalerWrapper;StandardScalerWrapper;StandardScalerWrapper;StandardScalerWrapper;StandardScalerWrapper;MaxAbsScaler;MaxAbsScaler;StandardScalerWrapper;StandardScalerWrapper;StandardScalerWrapper;StandardScalerWrapper;RobustScaler;StandardScalerWrapper;StandardScalerWrapper;MaxAbsScaler;StandardScalerWrapper;StandardScalerWrapper;PCA;StandardScalerWrapper;;;MaxAbsScaler;RobustScaler;;\", \"run_algorithm_000\": \"LightGBM;XGBoostClassifier;ExtremeRandomTrees;RandomForest;LightGBM;KNN;XGBoostClassifier;RandomForest;KNN;RandomForest;LogisticRegression;SVM;XGBoostClassifier;KNN;ExtremeRandomTrees;XGBoostClassifier;ExtremeRandomTrees;ExtremeRandomTrees;LightGBM;ExtremeRandomTrees;LogisticRegression;ExtremeRandomTrees;RandomForest;XGBoostClassifier;LightGBM;LightGBM;XGBoostClassifier;LightGBM;RandomForest;XGBoostClassifier;LightGBM;RandomForest;XGBoostClassifier;GradientBoosting;LightGBM;XGBoostClassifier;XGBoostClassifier;XGBoostClassifier;XGBoostClassifier;XGBoostClassifier;XGBoostClassifier;XGBoostClassifier;XGBoostClassifier;LightGBM;LightGBM;XGBoostClassifier;LightGBM;LightGBM;LightGBM;LightGBM;XGBoostClassifier;LightGBM;LightGBM;GradientBoosting;LightGBM;XGBoostClassifier;XGBoostClassifier;;;GradientBoosting;LightGBM;VotingEnsemble;StackEnsemble\", \"dynamic_allowlisting_iterations\": \"<24>;<30>;<35>;<40>;<45>;<50>;<55>;<60>;\", \"pipeline_id_001\": \"bf9fa6974c30e6d6711dd4fc215f6f425928c9a1;05820b94492b086a8c7b4c0462402d7cb223e745;55bac1783717b55175b52d96f310349aeacca8a8;134949332608242ae2994440f9a935a8e768e32f;c032a667d19a89304e023d5e596107aa3cbdbbbe;b72fea036932694988e21ecbca0cb64f8f70f2cb;98a2b5806ecdb4a2dfb7217d3d3f3e8cd08e01a7;3a7a7f9265fb9ec4cd3b34e048c6c9959f965ee4;d03980eddb8e2b43e3a3d6a5007c890bf5df3a46;5bee6b03e33413910ae944e2bf6c7a68c318c547;d6010a365c3c66069fc9ed0bd943061ae1356efe;615399c3d60216fa60fee9f4d4ceecf505edaca2;dd4f4533a37a5589f8280366b3f8da2c1e564ed3;__AutoML_Ensemble__;__AutoML_Stack_Ensemble__\", \"_aml_system_azureml.automl_early_exit_message\": \"No scores improved over last 10 iterations, so experiment stopped early. This early stopping behavior can be disabled by setting enable_early_stopping = False in AutoMLConfig for notebook/python SDK runs.\", \"automl_best_child_run_id\": \"AutoML_04db1331-2219-4eef-93bc-3b73ce29a4ec_61\", \"model_explain_best_run_child_id\": \"AutoML_04db1331-2219-4eef-93bc-3b73ce29a4ec_61\"}, \"end_time_utc\": \"2023-05-09T13:02:21.878424Z\", \"status\": \"Completed\", \"log_files\": {}, \"log_groups\": [], \"run_duration\": \"0:25:14\", \"run_number\": \"1683635827\", \"run_queued_details\": {\"status\": \"Completed\", \"details\": null}}, \"child_runs\": [{\"run_id\": \"AutoML_04db1331-2219-4eef-93bc-3b73ce29a4ec_setup\", \"run_number\": 1683635841, \"metric\": null, \"status\": \"Completed\", \"run_type\": \"azureml.scriptrun\", \"training_percent\": null, \"start_time\": \"2023-05-09T12:43:08.444077Z\", \"end_time\": \"2023-05-09T12:44:58.010736Z\", \"created_time\": \"2023-05-09T12:37:21.17292Z\", \"created_time_dt\": \"2023-05-09T12:37:21.17292Z\", \"duration\": \"0:07:36\", \"iteration\": null, \"goal\": null, \"run_name\": \"Completed\", \"run_properties\": null}, {\"run_id\": \"AutoML_04db1331-2219-4eef-93bc-3b73ce29a4ec_featurize\", \"run_number\": 1683636298, \"metric\": null, \"status\": \"Completed\", \"run_type\": \"automl.featurization\", \"training_percent\": null, \"start_time\": \"2023-05-09T12:44:59.011369Z\", \"end_time\": \"2023-05-09T12:45:54.925978Z\", \"created_time\": \"2023-05-09T12:44:58.494363Z\", \"created_time_dt\": \"2023-05-09T12:44:58.494363Z\", \"duration\": \"0:00:56\", \"iteration\": null, \"goal\": null, \"run_name\": \"Completed\", \"run_properties\": null}, {\"run_id\": \"AutoML_04db1331-2219-4eef-93bc-3b73ce29a4ec_0\", \"run_number\": 1683636356, \"metric\": null, \"status\": \"Completed\", \"run_type\": null, \"training_percent\": \"100\", \"start_time\": \"2023-05-09T12:46:19.707626Z\", \"end_time\": \"2023-05-09T12:46:37.818449Z\", \"created_time\": \"2023-05-09T12:45:56.432995Z\", \"created_time_dt\": \"2023-05-09T12:45:56.432995Z\", \"duration\": \"0:00:41\", \"iteration\": \"0\", \"goal\": \"AUC_weighted_max\", \"run_name\": \"MaxAbsScaler, LightGBM\", \"run_properties\": \"copy=True\", \"primary_metric\": 0.99472091, \"best_metric\": 0.99472091}, {\"run_id\": \"AutoML_04db1331-2219-4eef-93bc-3b73ce29a4ec_1\", \"run_number\": 1683636357, \"metric\": null, \"status\": \"Completed\", \"run_type\": null, \"training_percent\": \"100\", \"start_time\": \"2023-05-09T12:46:38.384173Z\", \"end_time\": \"2023-05-09T12:46:52.951705Z\", \"created_time\": \"2023-05-09T12:45:57.039979Z\", \"created_time_dt\": \"2023-05-09T12:45:57.039979Z\", \"duration\": \"0:00:55\", \"iteration\": \"1\", \"goal\": \"AUC_weighted_max\", \"run_name\": \"MaxAbsScaler, XGBoostClassifier\", \"run_properties\": \"copy=True\", \"primary_metric\": 0.99459891, \"best_metric\": 0.99472091}, {\"run_id\": \"AutoML_04db1331-2219-4eef-93bc-3b73ce29a4ec_worker_0\", \"run_number\": 1683636358, \"metric\": null, \"status\": \"Completed\", \"run_type\": \"azureml.scriptrun\", \"training_percent\": null, \"start_time\": \"2023-05-09T12:46:09.803138Z\", \"end_time\": \"2023-05-09T12:47:29.862502Z\", \"created_time\": \"2023-05-09T12:45:58.549311Z\", \"created_time_dt\": \"2023-05-09T12:45:58.549311Z\", \"duration\": \"0:01:31\", \"iteration\": null, \"goal\": null, \"run_name\": \"Completed\", \"run_properties\": null}, {\"run_id\": \"AutoML_04db1331-2219-4eef-93bc-3b73ce29a4ec_5\", \"run_number\": 1683636359, \"metric\": null, \"status\": \"Completed\", \"run_type\": null, \"training_percent\": \"100\", \"start_time\": \"2023-05-09T12:47:59.936688Z\", \"end_time\": \"2023-05-09T12:48:12.998418Z\", \"created_time\": \"2023-05-09T12:45:59.612444Z\", \"created_time_dt\": \"2023-05-09T12:45:59.612444Z\", \"duration\": \"0:02:13\", \"iteration\": \"5\", \"goal\": \"AUC_weighted_max\", \"run_name\": \"StandardScalerWrapper, KNN\", \"run_properties\": \"copy=True, with_mean=True, with_std=False\", \"primary_metric\": 0.89882357, \"best_metric\": 0.99472091}, {\"run_id\": \"AutoML_04db1331-2219-4eef-93bc-3b73ce29a4ec_6\", \"run_number\": 1683636360, \"metric\": null, \"status\": \"Completed\", \"run_type\": null, \"training_percent\": \"100\", \"start_time\": \"2023-05-09T12:48:13.598908Z\", \"end_time\": \"2023-05-09T12:48:27.124844Z\", \"created_time\": \"2023-05-09T12:46:00.265984Z\", \"created_time_dt\": \"2023-05-09T12:46:00.265984Z\", \"duration\": \"0:02:26\", \"iteration\": \"6\", \"goal\": \"AUC_weighted_max\", \"run_name\": \"SparseNormalizer, XGBoostClassifier\", \"run_properties\": \"copy=True, norm='max'\", \"primary_metric\": 0.98182031, \"best_metric\": 0.99472091}, {\"run_id\": \"AutoML_04db1331-2219-4eef-93bc-3b73ce29a4ec_worker_1\", \"run_number\": 1683636361, \"metric\": null, \"status\": \"Completed\", \"run_type\": \"azureml.scriptrun\", \"training_percent\": null, \"start_time\": \"2023-05-09T12:47:33.695682Z\", \"end_time\": \"2023-05-09T12:48:52.550469Z\", \"created_time\": \"2023-05-09T12:46:01.504126Z\", \"created_time_dt\": \"2023-05-09T12:46:01.504126Z\", \"duration\": \"0:02:51\", \"iteration\": null, \"goal\": null, \"run_name\": \"Completed\", \"run_properties\": null}, {\"run_id\": \"AutoML_04db1331-2219-4eef-93bc-3b73ce29a4ec_9\", \"run_number\": 1683636362, \"metric\": null, \"status\": \"Completed\", \"run_type\": null, \"training_percent\": \"100\", \"start_time\": \"2023-05-09T12:49:24.731007Z\", \"end_time\": \"2023-05-09T12:49:39.750545Z\", \"created_time\": \"2023-05-09T12:46:02.476872Z\", \"created_time_dt\": \"2023-05-09T12:46:02.476872Z\", \"duration\": \"0:03:37\", \"iteration\": \"9\", \"goal\": \"AUC_weighted_max\", \"run_name\": \"MinMaxScaler, RandomForest\", \"run_properties\": \"copy=True, feature_range=(0, 1\", \"primary_metric\": 0.98068845, \"best_metric\": 0.99472091}, {\"run_id\": \"AutoML_04db1331-2219-4eef-93bc-3b73ce29a4ec_10\", \"run_number\": 1683636363, \"metric\": null, \"status\": \"Completed\", \"run_type\": null, \"training_percent\": \"100\", \"start_time\": \"2023-05-09T12:49:40.349137Z\", \"end_time\": \"2023-05-09T12:49:53.685601Z\", \"created_time\": \"2023-05-09T12:46:03.064361Z\", \"created_time_dt\": \"2023-05-09T12:46:03.064361Z\", \"duration\": \"0:03:50\", \"iteration\": \"10\", \"goal\": \"AUC_weighted_max\", \"run_name\": \"StandardScalerWrapper, LogisticRegression\", \"run_properties\": \"copy=True, with_mean=True, with_std=True\", \"primary_metric\": 0.98314509, \"best_metric\": 0.99472091}, {\"run_id\": \"AutoML_04db1331-2219-4eef-93bc-3b73ce29a4ec_worker_2\", \"run_number\": 1683636364, \"metric\": null, \"status\": \"Completed\", \"run_type\": \"azureml.scriptrun\", \"training_percent\": null, \"start_time\": \"2023-05-09T12:48:58.430961Z\", \"end_time\": \"2023-05-09T12:50:17.370395Z\", \"created_time\": \"2023-05-09T12:46:04.116507Z\", \"created_time_dt\": \"2023-05-09T12:46:04.116507Z\", \"duration\": \"0:04:13\", \"iteration\": null, \"goal\": null, \"run_name\": \"Completed\", \"run_properties\": null}, {\"run_id\": \"AutoML_04db1331-2219-4eef-93bc-3b73ce29a4ec_13\", \"run_number\": 1683636365, \"metric\": null, \"status\": \"Completed\", \"run_type\": null, \"training_percent\": \"100\", \"start_time\": \"2023-05-09T12:50:50.032779Z\", \"end_time\": \"2023-05-09T12:51:02.665794Z\", \"created_time\": \"2023-05-09T12:46:05.057601Z\", \"created_time_dt\": \"2023-05-09T12:46:05.057601Z\", \"duration\": \"0:04:57\", \"iteration\": \"13\", \"goal\": \"AUC_weighted_max\", \"run_name\": \"SparseNormalizer, KNN\", \"run_properties\": \"copy=True, norm='max'\", \"primary_metric\": 0.96424044, \"best_metric\": 0.99472091}, {\"run_id\": \"AutoML_04db1331-2219-4eef-93bc-3b73ce29a4ec_worker_3\", \"run_number\": 1683636366, \"metric\": null, \"status\": \"Completed\", \"run_type\": \"azureml.scriptrun\", \"training_percent\": null, \"start_time\": \"2023-05-09T12:50:24.291284Z\", \"end_time\": \"2023-05-09T12:51:39.496961Z\", \"created_time\": \"2023-05-09T12:46:06.561618Z\", \"created_time_dt\": \"2023-05-09T12:46:06.561618Z\", \"duration\": \"0:05:32\", \"iteration\": null, \"goal\": null, \"run_name\": \"Completed\", \"run_properties\": null}, {\"run_id\": \"AutoML_04db1331-2219-4eef-93bc-3b73ce29a4ec_17\", \"run_number\": 1683636367, \"metric\": null, \"status\": \"Completed\", \"run_type\": null, \"training_percent\": \"100\", \"start_time\": \"2023-05-09T12:52:11.700502Z\", \"end_time\": \"2023-05-09T12:52:24.80177Z\", \"created_time\": \"2023-05-09T12:46:07.439529Z\", \"created_time_dt\": \"2023-05-09T12:46:07.439529Z\", \"duration\": \"0:06:17\", \"iteration\": \"17\", \"goal\": \"AUC_weighted_max\", \"run_name\": \"MinMaxScaler, ExtremeRandomTrees\", \"run_properties\": \"copy=True, feature_range=(0, 1\", \"primary_metric\": 0.9920135, \"best_metric\": 0.99472091}, {\"run_id\": \"AutoML_04db1331-2219-4eef-93bc-3b73ce29a4ec_worker_4\", \"run_number\": 1683636368, \"metric\": null, \"status\": \"Completed\", \"run_type\": \"azureml.scriptrun\", \"training_percent\": null, \"start_time\": \"2023-05-09T12:51:44.823287Z\", \"end_time\": \"2023-05-09T12:53:07.185347Z\", \"created_time\": \"2023-05-09T12:46:08.845488Z\", \"created_time_dt\": \"2023-05-09T12:46:08.845488Z\", \"duration\": \"0:06:58\", \"iteration\": null, \"goal\": null, \"run_name\": \"Completed\", \"run_properties\": null}, {\"run_id\": \"AutoML_04db1331-2219-4eef-93bc-3b73ce29a4ec_22\", \"run_number\": 1683636694, \"metric\": null, \"status\": \"Completed\", \"run_type\": \"azureml.scriptrun\", \"training_percent\": \"100\", \"start_time\": \"2023-05-09T12:52:40.992242Z\", \"end_time\": \"2023-05-09T12:54:53.720765Z\", \"created_time\": \"2023-05-09T12:51:34.103665Z\", \"created_time_dt\": \"2023-05-09T12:51:34.103665Z\", \"duration\": \"0:03:19\", \"iteration\": \"22\", \"goal\": \"AUC_weighted_max\", \"run_name\": \"MaxAbsScaler, LightGBM\", \"run_properties\": \"copy=True\", \"primary_metric\": 0.98943308, \"best_metric\": 0.99472091}, {\"run_id\": \"AutoML_04db1331-2219-4eef-93bc-3b73ce29a4ec_23\", \"run_number\": 1683636761, \"metric\": null, \"status\": \"Completed\", \"run_type\": \"azureml.scriptrun\", \"training_percent\": \"100\", \"start_time\": \"2023-05-09T12:53:11.214091Z\", \"end_time\": \"2023-05-09T12:53:44.439117Z\", \"created_time\": \"2023-05-09T12:52:41.844261Z\", \"created_time_dt\": \"2023-05-09T12:52:41.844261Z\", \"duration\": \"0:01:02\", \"iteration\": \"23\", \"goal\": \"AUC_weighted_max\", \"run_name\": \"MaxAbsScaler, LogisticRegression\", \"run_properties\": \"copy=True\", \"primary_metric\": 0.98478936, \"best_metric\": 0.99472091}, {\"run_id\": \"AutoML_04db1331-2219-4eef-93bc-3b73ce29a4ec_25\", \"run_number\": 1683636829, \"metric\": null, \"status\": \"Completed\", \"run_type\": \"azureml.scriptrun\", \"training_percent\": \"100\", \"start_time\": \"2023-05-09T12:53:59.795798Z\", \"end_time\": \"2023-05-09T12:54:35.784871Z\", \"created_time\": \"2023-05-09T12:53:49.230998Z\", \"created_time_dt\": \"2023-05-09T12:53:49.230998Z\", \"duration\": \"0:00:46\", \"iteration\": \"25\", \"goal\": \"AUC_weighted_max\", \"run_name\": \"StandardScalerWrapper, ExtremeRandomTrees\", \"run_properties\": \"copy=True, with_mean=False, with_std=True\", \"primary_metric\": 0.99100004, \"best_metric\": 0.99472091}, {\"run_id\": \"AutoML_04db1331-2219-4eef-93bc-3b73ce29a4ec_26\", \"run_number\": 1683636877, \"metric\": null, \"status\": \"Completed\", \"run_type\": \"azureml.scriptrun\", \"training_percent\": \"100\", \"start_time\": \"2023-05-09T12:54:47.111751Z\", \"end_time\": \"2023-05-09T12:55:43.027594Z\", \"created_time\": \"2023-05-09T12:54:37.762477Z\", \"created_time_dt\": \"2023-05-09T12:54:37.762477Z\", \"duration\": \"0:01:05\", \"iteration\": \"26\", \"goal\": \"AUC_weighted_max\", \"run_name\": \"MaxAbsScaler, RandomForest\", \"run_properties\": \"copy=True\", \"primary_metric\": 0.98989496, \"best_metric\": 0.99472091}, {\"run_id\": \"AutoML_04db1331-2219-4eef-93bc-3b73ce29a4ec_27\", \"run_number\": 1683636880, \"metric\": null, \"status\": \"Completed\", \"run_type\": \"azureml.scriptrun\", \"training_percent\": \"100\", \"start_time\": \"2023-05-09T12:54:56.188056Z\", \"end_time\": \"2023-05-09T12:55:31.71668Z\", \"created_time\": \"2023-05-09T12:54:40.396197Z\", \"created_time_dt\": \"2023-05-09T12:54:40.396197Z\", \"duration\": \"0:00:51\", \"iteration\": \"27\", \"goal\": \"AUC_weighted_max\", \"run_name\": \"StandardScalerWrapper, XGBoostClassifier\", \"run_properties\": \"copy=True, with_mean=False, with_std=False\", \"primary_metric\": 0.9943937, \"best_metric\": 0.99472091}, {\"run_id\": \"AutoML_04db1331-2219-4eef-93bc-3b73ce29a4ec_28\", \"run_number\": 1683636892, \"metric\": null, \"status\": \"Completed\", \"run_type\": \"azureml.scriptrun\", \"training_percent\": \"100\", \"start_time\": \"2023-05-09T12:55:00.059474Z\", \"end_time\": \"2023-05-09T12:55:35.30652Z\", \"created_time\": \"2023-05-09T12:54:52.248342Z\", \"created_time_dt\": \"2023-05-09T12:54:52.248342Z\", \"duration\": \"0:00:43\", \"iteration\": \"28\", \"goal\": \"AUC_weighted_max\", \"run_name\": \"StandardScalerWrapper, LightGBM\", \"run_properties\": \"copy=True, with_mean=True, with_std=True\", \"primary_metric\": 0.9936811, \"best_metric\": 0.99472091}, {\"run_id\": \"AutoML_04db1331-2219-4eef-93bc-3b73ce29a4ec_29\", \"run_number\": 1683636895, \"metric\": null, \"status\": \"Completed\", \"run_type\": \"azureml.scriptrun\", \"training_percent\": \"100\", \"start_time\": \"2023-05-09T12:55:15.311761Z\", \"end_time\": \"2023-05-09T12:55:48.793017Z\", \"created_time\": \"2023-05-09T12:54:55.801311Z\", \"created_time_dt\": \"2023-05-09T12:54:55.801311Z\", \"duration\": \"0:00:52\", \"iteration\": \"29\", \"goal\": \"AUC_weighted_max\", \"run_name\": \"StandardScalerWrapper, XGBoostClassifier\", \"run_properties\": \"copy=True, with_mean=False, with_std=False\", \"primary_metric\": 0.99492687, \"best_metric\": 0.99492687}, {\"run_id\": \"AutoML_04db1331-2219-4eef-93bc-3b73ce29a4ec_30\", \"run_number\": 1683636914, \"metric\": null, \"status\": \"Completed\", \"run_type\": \"azureml.scriptrun\", \"training_percent\": \"100\", \"start_time\": \"2023-05-09T12:55:36.584974Z\", \"end_time\": \"2023-05-09T12:56:11.240853Z\", \"created_time\": \"2023-05-09T12:55:14.723977Z\", \"created_time_dt\": \"2023-05-09T12:55:14.723977Z\", \"duration\": \"0:00:56\", \"iteration\": \"30\", \"goal\": \"AUC_weighted_max\", \"run_name\": \"MinMaxScaler, LightGBM\", \"run_properties\": \"copy=True, feature_range=(0, 1\", \"primary_metric\": 0.98960321, \"best_metric\": 0.99492687}, {\"run_id\": \"AutoML_04db1331-2219-4eef-93bc-3b73ce29a4ec_31\", \"run_number\": 1683636933, \"metric\": null, \"status\": \"Completed\", \"run_type\": \"azureml.scriptrun\", \"training_percent\": \"100\", \"start_time\": \"2023-05-09T12:55:42.877751Z\", \"end_time\": \"2023-05-09T12:56:31.900616Z\", \"created_time\": \"2023-05-09T12:55:33.598612Z\", \"created_time_dt\": \"2023-05-09T12:55:33.598612Z\", \"duration\": \"0:00:58\", \"iteration\": \"31\", \"goal\": \"AUC_weighted_max\", \"run_name\": \"StandardScalerWrapper, GradientBoosting\", \"run_properties\": \"copy=True, with_mean=True, with_std=False\", \"primary_metric\": 0.99454161, \"best_metric\": 0.99492687}, {\"run_id\": \"AutoML_04db1331-2219-4eef-93bc-3b73ce29a4ec_32\", \"run_number\": 1683636937, \"metric\": null, \"status\": \"Completed\", \"run_type\": \"azureml.scriptrun\", \"training_percent\": \"100\", \"start_time\": \"2023-05-09T12:55:45.791156Z\", \"end_time\": \"2023-05-09T12:56:22.41593Z\", \"created_time\": \"2023-05-09T12:55:37.247436Z\", \"created_time_dt\": \"2023-05-09T12:55:37.247436Z\", \"duration\": \"0:00:45\", \"iteration\": \"32\", \"goal\": \"AUC_weighted_max\", \"run_name\": \"RobustScaler, RandomForest\", \"run_properties\": \"copy=True, quantile_range=[10, 90], with_centering=True,\\n             with_scaling=True\", \"primary_metric\": 0.98590998, \"best_metric\": 0.99492687}, {\"run_id\": \"AutoML_04db1331-2219-4eef-93bc-3b73ce29a4ec_33\", \"run_number\": 1683636944, \"metric\": null, \"status\": \"Completed\", \"run_type\": \"azureml.scriptrun\", \"training_percent\": \"100\", \"start_time\": \"2023-05-09T12:55:53.701614Z\", \"end_time\": \"2023-05-09T12:56:26.917791Z\", \"created_time\": \"2023-05-09T12:55:44.757724Z\", \"created_time_dt\": \"2023-05-09T12:55:44.757724Z\", \"duration\": \"0:00:42\", \"iteration\": \"33\", \"goal\": \"AUC_weighted_max\", \"run_name\": \"StandardScalerWrapper, XGBoostClassifier\", \"run_properties\": \"copy=True, with_mean=False, with_std=False\", \"primary_metric\": 0.99281839, \"best_metric\": 0.99492687}, {\"run_id\": \"AutoML_04db1331-2219-4eef-93bc-3b73ce29a4ec_34\", \"run_number\": 1683636950, \"metric\": null, \"status\": \"Completed\", \"run_type\": \"azureml.scriptrun\", \"training_percent\": \"100\", \"start_time\": \"2023-05-09T12:56:15.585836Z\", \"end_time\": \"2023-05-09T12:56:49.31982Z\", \"created_time\": \"2023-05-09T12:55:50.680513Z\", \"created_time_dt\": \"2023-05-09T12:55:50.680513Z\", \"duration\": \"0:00:58\", \"iteration\": \"34\", \"goal\": \"AUC_weighted_max\", \"run_name\": \"StandardScalerWrapper, LightGBM\", \"run_properties\": \"copy=True, with_mean=False, with_std=True\", \"primary_metric\": 0.99353303, \"best_metric\": 0.99492687}, {\"run_id\": \"AutoML_04db1331-2219-4eef-93bc-3b73ce29a4ec_35\", \"run_number\": 1683636974, \"metric\": null, \"status\": \"Completed\", \"run_type\": \"azureml.scriptrun\", \"training_percent\": \"100\", \"start_time\": \"2023-05-09T12:56:27.065771Z\", \"end_time\": \"2023-05-09T12:57:01.928902Z\", \"created_time\": \"2023-05-09T12:56:14.15535Z\", \"created_time_dt\": \"2023-05-09T12:56:14.15535Z\", \"duration\": \"0:00:47\", \"iteration\": \"35\", \"goal\": \"AUC_weighted_max\", \"run_name\": \"StandardScalerWrapper, XGBoostClassifier\", \"run_properties\": \"copy=True, with_mean=False, with_std=False\", \"primary_metric\": 0.99473472, \"best_metric\": 0.99492687}, {\"run_id\": \"AutoML_04db1331-2219-4eef-93bc-3b73ce29a4ec_36\", \"run_number\": 1683636984, \"metric\": null, \"status\": \"Completed\", \"run_type\": \"azureml.scriptrun\", \"training_percent\": \"100\", \"start_time\": \"2023-05-09T12:56:31.981344Z\", \"end_time\": \"2023-05-09T12:57:06.633527Z\", \"created_time\": \"2023-05-09T12:56:24.410003Z\", \"created_time_dt\": \"2023-05-09T12:56:24.410003Z\", \"duration\": \"0:00:42\", \"iteration\": \"36\", \"goal\": \"AUC_weighted_max\", \"run_name\": \"StandardScalerWrapper, XGBoostClassifier\", \"run_properties\": \"copy=True, with_mean=False, with_std=False\", \"primary_metric\": 0.99013651, \"best_metric\": 0.99492687}, {\"run_id\": \"AutoML_04db1331-2219-4eef-93bc-3b73ce29a4ec_37\", \"run_number\": 1683636988, \"metric\": null, \"status\": \"Completed\", \"run_type\": \"azureml.scriptrun\", \"training_percent\": \"100\", \"start_time\": \"2023-05-09T12:56:37.06945Z\", \"end_time\": \"2023-05-09T12:57:10.921945Z\", \"created_time\": \"2023-05-09T12:56:28.757268Z\", \"created_time_dt\": \"2023-05-09T12:56:28.757268Z\", \"duration\": \"0:00:42\", \"iteration\": \"37\", \"goal\": \"AUC_weighted_max\", \"run_name\": \"StandardScalerWrapper, XGBoostClassifier\", \"run_properties\": \"copy=True, with_mean=False, with_std=False\", \"primary_metric\": 0.99441048, \"best_metric\": 0.99492687}, {\"run_id\": \"AutoML_04db1331-2219-4eef-93bc-3b73ce29a4ec_38\", \"run_number\": 1683636993, \"metric\": null, \"status\": \"Completed\", \"run_type\": \"azureml.scriptrun\", \"training_percent\": \"100\", \"start_time\": \"2023-05-09T12:56:52.363707Z\", \"end_time\": \"2023-05-09T12:57:27.939038Z\", \"created_time\": \"2023-05-09T12:56:33.874596Z\", \"created_time_dt\": \"2023-05-09T12:56:33.874596Z\", \"duration\": \"0:00:54\", \"iteration\": \"38\", \"goal\": \"AUC_weighted_max\", \"run_name\": \"StandardScalerWrapper, XGBoostClassifier\", \"run_properties\": \"copy=True, with_mean=False, with_std=False\", \"primary_metric\": 0.99459166, \"best_metric\": 0.99492687}, {\"run_id\": \"AutoML_04db1331-2219-4eef-93bc-3b73ce29a4ec_39\", \"run_number\": 1683637011, \"metric\": null, \"status\": \"Completed\", \"run_type\": \"azureml.scriptrun\", \"training_percent\": \"100\", \"start_time\": \"2023-05-09T12:57:07.182283Z\", \"end_time\": \"2023-05-09T12:57:41.282204Z\", \"created_time\": \"2023-05-09T12:56:51.047254Z\", \"created_time_dt\": \"2023-05-09T12:56:51.047254Z\", \"duration\": \"0:00:50\", \"iteration\": \"39\", \"goal\": \"AUC_weighted_max\", \"run_name\": \"StandardScalerWrapper, XGBoostClassifier\", \"run_properties\": \"copy=True, with_mean=False, with_std=False\", \"primary_metric\": 0.98656074, \"best_metric\": 0.99492687}, {\"run_id\": \"AutoML_04db1331-2219-4eef-93bc-3b73ce29a4ec_40\", \"run_number\": 1683637025, \"metric\": null, \"status\": \"Completed\", \"run_type\": \"azureml.scriptrun\", \"training_percent\": \"100\", \"start_time\": \"2023-05-09T12:57:14.676201Z\", \"end_time\": \"2023-05-09T12:57:50.409939Z\", \"created_time\": \"2023-05-09T12:57:05.177466Z\", \"created_time_dt\": \"2023-05-09T12:57:05.177466Z\", \"duration\": \"0:00:45\", \"iteration\": \"40\", \"goal\": \"AUC_weighted_max\", \"run_name\": \"StandardScalerWrapper, XGBoostClassifier\", \"run_properties\": \"copy=True, with_mean=False, with_std=False\", \"primary_metric\": 0.97998733, \"best_metric\": 0.99492687}, {\"run_id\": \"AutoML_04db1331-2219-4eef-93bc-3b73ce29a4ec_41\", \"run_number\": 1683637028, \"metric\": null, \"status\": \"Completed\", \"run_type\": \"azureml.scriptrun\", \"training_percent\": \"100\", \"start_time\": \"2023-05-09T12:57:17.260057Z\", \"end_time\": \"2023-05-09T12:57:51.410085Z\", \"created_time\": \"2023-05-09T12:57:08.468048Z\", \"created_time_dt\": \"2023-05-09T12:57:08.468048Z\", \"duration\": \"0:00:42\", \"iteration\": \"41\", \"goal\": \"AUC_weighted_max\", \"run_name\": \"StandardScalerWrapper, XGBoostClassifier\", \"run_properties\": \"copy=True, with_mean=False, with_std=False\", \"primary_metric\": 0.99056385, \"best_metric\": 0.99492687}, {\"run_id\": \"AutoML_04db1331-2219-4eef-93bc-3b73ce29a4ec_42\", \"run_number\": 1683637032, \"metric\": null, \"status\": \"Completed\", \"run_type\": \"azureml.scriptrun\", \"training_percent\": \"100\", \"start_time\": \"2023-05-09T12:57:32.620906Z\", \"end_time\": \"2023-05-09T12:58:09.431953Z\", \"created_time\": \"2023-05-09T12:57:12.76256Z\", \"created_time_dt\": \"2023-05-09T12:57:12.76256Z\", \"duration\": \"0:00:56\", \"iteration\": \"42\", \"goal\": \"AUC_weighted_max\", \"run_name\": \"StandardScalerWrapper, XGBoostClassifier\", \"run_properties\": \"copy=True, with_mean=False, with_std=False\", \"primary_metric\": 0.99530341, \"best_metric\": 0.99530341}, {\"run_id\": \"AutoML_04db1331-2219-4eef-93bc-3b73ce29a4ec_43\", \"run_number\": 1683637049, \"metric\": null, \"status\": \"Completed\", \"run_type\": \"azureml.scriptrun\", \"training_percent\": \"100\", \"start_time\": \"2023-05-09T12:57:44.47232Z\", \"end_time\": \"2023-05-09T12:58:19.272439Z\", \"created_time\": \"2023-05-09T12:57:29.79098Z\", \"created_time_dt\": \"2023-05-09T12:57:29.79098Z\", \"duration\": \"0:00:49\", \"iteration\": \"43\", \"goal\": \"AUC_weighted_max\", \"run_name\": \"MaxAbsScaler, LightGBM\", \"run_properties\": \"copy=True\", \"primary_metric\": 0.99365012, \"best_metric\": 0.99530341}, {\"run_id\": \"AutoML_04db1331-2219-4eef-93bc-3b73ce29a4ec_44\", \"run_number\": 1683637063, \"metric\": null, \"status\": \"Completed\", \"run_type\": \"azureml.scriptrun\", \"training_percent\": \"100\", \"start_time\": \"2023-05-09T12:57:53.672038Z\", \"end_time\": \"2023-05-09T12:58:25.342926Z\", \"created_time\": \"2023-05-09T12:57:43.106345Z\", \"created_time_dt\": \"2023-05-09T12:57:43.106345Z\", \"duration\": \"0:00:42\", \"iteration\": \"44\", \"goal\": \"AUC_weighted_max\", \"run_name\": \"MaxAbsScaler, LightGBM\", \"run_properties\": \"copy=True\", \"primary_metric\": 0.99242529, \"best_metric\": 0.99530341}, {\"run_id\": \"AutoML_04db1331-2219-4eef-93bc-3b73ce29a4ec_45\", \"run_number\": 1683637072, \"metric\": null, \"status\": \"Completed\", \"run_type\": \"azureml.scriptrun\", \"training_percent\": \"100\", \"start_time\": \"2023-05-09T12:58:03.843018Z\", \"end_time\": \"2023-05-09T12:58:37.505484Z\", \"created_time\": \"2023-05-09T12:57:52.834552Z\", \"created_time_dt\": \"2023-05-09T12:57:52.834552Z\", \"duration\": \"0:00:44\", \"iteration\": \"45\", \"goal\": \"AUC_weighted_max\", \"run_name\": \"StandardScalerWrapper, XGBoostClassifier\", \"run_properties\": \"copy=True, with_mean=False, with_std=False\", \"primary_metric\": 0.98886303, \"best_metric\": 0.99530341}, {\"run_id\": \"AutoML_04db1331-2219-4eef-93bc-3b73ce29a4ec_46\", \"run_number\": 1683637075, \"metric\": null, \"status\": \"Completed\", \"run_type\": \"azureml.scriptrun\", \"training_percent\": \"100\", \"start_time\": \"2023-05-09T12:58:12.78231Z\", \"end_time\": \"2023-05-09T12:58:46.31808Z\", \"created_time\": \"2023-05-09T12:57:55.429307Z\", \"created_time_dt\": \"2023-05-09T12:57:55.429307Z\", \"duration\": \"0:00:50\", \"iteration\": \"46\", \"goal\": \"AUC_weighted_max\", \"run_name\": \"StandardScalerWrapper, LightGBM\", \"run_properties\": \"copy=True, with_mean=True, with_std=True\", \"primary_metric\": 0.99377, \"best_metric\": 0.99530341}, {\"run_id\": \"AutoML_04db1331-2219-4eef-93bc-3b73ce29a4ec_47\", \"run_number\": 1683637091, \"metric\": null, \"status\": \"Completed\", \"run_type\": \"azureml.scriptrun\", \"training_percent\": \"100\", \"start_time\": \"2023-05-09T12:58:23.806744Z\", \"end_time\": \"2023-05-09T12:58:57.332175Z\", \"created_time\": \"2023-05-09T12:58:11.167777Z\", \"created_time_dt\": \"2023-05-09T12:58:11.167777Z\", \"duration\": \"0:00:46\", \"iteration\": \"47\", \"goal\": \"AUC_weighted_max\", \"run_name\": \"StandardScalerWrapper, LightGBM\", \"run_properties\": \"copy=True, with_mean=False, with_std=True\", \"primary_metric\": 0.99423236, \"best_metric\": 0.99530341}, {\"run_id\": \"AutoML_04db1331-2219-4eef-93bc-3b73ce29a4ec_48\", \"run_number\": 1683637101, \"metric\": null, \"status\": \"Completed\", \"run_type\": \"azureml.scriptrun\", \"training_percent\": \"100\", \"start_time\": \"2023-05-09T12:58:29.741733Z\", \"end_time\": \"2023-05-09T12:59:03.565214Z\", \"created_time\": \"2023-05-09T12:58:21.035183Z\", \"created_time_dt\": \"2023-05-09T12:58:21.035183Z\", \"duration\": \"0:00:42\", \"iteration\": \"48\", \"goal\": \"AUC_weighted_max\", \"run_name\": \"StandardScalerWrapper, LightGBM\", \"run_properties\": \"copy=True, with_mean=False, with_std=False\", \"primary_metric\": 0.99399051, \"best_metric\": 0.99530341}, {\"run_id\": \"AutoML_04db1331-2219-4eef-93bc-3b73ce29a4ec_49\", \"run_number\": 1683637106, \"metric\": null, \"status\": \"Completed\", \"run_type\": \"azureml.scriptrun\", \"training_percent\": \"100\", \"start_time\": \"2023-05-09T12:58:41.956982Z\", \"end_time\": \"2023-05-09T12:59:14.658813Z\", \"created_time\": \"2023-05-09T12:58:26.9059Z\", \"created_time_dt\": \"2023-05-09T12:58:26.9059Z\", \"duration\": \"0:00:47\", \"iteration\": \"49\", \"goal\": \"AUC_weighted_max\", \"run_name\": \"RobustScaler, LightGBM\", \"run_properties\": \"copy=True, quantile_range=[10, 90], with_centering=False,\\n             with_scaling=False\", \"primary_metric\": 0.99400766, \"best_metric\": 0.99530341}, {\"run_id\": \"AutoML_04db1331-2219-4eef-93bc-3b73ce29a4ec_50\", \"run_number\": 1683637119, \"metric\": null, \"status\": \"Completed\", \"run_type\": \"azureml.scriptrun\", \"training_percent\": \"100\", \"start_time\": \"2023-05-09T12:58:50.903736Z\", \"end_time\": \"2023-05-09T12:59:28.03228Z\", \"created_time\": \"2023-05-09T12:58:39.888263Z\", \"created_time_dt\": \"2023-05-09T12:58:39.888263Z\", \"duration\": \"0:00:48\", \"iteration\": \"50\", \"goal\": \"AUC_weighted_max\", \"run_name\": \"StandardScalerWrapper, XGBoostClassifier\", \"run_properties\": \"copy=True, with_mean=False, with_std=False\", \"primary_metric\": 0.99081004, \"best_metric\": 0.99530341}, {\"run_id\": \"AutoML_04db1331-2219-4eef-93bc-3b73ce29a4ec_51\", \"run_number\": 1683637128, \"metric\": null, \"status\": \"Completed\", \"run_type\": \"azureml.scriptrun\", \"training_percent\": \"100\", \"start_time\": \"2023-05-09T12:59:00.383403Z\", \"end_time\": \"2023-05-09T12:59:32.66458Z\", \"created_time\": \"2023-05-09T12:58:48.015178Z\", \"created_time_dt\": \"2023-05-09T12:58:48.015178Z\", \"duration\": \"0:00:44\", \"iteration\": \"51\", \"goal\": \"AUC_weighted_max\", \"run_name\": \"StandardScalerWrapper, LightGBM\", \"run_properties\": \"copy=True, with_mean=True, with_std=False\", \"primary_metric\": 0.9929085, \"best_metric\": 0.99530341}, {\"run_id\": \"AutoML_04db1331-2219-4eef-93bc-3b73ce29a4ec_52\", \"run_number\": 1683637139, \"metric\": null, \"status\": \"Completed\", \"run_type\": \"azureml.scriptrun\", \"training_percent\": \"100\", \"start_time\": \"2023-05-09T12:59:09.180096Z\", \"end_time\": \"2023-05-09T12:59:41.265653Z\", \"created_time\": \"2023-05-09T12:58:58.993232Z\", \"created_time_dt\": \"2023-05-09T12:58:58.993232Z\", \"duration\": \"0:00:42\", \"iteration\": \"52\", \"goal\": \"AUC_weighted_max\", \"run_name\": \"MaxAbsScaler, LightGBM\", \"run_properties\": \"copy=True\", \"primary_metric\": 0.99346293, \"best_metric\": 0.99530341}, {\"run_id\": \"AutoML_04db1331-2219-4eef-93bc-3b73ce29a4ec_53\", \"run_number\": 1683637145, \"metric\": null, \"status\": \"Completed\", \"run_type\": \"azureml.scriptrun\", \"training_percent\": \"100\", \"start_time\": \"2023-05-09T12:59:18.168911Z\", \"end_time\": \"2023-05-09T13:00:04.058854Z\", \"created_time\": \"2023-05-09T12:59:05.253257Z\", \"created_time_dt\": \"2023-05-09T12:59:05.253257Z\", \"duration\": \"0:00:58\", \"iteration\": \"53\", \"goal\": \"AUC_weighted_max\", \"run_name\": \"StandardScalerWrapper, GradientBoosting\", \"run_properties\": \"copy=True, with_mean=False, with_std=False\", \"primary_metric\": 0.99426276, \"best_metric\": 0.99530341}, {\"run_id\": \"AutoML_04db1331-2219-4eef-93bc-3b73ce29a4ec_54\", \"run_number\": 1683637156, \"metric\": null, \"status\": \"Completed\", \"run_type\": \"azureml.scriptrun\", \"training_percent\": \"100\", \"start_time\": \"2023-05-09T12:59:33.518272Z\", \"end_time\": \"2023-05-09T13:00:08.981563Z\", \"created_time\": \"2023-05-09T12:59:16.332552Z\", \"created_time_dt\": \"2023-05-09T12:59:16.332552Z\", \"duration\": \"0:00:52\", \"iteration\": \"54\", \"goal\": \"AUC_weighted_max\", \"run_name\": \"StandardScalerWrapper, LightGBM\", \"run_properties\": \"copy=True, with_mean=False, with_std=True\", \"primary_metric\": 0.99337518, \"best_metric\": 0.99530341}, {\"run_id\": \"AutoML_04db1331-2219-4eef-93bc-3b73ce29a4ec_55\", \"run_number\": 1683637170, \"metric\": null, \"status\": \"Completed\", \"run_type\": \"azureml.scriptrun\", \"training_percent\": \"100\", \"start_time\": \"2023-05-09T12:59:38.665004Z\", \"end_time\": \"2023-05-09T13:00:12.563927Z\", \"created_time\": \"2023-05-09T12:59:30.615078Z\", \"created_time_dt\": \"2023-05-09T12:59:30.615078Z\", \"duration\": \"0:00:41\", \"iteration\": \"55\", \"goal\": \"AUC_weighted_max\", \"run_name\": \"PCA, XGBoostClassifier\", \"run_properties\": \"copy=True, iterated_power='auto', n_components=0.10894736842105263,\\n    random_state=None, svd_solver='auto', tol=0.0, whiten=False\", \"primary_metric\": 0.66160037, \"best_metric\": 0.99530341}, {\"run_id\": \"AutoML_04db1331-2219-4eef-93bc-3b73ce29a4ec_56\", \"run_number\": 1683637174, \"metric\": null, \"status\": \"Completed\", \"run_type\": \"azureml.scriptrun\", \"training_percent\": \"100\", \"start_time\": \"2023-05-09T12:59:45.190922Z\", \"end_time\": \"2023-05-09T13:00:24.121841Z\", \"created_time\": \"2023-05-09T12:59:34.301291Z\", \"created_time_dt\": \"2023-05-09T12:59:34.301291Z\", \"duration\": \"0:00:49\", \"iteration\": \"56\", \"goal\": \"AUC_weighted_max\", \"run_name\": \"StandardScalerWrapper, XGBoostClassifier\", \"run_properties\": \"copy=True, with_mean=False, with_std=False\", \"primary_metric\": 0.99508533, \"best_metric\": 0.99530341}, {\"run_id\": \"AutoML_04db1331-2219-4eef-93bc-3b73ce29a4ec_57\", \"run_number\": 1683637182, \"metric\": null, \"status\": \"Canceled\", \"run_type\": \"azureml.scriptrun\", \"training_percent\": \"100\", \"start_time\": \"2023-05-09T13:00:08.920216Z\", \"end_time\": \"2023-05-09T13:00:31.817632Z\", \"created_time\": \"2023-05-09T12:59:42.918158Z\", \"created_time_dt\": \"2023-05-09T12:59:42.918158Z\", \"duration\": \"0:00:48\", \"iteration\": \"57\", \"goal\": \"AUC_weighted_max\", \"run_name\": \"RobustScaler, LightGBM\", \"run_properties\": \"copy=True, quantile_range=[10, 90], with_centering=False,\\n             with_scaling=True\", \"primary_metric\": 0.99118176, \"best_metric\": 0.99530341}, {\"run_id\": \"AutoML_04db1331-2219-4eef-93bc-3b73ce29a4ec_58\", \"run_number\": 1683637205, \"metric\": null, \"status\": \"Canceled\", \"run_type\": \"azureml.scriptrun\", \"training_percent\": \"100\", \"start_time\": \"2023-05-09T13:00:17.003094Z\", \"end_time\": \"2023-05-09T13:00:31.484581Z\", \"created_time\": \"2023-05-09T13:00:05.915774Z\", \"created_time_dt\": \"2023-05-09T13:00:05.915774Z\", \"duration\": \"0:00:25\", \"iteration\": \"58\", \"goal\": null, \"run_name\": \"MaxAbsScaler, GradientBoosting\", \"run_properties\": null}, {\"run_id\": \"AutoML_04db1331-2219-4eef-93bc-3b73ce29a4ec_59\", \"run_number\": 1683637210, \"metric\": null, \"status\": \"Canceled\", \"run_type\": \"azureml.scriptrun\", \"training_percent\": \"100\", \"start_time\": \"2023-05-09T13:00:19.165865Z\", \"end_time\": \"2023-05-09T13:00:31.482536Z\", \"created_time\": \"2023-05-09T13:00:10.87747Z\", \"created_time_dt\": \"2023-05-09T13:00:10.87747Z\", \"duration\": \"0:00:20\", \"iteration\": \"59\", \"goal\": null, \"run_name\": \"Canceled\", \"run_properties\": null}, {\"run_id\": \"AutoML_04db1331-2219-4eef-93bc-3b73ce29a4ec_60\", \"run_number\": 1683637215, \"metric\": null, \"status\": \"Canceled\", \"run_type\": \"azureml.scriptrun\", \"training_percent\": \"100\", \"start_time\": \"2023-05-09T13:00:25.378066Z\", \"end_time\": \"2023-05-09T13:00:31.4776Z\", \"created_time\": \"2023-05-09T13:00:15.461134Z\", \"created_time_dt\": \"2023-05-09T13:00:15.461134Z\", \"duration\": \"0:00:16\", \"iteration\": \"60\", \"goal\": null, \"run_name\": \"Canceled\", \"run_properties\": null}, {\"run_id\": \"AutoML_04db1331-2219-4eef-93bc-3b73ce29a4ec_61\", \"run_number\": 1683637233, \"metric\": null, \"status\": \"Completed\", \"run_type\": \"azureml.scriptrun\", \"training_percent\": \"100\", \"start_time\": \"2023-05-09T13:00:40.881161Z\", \"end_time\": \"2023-05-09T13:02:19.368482Z\", \"created_time\": \"2023-05-09T13:00:33.170676Z\", \"created_time_dt\": \"2023-05-09T13:00:33.170676Z\", \"duration\": \"0:01:46\", \"iteration\": \"61\", \"goal\": \"AUC_weighted_max\", \"run_name\": \"VotingEnsemble\", \"run_properties\": \"classification_labels=numpy.array([0, 1]\", \"primary_metric\": 0.9970297, \"best_metric\": 0.9970297}], \"children_metrics\": {\"categories\": [0], \"series\": {\"recall_score_micro\": [{\"categories\": [\"0\", \"1\", \"5\", \"6\", \"9\", \"10\", \"13\", \"17\", \"22\", \"23\", \"25\", \"26\", \"27\", \"28\", \"29\", \"30\", \"31\", \"32\", \"33\", \"34\", \"35\", \"36\", \"37\", \"38\", \"39\", \"40\", \"41\", \"42\", \"43\", \"44\", \"45\", \"46\", \"47\", \"48\", \"49\", \"50\", \"51\", \"52\", \"53\", \"54\", \"55\", \"56\", \"57\", \"61\"], \"mode\": \"markers\", \"name\": \"recall_score_micro\", \"stepped\": false, \"type\": \"scatter\", \"data\": [0.9718045112781954, 0.9735902255639097, 0.7767230576441102, 0.9226190476190474, 0.93671679197995, 0.9453947368421053, 0.9085526315789473, 0.9683270676691729, 0.9542606516290727, 0.9577067669172932, 0.9613095238095237, 0.9595238095238094, 0.968295739348371, 0.9665726817042606, 0.9665413533834586, 0.9594924812030076, 0.9700814536340852, 0.9314536340852131, 0.9612781954887218, 0.9718358395989976, 0.9718358395989973, 0.9542919799498746, 0.9665413533834586, 0.968295739348371, 0.9490288220551377, 0.9402255639097744, 0.956015037593985, 0.9682644110275689, 0.9700501253132833, 0.9647556390977444, 0.9542919799498746, 0.9700187969924812, 0.9682644110275691, 0.9683270676691729, 0.9700814536340852, 0.9560463659147869, 0.9648182957393484, 0.9735588972431077, 0.9736215538847117, 0.968295739348371, 0.6625, 0.9752819548872182, 0.963032581453634, 0.982393483709273]}, {\"categories\": [\"0\", \"1\", \"5\", \"6\", \"9\", \"10\", \"13\", \"17\", \"22\", \"23\", \"25\", \"26\", \"27\", \"28\", \"29\", \"30\", \"31\", \"32\", \"33\", \"34\", \"35\", \"36\", \"37\", \"38\", \"39\", \"40\", \"41\", \"42\", \"43\", \"44\", \"45\", \"46\", \"47\", \"48\", \"49\", \"50\", \"51\", \"52\", \"53\", \"54\", \"55\", \"56\", \"57\", \"61\"], \"mode\": \"lines\", \"name\": \"recall_score_micro_max\", \"stepped\": true, \"type\": \"scatter\", \"data\": [0.9718045112781954, 0.9735902255639097, 0.9735902255639097, 0.9735902255639097, 0.9735902255639097, 0.9735902255639097, 0.9735902255639097, 0.9735902255639097, 0.9735902255639097, 0.9735902255639097, 0.9735902255639097, 0.9735902255639097, 0.9735902255639097, 0.9735902255639097, 0.9735902255639097, 0.9735902255639097, 0.9735902255639097, 0.9735902255639097, 0.9735902255639097, 0.9735902255639097, 0.9735902255639097, 0.9735902255639097, 0.9735902255639097, 0.9735902255639097, 0.9735902255639097, 0.9735902255639097, 0.9735902255639097, 0.9735902255639097, 0.9735902255639097, 0.9735902255639097, 0.9735902255639097, 0.9735902255639097, 0.9735902255639097, 0.9735902255639097, 0.9735902255639097, 0.9735902255639097, 0.9735902255639097, 0.9735902255639097, 0.9736215538847117, 0.9736215538847117, 0.9736215538847117, 0.9752819548872182, 0.9752819548872182, 0.982393483709273]}], \"log_loss\": [{\"categories\": [\"0\", \"1\", \"5\", \"6\", \"9\", \"10\", \"13\", \"17\", \"22\", \"23\", \"25\", \"26\", \"27\", \"28\", \"29\", \"30\", \"31\", \"32\", \"33\", \"34\", \"35\", \"36\", \"37\", \"38\", \"39\", \"40\", \"41\", \"42\", \"43\", \"44\", \"45\", \"46\", \"47\", \"48\", \"49\", \"50\", \"51\", \"52\", \"53\", \"54\", \"55\", \"56\", \"57\", \"61\"], \"mode\": \"markers\", \"name\": \"log_loss\", \"stepped\": false, \"type\": \"scatter\", \"data\": [0.11582809228903432, 0.08233195740831555, 0.4312858654010957, 0.18650833422300936, 0.22093214988151866, 0.820816288009593, 0.5870424275713396, 0.11741849444072076, 0.23392184754987927, 0.3145179301546138, 0.13103877295460925, 0.12371052498743591, 0.0843032540311274, 0.08995852227516324, 0.08035570735436706, 0.15052715893315885, 0.10973915424973661, 0.20917291531515173, 0.09486122363945397, 0.0840717590121512, 0.07770076597746259, 0.6178909856943938, 0.08422802695156144, 0.08409627567455742, 0.6254526764656366, 0.6595513993447909, 0.12658655580170064, 0.07283331090355194, 0.08299743954897355, 0.09918398138377496, 0.30690274515351346, 0.08313788285513594, 0.0812981584716281, 0.09767795727475657, 0.08208758637126276, 0.28270588302532634, 0.09433202608169941, 0.08219685973944718, 0.08572590075541928, 0.08558775845427058, 0.615176964841278, 0.07376781799016696, 0.14706027005362735, 0.10125785324674945]}, {\"categories\": [\"0\", \"1\", \"5\", \"6\", \"9\", \"10\", \"13\", \"17\", \"22\", \"23\", \"25\", \"26\", \"27\", \"28\", \"29\", \"30\", \"31\", \"32\", \"33\", \"34\", \"35\", \"36\", \"37\", \"38\", \"39\", \"40\", \"41\", \"42\", \"43\", \"44\", \"45\", \"46\", \"47\", \"48\", \"49\", \"50\", \"51\", \"52\", \"53\", \"54\", \"55\", \"56\", \"57\", \"61\"], \"mode\": \"lines\", \"name\": \"log_loss_min\", \"stepped\": true, \"type\": \"scatter\", \"data\": [0.11582809228903432, 0.08233195740831555, 0.08233195740831555, 0.08233195740831555, 0.08233195740831555, 0.08233195740831555, 0.08233195740831555, 0.08233195740831555, 0.08233195740831555, 0.08233195740831555, 0.08233195740831555, 0.08233195740831555, 0.08233195740831555, 0.08233195740831555, 0.08035570735436706, 0.08035570735436706, 0.08035570735436706, 0.08035570735436706, 0.08035570735436706, 0.08035570735436706, 0.07770076597746259, 0.07770076597746259, 0.07770076597746259, 0.07770076597746259, 0.07770076597746259, 0.07770076597746259, 0.07770076597746259, 0.07283331090355194, 0.07283331090355194, 0.07283331090355194, 0.07283331090355194, 0.07283331090355194, 0.07283331090355194, 0.07283331090355194, 0.07283331090355194, 0.07283331090355194, 0.07283331090355194, 0.07283331090355194, 0.07283331090355194, 0.07283331090355194, 0.07283331090355194, 0.07283331090355194, 0.07283331090355194, 0.07283331090355194]}], \"precision_score_micro\": [{\"categories\": [\"0\", \"1\", \"5\", \"6\", \"9\", \"10\", \"13\", \"17\", \"22\", \"23\", \"25\", \"26\", \"27\", \"28\", \"29\", \"30\", \"31\", \"32\", \"33\", \"34\", \"35\", \"36\", \"37\", \"38\", \"39\", \"40\", \"41\", \"42\", \"43\", \"44\", \"45\", \"46\", \"47\", \"48\", \"49\", \"50\", \"51\", \"52\", \"53\", \"54\", \"55\", \"56\", \"57\", \"61\"], \"mode\": \"markers\", \"name\": \"precision_score_micro\", \"stepped\": false, \"type\": \"scatter\", \"data\": [0.9718045112781954, 0.9735902255639097, 0.7767230576441102, 0.9226190476190474, 0.93671679197995, 0.9453947368421053, 0.9085526315789473, 0.9683270676691729, 0.9542606516290727, 0.9577067669172932, 0.9613095238095237, 0.9595238095238094, 0.968295739348371, 0.9665726817042606, 0.9665413533834586, 0.9594924812030076, 0.9700814536340852, 0.9314536340852131, 0.9612781954887218, 0.9718358395989976, 0.9718358395989973, 0.9542919799498746, 0.9665413533834586, 0.968295739348371, 0.9490288220551377, 0.9402255639097744, 0.956015037593985, 0.9682644110275689, 0.9700501253132833, 0.9647556390977444, 0.9542919799498746, 0.9700187969924812, 0.9682644110275691, 0.9683270676691729, 0.9700814536340852, 0.9560463659147869, 0.9648182957393484, 0.9735588972431077, 0.9736215538847117, 0.968295739348371, 0.6625, 0.9752819548872182, 0.963032581453634, 0.982393483709273]}, {\"categories\": [\"0\", \"1\", \"5\", \"6\", \"9\", \"10\", \"13\", \"17\", \"22\", \"23\", \"25\", \"26\", \"27\", \"28\", \"29\", \"30\", \"31\", \"32\", \"33\", \"34\", \"35\", \"36\", \"37\", \"38\", \"39\", \"40\", \"41\", \"42\", \"43\", \"44\", \"45\", \"46\", \"47\", \"48\", \"49\", \"50\", \"51\", \"52\", \"53\", \"54\", \"55\", \"56\", \"57\", \"61\"], \"mode\": \"lines\", \"name\": \"precision_score_micro_max\", \"stepped\": true, \"type\": \"scatter\", \"data\": [0.9718045112781954, 0.9735902255639097, 0.9735902255639097, 0.9735902255639097, 0.9735902255639097, 0.9735902255639097, 0.9735902255639097, 0.9735902255639097, 0.9735902255639097, 0.9735902255639097, 0.9735902255639097, 0.9735902255639097, 0.9735902255639097, 0.9735902255639097, 0.9735902255639097, 0.9735902255639097, 0.9735902255639097, 0.9735902255639097, 0.9735902255639097, 0.9735902255639097, 0.9735902255639097, 0.9735902255639097, 0.9735902255639097, 0.9735902255639097, 0.9735902255639097, 0.9735902255639097, 0.9735902255639097, 0.9735902255639097, 0.9735902255639097, 0.9735902255639097, 0.9735902255639097, 0.9735902255639097, 0.9735902255639097, 0.9735902255639097, 0.9735902255639097, 0.9735902255639097, 0.9735902255639097, 0.9735902255639097, 0.9736215538847117, 0.9736215538847117, 0.9736215538847117, 0.9752819548872182, 0.9752819548872182, 0.982393483709273]}], \"accuracy\": [{\"categories\": [\"0\", \"1\", \"5\", \"6\", \"9\", \"10\", \"13\", \"17\", \"22\", \"23\", \"25\", \"26\", \"27\", \"28\", \"29\", \"30\", \"31\", \"32\", \"33\", \"34\", \"35\", \"36\", \"37\", \"38\", \"39\", \"40\", \"41\", \"42\", \"43\", \"44\", \"45\", \"46\", \"47\", \"48\", \"49\", \"50\", \"51\", \"52\", \"53\", \"54\", \"55\", \"56\", \"57\", \"61\"], \"mode\": \"markers\", \"name\": \"accuracy\", \"stepped\": false, \"type\": \"scatter\", \"data\": [0.9718045112781954, 0.9735902255639097, 0.7767230576441102, 0.9226190476190474, 0.93671679197995, 0.9453947368421053, 0.9085526315789473, 0.9683270676691729, 0.9542606516290727, 0.9577067669172932, 0.9613095238095237, 0.9595238095238094, 0.968295739348371, 0.9665726817042606, 0.9665413533834586, 0.9594924812030076, 0.9700814536340852, 0.9314536340852131, 0.9612781954887218, 0.9718358395989976, 0.9718358395989973, 0.9542919799498746, 0.9665413533834586, 0.968295739348371, 0.9490288220551377, 0.9402255639097744, 0.956015037593985, 0.9682644110275689, 0.9700501253132833, 0.9647556390977444, 0.9542919799498746, 0.9700187969924812, 0.9682644110275691, 0.9683270676691729, 0.9700814536340852, 0.9560463659147869, 0.9648182957393484, 0.9735588972431077, 0.9736215538847117, 0.968295739348371, 0.6625, 0.9752819548872182, 0.963032581453634, 0.982393483709273]}, {\"categories\": [\"0\", \"1\", \"5\", \"6\", \"9\", \"10\", \"13\", \"17\", \"22\", \"23\", \"25\", \"26\", \"27\", \"28\", \"29\", \"30\", \"31\", \"32\", \"33\", \"34\", \"35\", \"36\", \"37\", \"38\", \"39\", \"40\", \"41\", \"42\", \"43\", \"44\", \"45\", \"46\", \"47\", \"48\", \"49\", \"50\", \"51\", \"52\", \"53\", \"54\", \"55\", \"56\", \"57\", \"61\"], \"mode\": \"lines\", \"name\": \"accuracy_max\", \"stepped\": true, \"type\": \"scatter\", \"data\": [0.9718045112781954, 0.9735902255639097, 0.9735902255639097, 0.9735902255639097, 0.9735902255639097, 0.9735902255639097, 0.9735902255639097, 0.9735902255639097, 0.9735902255639097, 0.9735902255639097, 0.9735902255639097, 0.9735902255639097, 0.9735902255639097, 0.9735902255639097, 0.9735902255639097, 0.9735902255639097, 0.9735902255639097, 0.9735902255639097, 0.9735902255639097, 0.9735902255639097, 0.9735902255639097, 0.9735902255639097, 0.9735902255639097, 0.9735902255639097, 0.9735902255639097, 0.9735902255639097, 0.9735902255639097, 0.9735902255639097, 0.9735902255639097, 0.9735902255639097, 0.9735902255639097, 0.9735902255639097, 0.9735902255639097, 0.9735902255639097, 0.9735902255639097, 0.9735902255639097, 0.9735902255639097, 0.9735902255639097, 0.9736215538847117, 0.9736215538847117, 0.9736215538847117, 0.9752819548872182, 0.9752819548872182, 0.982393483709273]}], \"weighted_accuracy\": [{\"categories\": [\"0\", \"1\", \"5\", \"6\", \"9\", \"10\", \"13\", \"17\", \"22\", \"23\", \"25\", \"26\", \"27\", \"28\", \"29\", \"30\", \"31\", \"32\", \"33\", \"34\", \"35\", \"36\", \"37\", \"38\", \"39\", \"40\", \"41\", \"42\", \"43\", \"44\", \"45\", \"46\", \"47\", \"48\", \"49\", \"50\", \"51\", \"52\", \"53\", \"54\", \"55\", \"56\", \"57\", \"61\"], \"mode\": \"markers\", \"name\": \"weighted_accuracy\", \"stepped\": false, \"type\": \"scatter\", \"data\": [0.9759957863507023, 0.9766120193540386, 0.8326495246882502, 0.9291802065369321, 0.9379390758904653, 0.9459142221934826, 0.9198992787944947, 0.9702219846938662, 0.9611882273888472, 0.9587091340938377, 0.9622376249741299, 0.9659934334598725, 0.9701082753788484, 0.9720133259217419, 0.9701546603528103, 0.9640312815086742, 0.9757169904135532, 0.9307420903973579, 0.9651743269963337, 0.9749827692822643, 0.974608309078749, 0.9581317404872227, 0.9698686008798584, 0.9736039366069168, 0.9527220062563229, 0.9445570661726549, 0.9597737335245237, 0.9730342933950784, 0.9739042091884638, 0.9678291734013207, 0.9589451893837309, 0.9716801812546378, 0.9725527883153642, 0.9726220486320507, 0.9733818136043503, 0.9600757716335895, 0.9687946690290484, 0.9750422593316987, 0.9785034836113684, 0.9706798948841211, 0.713205342756184, 0.9789477218868365, 0.9692932573166437, 0.9855823082884321]}, {\"categories\": [\"0\", \"1\", \"5\", \"6\", \"9\", \"10\", \"13\", \"17\", \"22\", \"23\", \"25\", \"26\", \"27\", \"28\", \"29\", \"30\", \"31\", \"32\", \"33\", \"34\", \"35\", \"36\", \"37\", \"38\", \"39\", \"40\", \"41\", \"42\", \"43\", \"44\", \"45\", \"46\", \"47\", \"48\", \"49\", \"50\", \"51\", \"52\", \"53\", \"54\", \"55\", \"56\", \"57\", \"61\"], \"mode\": \"lines\", \"name\": \"weighted_accuracy_max\", \"stepped\": true, \"type\": \"scatter\", \"data\": [0.9759957863507023, 0.9766120193540386, 0.9766120193540386, 0.9766120193540386, 0.9766120193540386, 0.9766120193540386, 0.9766120193540386, 0.9766120193540386, 0.9766120193540386, 0.9766120193540386, 0.9766120193540386, 0.9766120193540386, 0.9766120193540386, 0.9766120193540386, 0.9766120193540386, 0.9766120193540386, 0.9766120193540386, 0.9766120193540386, 0.9766120193540386, 0.9766120193540386, 0.9766120193540386, 0.9766120193540386, 0.9766120193540386, 0.9766120193540386, 0.9766120193540386, 0.9766120193540386, 0.9766120193540386, 0.9766120193540386, 0.9766120193540386, 0.9766120193540386, 0.9766120193540386, 0.9766120193540386, 0.9766120193540386, 0.9766120193540386, 0.9766120193540386, 0.9766120193540386, 0.9766120193540386, 0.9766120193540386, 0.9785034836113684, 0.9785034836113684, 0.9785034836113684, 0.9789477218868365, 0.9789477218868365, 0.9855823082884321]}], \"recall_score_weighted\": [{\"categories\": [\"0\", \"1\", \"5\", \"6\", \"9\", \"10\", \"13\", \"17\", \"22\", \"23\", \"25\", \"26\", \"27\", \"28\", \"29\", \"30\", \"31\", \"32\", \"33\", \"34\", \"35\", \"36\", \"37\", \"38\", \"39\", \"40\", \"41\", \"42\", \"43\", \"44\", \"45\", \"46\", \"47\", \"48\", \"49\", \"50\", \"51\", \"52\", \"53\", \"54\", \"55\", \"56\", \"57\", \"61\"], \"mode\": \"markers\", \"name\": \"recall_score_weighted\", \"stepped\": false, \"type\": \"scatter\", \"data\": [0.9718045112781954, 0.9735902255639097, 0.7767230576441102, 0.9226190476190474, 0.93671679197995, 0.9453947368421053, 0.9085526315789473, 0.9683270676691729, 0.9542606516290727, 0.9577067669172932, 0.9613095238095237, 0.9595238095238094, 0.968295739348371, 0.9665726817042606, 0.9665413533834586, 0.9594924812030076, 0.9700814536340852, 0.9314536340852131, 0.9612781954887218, 0.9718358395989976, 0.9718358395989973, 0.9542919799498746, 0.9665413533834586, 0.968295739348371, 0.9490288220551377, 0.9402255639097744, 0.956015037593985, 0.9682644110275689, 0.9700501253132833, 0.9647556390977444, 0.9542919799498746, 0.9700187969924812, 0.9682644110275691, 0.9683270676691729, 0.9700814536340852, 0.9560463659147869, 0.9648182957393484, 0.9735588972431077, 0.9736215538847117, 0.968295739348371, 0.6625, 0.9752819548872182, 0.963032581453634, 0.982393483709273]}, {\"categories\": [\"0\", \"1\", \"5\", \"6\", \"9\", \"10\", \"13\", \"17\", \"22\", \"23\", \"25\", \"26\", \"27\", \"28\", \"29\", \"30\", \"31\", \"32\", \"33\", \"34\", \"35\", \"36\", \"37\", \"38\", \"39\", \"40\", \"41\", \"42\", \"43\", \"44\", \"45\", \"46\", \"47\", \"48\", \"49\", \"50\", \"51\", \"52\", \"53\", \"54\", \"55\", \"56\", \"57\", \"61\"], \"mode\": \"lines\", \"name\": \"recall_score_weighted_max\", \"stepped\": true, \"type\": \"scatter\", \"data\": [0.9718045112781954, 0.9735902255639097, 0.9735902255639097, 0.9735902255639097, 0.9735902255639097, 0.9735902255639097, 0.9735902255639097, 0.9735902255639097, 0.9735902255639097, 0.9735902255639097, 0.9735902255639097, 0.9735902255639097, 0.9735902255639097, 0.9735902255639097, 0.9735902255639097, 0.9735902255639097, 0.9735902255639097, 0.9735902255639097, 0.9735902255639097, 0.9735902255639097, 0.9735902255639097, 0.9735902255639097, 0.9735902255639097, 0.9735902255639097, 0.9735902255639097, 0.9735902255639097, 0.9735902255639097, 0.9735902255639097, 0.9735902255639097, 0.9735902255639097, 0.9735902255639097, 0.9735902255639097, 0.9735902255639097, 0.9735902255639097, 0.9735902255639097, 0.9735902255639097, 0.9735902255639097, 0.9735902255639097, 0.9736215538847117, 0.9736215538847117, 0.9736215538847117, 0.9752819548872182, 0.9752819548872182, 0.982393483709273]}], \"norm_macro_recall\": [{\"categories\": [\"0\", \"1\", \"5\", \"6\", \"9\", \"10\", \"13\", \"17\", \"22\", \"23\", \"25\", \"26\", \"27\", \"28\", \"29\", \"30\", \"31\", \"32\", \"33\", \"34\", \"35\", \"36\", \"37\", \"38\", \"39\", \"40\", \"41\", \"42\", \"43\", \"44\", \"45\", \"46\", \"47\", \"48\", \"49\", \"50\", \"51\", \"52\", \"53\", \"54\", \"55\", \"56\", \"57\", \"61\"], \"mode\": \"markers\", \"name\": \"norm_macro_recall\", \"stepped\": false, \"type\": \"scatter\", \"data\": [0.9329846042704097, 0.9399290818951943, 0.4182024103021546, 0.8265710567822996, 0.870121990539755, 0.8903291660004472, 0.7866736678328007, 0.9317988672246242, 0.8919786685688219, 0.9136632029486144, 0.9198589349649987, 0.9028510435997648, 0.9317568854435118, 0.9196472967233837, 0.924422520638559, 0.90858726051614, 0.9259729255196009, 0.8647402975779158, 0.913103215050711, 0.9356095018953076, 0.9367703467255154, 0.8986640905637071, 0.9243995486265307, 0.9235284810751562, 0.8892514015408949, 0.8694968565138002, 0.902873036022578, 0.9246170410939488, 0.9302819015677072, 0.9221442651505847, 0.8968437408021808, 0.9359057913826991, 0.9259941150004345, 0.9258574543529787, 0.932225096970547, 0.9018437408021807, 0.9201745681808877, 0.9433786174696556, 0.9346685776935137, 0.9306673176148136, 0.20089341644419562, 0.9421652562413432, 0.9108662500117102, 0.9562746620387286]}, {\"categories\": [\"0\", \"1\", \"5\", \"6\", \"9\", \"10\", \"13\", \"17\", \"22\", \"23\", \"25\", \"26\", \"27\", \"28\", \"29\", \"30\", \"31\", \"32\", \"33\", \"34\", \"35\", \"36\", \"37\", \"38\", \"39\", \"40\", \"41\", \"42\", \"43\", \"44\", \"45\", \"46\", \"47\", \"48\", \"49\", \"50\", \"51\", \"52\", \"53\", \"54\", \"55\", \"56\", \"57\", \"61\"], \"mode\": \"lines\", \"name\": \"norm_macro_recall_max\", \"stepped\": true, \"type\": \"scatter\", \"data\": [0.9329846042704097, 0.9399290818951943, 0.9399290818951943, 0.9399290818951943, 0.9399290818951943, 0.9399290818951943, 0.9399290818951943, 0.9399290818951943, 0.9399290818951943, 0.9399290818951943, 0.9399290818951943, 0.9399290818951943, 0.9399290818951943, 0.9399290818951943, 0.9399290818951943, 0.9399290818951943, 0.9399290818951943, 0.9399290818951943, 0.9399290818951943, 0.9399290818951943, 0.9399290818951943, 0.9399290818951943, 0.9399290818951943, 0.9399290818951943, 0.9399290818951943, 0.9399290818951943, 0.9399290818951943, 0.9399290818951943, 0.9399290818951943, 0.9399290818951943, 0.9399290818951943, 0.9399290818951943, 0.9399290818951943, 0.9399290818951943, 0.9399290818951943, 0.9399290818951943, 0.9399290818951943, 0.9433786174696556, 0.9433786174696556, 0.9433786174696556, 0.9433786174696556, 0.9433786174696556, 0.9433786174696556, 0.9562746620387286]}], \"matthews_correlation\": [{\"categories\": [\"0\", \"1\", \"5\", \"6\", \"9\", \"10\", \"13\", \"17\", \"22\", \"23\", \"25\", \"26\", \"27\", \"28\", \"29\", \"30\", \"31\", \"32\", \"33\", \"34\", \"35\", \"36\", \"37\", \"38\", \"39\", \"40\", \"41\", \"42\", \"43\", \"44\", \"45\", \"46\", \"47\", \"48\", \"49\", \"50\", \"51\", \"52\", \"53\", \"54\", \"55\", \"56\", \"57\", \"61\"], \"mode\": \"markers\", \"name\": \"matthews_correlation\", \"stepped\": false, \"type\": \"scatter\", \"data\": [0.9402815986468303, 0.9452091546667767, 0.5354254511119843, 0.8325568402161325, 0.8686007864508852, 0.8848467323151057, 0.8049656113456958, 0.931927972608468, 0.9041862973251863, 0.9105916851511138, 0.9174147022852639, 0.9146125663781273, 0.9319455968514531, 0.929361031171654, 0.9286875920258106, 0.9126938848158446, 0.9369510875288368, 0.8561869783223546, 0.9174417350207087, 0.9408710614912087, 0.9395517242520472, 0.9038082142817929, 0.929596588555256, 0.933763887900653, 0.8913117113135238, 0.8758371118933417, 0.906292889413862, 0.9316954688295838, 0.9363119528151035, 0.9244317589134144, 0.9040328681165481, 0.9359062155005597, 0.9314541866698869, 0.9330928475441645, 0.9360320817932003, 0.907966238425224, 0.925484669389306, 0.9427369579721352, 0.9440523470047246, 0.9318931133418535, 0.24259290728821195, 0.9484146151392903, 0.9225227041535318, 0.9628508423823933]}, {\"categories\": [\"0\", \"1\", \"5\", \"6\", \"9\", \"10\", \"13\", \"17\", \"22\", \"23\", \"25\", \"26\", \"27\", \"28\", \"29\", \"30\", \"31\", \"32\", \"33\", \"34\", \"35\", \"36\", \"37\", \"38\", \"39\", \"40\", \"41\", \"42\", \"43\", \"44\", \"45\", \"46\", \"47\", \"48\", \"49\", \"50\", \"51\", \"52\", \"53\", \"54\", \"55\", \"56\", \"57\", \"61\"], \"mode\": \"lines\", \"name\": \"matthews_correlation_max\", \"stepped\": true, \"type\": \"scatter\", \"data\": [0.9402815986468303, 0.9452091546667767, 0.9452091546667767, 0.9452091546667767, 0.9452091546667767, 0.9452091546667767, 0.9452091546667767, 0.9452091546667767, 0.9452091546667767, 0.9452091546667767, 0.9452091546667767, 0.9452091546667767, 0.9452091546667767, 0.9452091546667767, 0.9452091546667767, 0.9452091546667767, 0.9452091546667767, 0.9452091546667767, 0.9452091546667767, 0.9452091546667767, 0.9452091546667767, 0.9452091546667767, 0.9452091546667767, 0.9452091546667767, 0.9452091546667767, 0.9452091546667767, 0.9452091546667767, 0.9452091546667767, 0.9452091546667767, 0.9452091546667767, 0.9452091546667767, 0.9452091546667767, 0.9452091546667767, 0.9452091546667767, 0.9452091546667767, 0.9452091546667767, 0.9452091546667767, 0.9452091546667767, 0.9452091546667767, 0.9452091546667767, 0.9452091546667767, 0.9484146151392903, 0.9484146151392903, 0.9628508423823933]}], \"average_precision_score_weighted\": [{\"categories\": [\"0\", \"1\", \"5\", \"6\", \"9\", \"10\", \"13\", \"17\", \"22\", \"23\", \"25\", \"26\", \"27\", \"28\", \"29\", \"30\", \"31\", \"32\", \"33\", \"34\", \"35\", \"36\", \"37\", \"38\", \"39\", \"40\", \"41\", \"42\", \"43\", \"44\", \"45\", \"46\", \"47\", \"48\", \"49\", \"50\", \"51\", \"52\", \"53\", \"54\", \"55\", \"56\", \"57\", \"61\"], \"mode\": \"markers\", \"name\": \"average_precision_score_weighted\", \"stepped\": false, \"type\": \"scatter\", \"data\": [0.9952243635724649, 0.9950914703047801, 0.9094913592398175, 0.9838151933144557, 0.9805059241825376, 0.982132792723674, 0.9632320696302772, 0.9931008154194567, 0.9907773063546749, 0.9823032050381684, 0.9919812528222479, 0.9908249391887892, 0.994812302486707, 0.9942788729108635, 0.9954311644690307, 0.9906662984835874, 0.9950686291126246, 0.9861433802475116, 0.9935478242930209, 0.9942783432453581, 0.9952423807846257, 0.9910624615889816, 0.9949669113375981, 0.9951049856616783, 0.987229813147516, 0.9798665692564998, 0.991952090288611, 0.9957388044060629, 0.9942499276757373, 0.9933092276194897, 0.9901147265298299, 0.9945412134265169, 0.9947672155953985, 0.9945922438538866, 0.9946549071573468, 0.9914897920234541, 0.9936423995223791, 0.9942576037805162, 0.9947576681292365, 0.994170658763695, 0.6996474595395697, 0.9954818105371436, 0.9907776424736262, 0.9973250077446478]}, {\"categories\": [\"0\", \"1\", \"5\", \"6\", \"9\", \"10\", \"13\", \"17\", \"22\", \"23\", \"25\", \"26\", \"27\", \"28\", \"29\", \"30\", \"31\", \"32\", \"33\", \"34\", \"35\", \"36\", \"37\", \"38\", \"39\", \"40\", \"41\", \"42\", \"43\", \"44\", \"45\", \"46\", \"47\", \"48\", \"49\", \"50\", \"51\", \"52\", \"53\", \"54\", \"55\", \"56\", \"57\", \"61\"], \"mode\": \"lines\", \"name\": \"average_precision_score_weighted_max\", \"stepped\": true, \"type\": \"scatter\", \"data\": [0.9952243635724649, 0.9952243635724649, 0.9952243635724649, 0.9952243635724649, 0.9952243635724649, 0.9952243635724649, 0.9952243635724649, 0.9952243635724649, 0.9952243635724649, 0.9952243635724649, 0.9952243635724649, 0.9952243635724649, 0.9952243635724649, 0.9952243635724649, 0.9954311644690307, 0.9954311644690307, 0.9954311644690307, 0.9954311644690307, 0.9954311644690307, 0.9954311644690307, 0.9954311644690307, 0.9954311644690307, 0.9954311644690307, 0.9954311644690307, 0.9954311644690307, 0.9954311644690307, 0.9954311644690307, 0.9957388044060629, 0.9957388044060629, 0.9957388044060629, 0.9957388044060629, 0.9957388044060629, 0.9957388044060629, 0.9957388044060629, 0.9957388044060629, 0.9957388044060629, 0.9957388044060629, 0.9957388044060629, 0.9957388044060629, 0.9957388044060629, 0.9957388044060629, 0.9957388044060629, 0.9957388044060629, 0.9973250077446478]}], \"precision_score_weighted\": [{\"categories\": [\"0\", \"1\", \"5\", \"6\", \"9\", \"10\", \"13\", \"17\", \"22\", \"23\", \"25\", \"26\", \"27\", \"28\", \"29\", \"30\", \"31\", \"32\", \"33\", \"34\", \"35\", \"36\", \"37\", \"38\", \"39\", \"40\", \"41\", \"42\", \"43\", \"44\", \"45\", \"46\", \"47\", \"48\", \"49\", \"50\", \"51\", \"52\", \"53\", \"54\", \"55\", \"56\", \"57\", \"61\"], \"mode\": \"markers\", \"name\": \"precision_score_weighted\", \"stepped\": false, \"type\": \"scatter\", \"data\": [0.9727408024985478, 0.9748918012624154, 0.8225123552186933, 0.9251886895419, 0.9407322778482294, 0.9469747095043793, 0.9145316881157222, 0.9692369431754481, 0.9568990211154832, 0.9587781328946743, 0.9628139996472415, 0.961492938686972, 0.9692029966601879, 0.9682495666377247, 0.9683160604213235, 0.9605098462248739, 0.9715949954967359, 0.9360870968713957, 0.9629957932161425, 0.9733099091437826, 0.9735446834679291, 0.9562150717719978, 0.9678418885470021, 0.9697943141364194, 0.9518985634469214, 0.9438557538175166, 0.9574619078269938, 0.969298973038008, 0.9707716167135725, 0.9657393925070517, 0.9570595720289827, 0.9709064841087782, 0.9691786879488491, 0.9697283754641788, 0.9713641916844825, 0.9586407510397823, 0.9669151639574227, 0.9740250032691662, 0.9747841627789482, 0.9688510275561413, 0.6659612801848542, 0.9762942389806424, 0.9649802276793696, 0.983250633845872]}, {\"categories\": [\"0\", \"1\", \"5\", \"6\", \"9\", \"10\", \"13\", \"17\", \"22\", \"23\", \"25\", \"26\", \"27\", \"28\", \"29\", \"30\", \"31\", \"32\", \"33\", \"34\", \"35\", \"36\", \"37\", \"38\", \"39\", \"40\", \"41\", \"42\", \"43\", \"44\", \"45\", \"46\", \"47\", \"48\", \"49\", \"50\", \"51\", \"52\", \"53\", \"54\", \"55\", \"56\", \"57\", \"61\"], \"mode\": \"lines\", \"name\": \"precision_score_weighted_max\", \"stepped\": true, \"type\": \"scatter\", \"data\": [0.9727408024985478, 0.9748918012624154, 0.9748918012624154, 0.9748918012624154, 0.9748918012624154, 0.9748918012624154, 0.9748918012624154, 0.9748918012624154, 0.9748918012624154, 0.9748918012624154, 0.9748918012624154, 0.9748918012624154, 0.9748918012624154, 0.9748918012624154, 0.9748918012624154, 0.9748918012624154, 0.9748918012624154, 0.9748918012624154, 0.9748918012624154, 0.9748918012624154, 0.9748918012624154, 0.9748918012624154, 0.9748918012624154, 0.9748918012624154, 0.9748918012624154, 0.9748918012624154, 0.9748918012624154, 0.9748918012624154, 0.9748918012624154, 0.9748918012624154, 0.9748918012624154, 0.9748918012624154, 0.9748918012624154, 0.9748918012624154, 0.9748918012624154, 0.9748918012624154, 0.9748918012624154, 0.9748918012624154, 0.9748918012624154, 0.9748918012624154, 0.9748918012624154, 0.9762942389806424, 0.9762942389806424, 0.983250633845872]}], \"average_precision_score_micro\": [{\"categories\": [\"0\", \"1\", \"5\", \"6\", \"9\", \"10\", \"13\", \"17\", \"22\", \"23\", \"25\", \"26\", \"27\", \"28\", \"29\", \"30\", \"31\", \"32\", \"33\", \"34\", \"35\", \"36\", \"37\", \"38\", \"39\", \"40\", \"41\", \"42\", \"43\", \"44\", \"45\", \"46\", \"47\", \"48\", \"49\", \"50\", \"51\", \"52\", \"53\", \"54\", \"55\", \"56\", \"57\", \"61\"], \"mode\": \"markers\", \"name\": \"average_precision_score_micro\", \"stepped\": false, \"type\": \"scatter\", \"data\": [0.9947184153763621, 0.9950993723039497, 0.8847105888113387, 0.9837137743035299, 0.9810737677061976, 0.9823587651630072, 0.9612417890697914, 0.9930167482482, 0.9870356828197208, 0.9839892989412438, 0.9916582602598044, 0.9906464657045575, 0.995262961686762, 0.9938803944554306, 0.9951561960412688, 0.9894778353741082, 0.9948361476860818, 0.9832038922130003, 0.9935185050742579, 0.994633768682754, 0.995557383422652, 0.9895514943528256, 0.9946721571443659, 0.9947740358641383, 0.9837903858200173, 0.9771110428829093, 0.9912486401268611, 0.9959936923182738, 0.9946663936701936, 0.9930056225287636, 0.988528819417521, 0.9949586133367951, 0.9948016559310169, 0.993626261901585, 0.994580139339669, 0.9897784911453502, 0.9931481788197729, 0.9948858495342099, 0.9943756437436473, 0.9943528950543096, 0.7210684017621991, 0.9957370127640359, 0.9879057796514022, 0.9969485499951599]}, {\"categories\": [\"0\", \"1\", \"5\", \"6\", \"9\", \"10\", \"13\", \"17\", \"22\", \"23\", \"25\", \"26\", \"27\", \"28\", \"29\", \"30\", \"31\", \"32\", \"33\", \"34\", \"35\", \"36\", \"37\", \"38\", \"39\", \"40\", \"41\", \"42\", \"43\", \"44\", \"45\", \"46\", \"47\", \"48\", \"49\", \"50\", \"51\", \"52\", \"53\", \"54\", \"55\", \"56\", \"57\", \"61\"], \"mode\": \"lines\", \"name\": \"average_precision_score_micro_max\", \"stepped\": true, \"type\": \"scatter\", \"data\": [0.9947184153763621, 0.9950993723039497, 0.9950993723039497, 0.9950993723039497, 0.9950993723039497, 0.9950993723039497, 0.9950993723039497, 0.9950993723039497, 0.9950993723039497, 0.9950993723039497, 0.9950993723039497, 0.9950993723039497, 0.995262961686762, 0.995262961686762, 0.995262961686762, 0.995262961686762, 0.995262961686762, 0.995262961686762, 0.995262961686762, 0.995262961686762, 0.995557383422652, 0.995557383422652, 0.995557383422652, 0.995557383422652, 0.995557383422652, 0.995557383422652, 0.995557383422652, 0.9959936923182738, 0.9959936923182738, 0.9959936923182738, 0.9959936923182738, 0.9959936923182738, 0.9959936923182738, 0.9959936923182738, 0.9959936923182738, 0.9959936923182738, 0.9959936923182738, 0.9959936923182738, 0.9959936923182738, 0.9959936923182738, 0.9959936923182738, 0.9959936923182738, 0.9959936923182738, 0.9969485499951599]}], \"AUC_micro\": [{\"categories\": [\"0\", \"1\", \"5\", \"6\", \"9\", \"10\", \"13\", \"17\", \"22\", \"23\", \"25\", \"26\", \"27\", \"28\", \"29\", \"30\", \"31\", \"32\", \"33\", \"34\", \"35\", \"36\", \"37\", \"38\", \"39\", \"40\", \"41\", \"42\", \"43\", \"44\", \"45\", \"46\", \"47\", \"48\", \"49\", \"50\", \"51\", \"52\", \"53\", \"54\", \"55\", \"56\", \"57\", \"61\"], \"mode\": \"markers\", \"name\": \"AUC_micro\", \"stepped\": false, \"type\": \"scatter\", \"data\": [0.9944681566070563, 0.9950013760120854, 0.879484238870987, 0.9831135934290615, 0.9826042235915603, 0.9849134653284214, 0.9663319973649662, 0.9927323497496875, 0.987034688067286, 0.9869135263754625, 0.9914241175463723, 0.9904533420016204, 0.9952157178660939, 0.9938889065552352, 0.9949869583105635, 0.9898410951407339, 0.9946913708927706, 0.9842488033994762, 0.9933468147185005, 0.9945419136029298, 0.9954014991268899, 0.9896924720950245, 0.9944900628764894, 0.9946439563821835, 0.9846896867010886, 0.9810566909127456, 0.9910317578093102, 0.9958939583451109, 0.9945715832501051, 0.9930445729769286, 0.9885503329909987, 0.9948716068837508, 0.9947088409463507, 0.9934732566849455, 0.9945044805780114, 0.9899694804052739, 0.9933018931256713, 0.9948244671829951, 0.9944462503376235, 0.9942834844002236, 0.7249932279005785, 0.9956499468439268, 0.9895560486429107, 0.996816210325312]}, {\"categories\": [\"0\", \"1\", \"5\", \"6\", \"9\", \"10\", \"13\", \"17\", \"22\", \"23\", \"25\", \"26\", \"27\", \"28\", \"29\", \"30\", \"31\", \"32\", \"33\", \"34\", \"35\", \"36\", \"37\", \"38\", \"39\", \"40\", \"41\", \"42\", \"43\", \"44\", \"45\", \"46\", \"47\", \"48\", \"49\", \"50\", \"51\", \"52\", \"53\", \"54\", \"55\", \"56\", \"57\", \"61\"], \"mode\": \"lines\", \"name\": \"AUC_micro_max\", \"stepped\": true, \"type\": \"scatter\", \"data\": [0.9944681566070563, 0.9950013760120854, 0.9950013760120854, 0.9950013760120854, 0.9950013760120854, 0.9950013760120854, 0.9950013760120854, 0.9950013760120854, 0.9950013760120854, 0.9950013760120854, 0.9950013760120854, 0.9950013760120854, 0.9952157178660939, 0.9952157178660939, 0.9952157178660939, 0.9952157178660939, 0.9952157178660939, 0.9952157178660939, 0.9952157178660939, 0.9952157178660939, 0.9954014991268899, 0.9954014991268899, 0.9954014991268899, 0.9954014991268899, 0.9954014991268899, 0.9954014991268899, 0.9954014991268899, 0.9958939583451109, 0.9958939583451109, 0.9958939583451109, 0.9958939583451109, 0.9958939583451109, 0.9958939583451109, 0.9958939583451109, 0.9958939583451109, 0.9958939583451109, 0.9958939583451109, 0.9958939583451109, 0.9958939583451109, 0.9958939583451109, 0.9958939583451109, 0.9958939583451109, 0.9958939583451109, 0.996816210325312]}], \"AUC_macro\": [{\"categories\": [\"0\", \"1\", \"5\", \"6\", \"9\", \"10\", \"13\", \"17\", \"22\", \"23\", \"25\", \"26\", \"27\", \"28\", \"29\", \"30\", \"31\", \"32\", \"33\", \"34\", \"35\", \"36\", \"37\", \"38\", \"39\", \"40\", \"41\", \"42\", \"43\", \"44\", \"45\", \"46\", \"47\", \"48\", \"49\", \"50\", \"51\", \"52\", \"53\", \"54\", \"55\", \"56\", \"57\", \"61\"], \"mode\": \"markers\", \"name\": \"AUC_macro\", \"stepped\": false, \"type\": \"scatter\", \"data\": [0.9947209139504537, 0.9945989074403396, 0.8988235656576524, 0.9818203059854165, 0.9806884521598954, 0.9831994602873759, 0.9642404386490734, 0.9920135027193776, 0.9894330759956317, 0.9847305448456345, 0.9910000442438361, 0.9898949565609069, 0.994393700254537, 0.9936810958515221, 0.9949268666457597, 0.9896032108863253, 0.9945416136519079, 0.9859099760533843, 0.9928183906410875, 0.993533025873462, 0.9947347155897013, 0.9901365126117623, 0.9944104847965773, 0.9945916628963303, 0.9865607401604102, 0.9799873337073419, 0.9905638547988515, 0.9953034138240973, 0.9936501180298464, 0.9924252941587592, 0.9888630286195415, 0.9937700037858546, 0.994232357296742, 0.9939905064865735, 0.9940076581727759, 0.9908100446341465, 0.9929084974229431, 0.9934629307548997, 0.9942627590634936, 0.9933751819971708, 0.661600370301751, 0.9950853323657032, 0.9911817572896202, 0.9970297023947919]}, {\"categories\": [\"0\", \"1\", \"5\", \"6\", \"9\", \"10\", \"13\", \"17\", \"22\", \"23\", \"25\", \"26\", \"27\", \"28\", \"29\", \"30\", \"31\", \"32\", \"33\", \"34\", \"35\", \"36\", \"37\", \"38\", \"39\", \"40\", \"41\", \"42\", \"43\", \"44\", \"45\", \"46\", \"47\", \"48\", \"49\", \"50\", \"51\", \"52\", \"53\", \"54\", \"55\", \"56\", \"57\", \"61\"], \"mode\": \"lines\", \"name\": \"AUC_macro_max\", \"stepped\": true, \"type\": \"scatter\", \"data\": [0.9947209139504537, 0.9947209139504537, 0.9947209139504537, 0.9947209139504537, 0.9947209139504537, 0.9947209139504537, 0.9947209139504537, 0.9947209139504537, 0.9947209139504537, 0.9947209139504537, 0.9947209139504537, 0.9947209139504537, 0.9947209139504537, 0.9947209139504537, 0.9949268666457597, 0.9949268666457597, 0.9949268666457597, 0.9949268666457597, 0.9949268666457597, 0.9949268666457597, 0.9949268666457597, 0.9949268666457597, 0.9949268666457597, 0.9949268666457597, 0.9949268666457597, 0.9949268666457597, 0.9949268666457597, 0.9953034138240973, 0.9953034138240973, 0.9953034138240973, 0.9953034138240973, 0.9953034138240973, 0.9953034138240973, 0.9953034138240973, 0.9953034138240973, 0.9953034138240973, 0.9953034138240973, 0.9953034138240973, 0.9953034138240973, 0.9953034138240973, 0.9953034138240973, 0.9953034138240973, 0.9953034138240973, 0.9970297023947919]}], \"precision_score_macro\": [{\"categories\": [\"0\", \"1\", \"5\", \"6\", \"9\", \"10\", \"13\", \"17\", \"22\", \"23\", \"25\", \"26\", \"27\", \"28\", \"29\", \"30\", \"31\", \"32\", \"33\", \"34\", \"35\", \"36\", \"37\", \"38\", \"39\", \"40\", \"41\", \"42\", \"43\", \"44\", \"45\", \"46\", \"47\", \"48\", \"49\", \"50\", \"51\", \"52\", \"53\", \"54\", \"55\", \"56\", \"57\", \"61\"], \"mode\": \"markers\", \"name\": \"precision_score_macro\", \"stepped\": false, \"type\": \"scatter\", \"data\": [0.9739340546210908, 0.9753763413577993, 0.8461233241594346, 0.9197091129905102, 0.9337489669346715, 0.939779562586468, 0.9123712842138294, 0.966108803931605, 0.958624627983778, 0.9538385225885225, 0.9575811302696604, 0.9635256457784713, 0.9661119739641869, 0.9697340606090608, 0.966663946754063, 0.9585105068197175, 0.9741584049112306, 0.9241963023648772, 0.9610560801582931, 0.9732070940284014, 0.9713239817890982, 0.9548191721050859, 0.9675531022401384, 0.9721928783086071, 0.9471930772696888, 0.9416374157307082, 0.9550000151647282, 0.9694720199371363, 0.9712686007056369, 0.9634386845814324, 0.956129786340669, 0.9680156930521167, 0.9685399348921478, 0.9703497741826084, 0.9700266288009557, 0.9574317847176985, 0.9655881705038016, 0.9710846887965155, 0.9768768015138983, 0.9665976028840266, 0.6487168342878877, 0.9774104599104598, 0.9673680657123371, 0.9847982110482111]}, {\"categories\": [\"0\", \"1\", \"5\", \"6\", \"9\", \"10\", \"13\", \"17\", \"22\", \"23\", \"25\", \"26\", \"27\", \"28\", \"29\", \"30\", \"31\", \"32\", \"33\", \"34\", \"35\", \"36\", \"37\", \"38\", \"39\", \"40\", \"41\", \"42\", \"43\", \"44\", \"45\", \"46\", \"47\", \"48\", \"49\", \"50\", \"51\", \"52\", \"53\", \"54\", \"55\", \"56\", \"57\", \"61\"], \"mode\": \"lines\", \"name\": \"precision_score_macro_max\", \"stepped\": true, \"type\": \"scatter\", \"data\": [0.9739340546210908, 0.9753763413577993, 0.9753763413577993, 0.9753763413577993, 0.9753763413577993, 0.9753763413577993, 0.9753763413577993, 0.9753763413577993, 0.9753763413577993, 0.9753763413577993, 0.9753763413577993, 0.9753763413577993, 0.9753763413577993, 0.9753763413577993, 0.9753763413577993, 0.9753763413577993, 0.9753763413577993, 0.9753763413577993, 0.9753763413577993, 0.9753763413577993, 0.9753763413577993, 0.9753763413577993, 0.9753763413577993, 0.9753763413577993, 0.9753763413577993, 0.9753763413577993, 0.9753763413577993, 0.9753763413577993, 0.9753763413577993, 0.9753763413577993, 0.9753763413577993, 0.9753763413577993, 0.9753763413577993, 0.9753763413577993, 0.9753763413577993, 0.9753763413577993, 0.9753763413577993, 0.9753763413577993, 0.9768768015138983, 0.9768768015138983, 0.9768768015138983, 0.9774104599104598, 0.9774104599104598, 0.9847982110482111]}], \"recall_score_macro\": [{\"categories\": [\"0\", \"1\", \"5\", \"6\", \"9\", \"10\", \"13\", \"17\", \"22\", \"23\", \"25\", \"26\", \"27\", \"28\", \"29\", \"30\", \"31\", \"32\", \"33\", \"34\", \"35\", \"36\", \"37\", \"38\", \"39\", \"40\", \"41\", \"42\", \"43\", \"44\", \"45\", \"46\", \"47\", \"48\", \"49\", \"50\", \"51\", \"52\", \"53\", \"54\", \"55\", \"56\", \"57\", \"61\"], \"mode\": \"markers\", \"name\": \"recall_score_macro\", \"stepped\": false, \"type\": \"scatter\", \"data\": [0.9664923021352049, 0.9699645409475973, 0.7091012051510772, 0.9132855283911498, 0.9350609952698774, 0.9451645830002237, 0.8933368339164003, 0.965899433612312, 0.945989334284411, 0.9568316014743073, 0.9599294674824994, 0.9514255217998825, 0.9658784427217559, 0.9598236483616919, 0.9622112603192793, 0.9542936302580699, 0.9629864627598004, 0.932370148788958, 0.9565516075253555, 0.9678047509476538, 0.9683851733627578, 0.9493320452818536, 0.9621997743132654, 0.9617642405375781, 0.9446257007704475, 0.9347484282569001, 0.9514365180112889, 0.9623085205469746, 0.9651409507838536, 0.9610721325752923, 0.9484218704010903, 0.9679528956913497, 0.9629970575002172, 0.9629287271764893, 0.9661125484852736, 0.9509218704010903, 0.9600872840904439, 0.9716893087348278, 0.967334288846757, 0.9653336588074067, 0.6004467082220977, 0.9710826281206717, 0.9554331250058551, 0.9781373310193644]}, {\"categories\": [\"0\", \"1\", \"5\", \"6\", \"9\", \"10\", \"13\", \"17\", \"22\", \"23\", \"25\", \"26\", \"27\", \"28\", \"29\", \"30\", \"31\", \"32\", \"33\", \"34\", \"35\", \"36\", \"37\", \"38\", \"39\", \"40\", \"41\", \"42\", \"43\", \"44\", \"45\", \"46\", \"47\", \"48\", \"49\", \"50\", \"51\", \"52\", \"53\", \"54\", \"55\", \"56\", \"57\", \"61\"], \"mode\": \"lines\", \"name\": \"recall_score_macro_max\", \"stepped\": true, \"type\": \"scatter\", \"data\": [0.9664923021352049, 0.9699645409475973, 0.9699645409475973, 0.9699645409475973, 0.9699645409475973, 0.9699645409475973, 0.9699645409475973, 0.9699645409475973, 0.9699645409475973, 0.9699645409475973, 0.9699645409475973, 0.9699645409475973, 0.9699645409475973, 0.9699645409475973, 0.9699645409475973, 0.9699645409475973, 0.9699645409475973, 0.9699645409475973, 0.9699645409475973, 0.9699645409475973, 0.9699645409475973, 0.9699645409475973, 0.9699645409475973, 0.9699645409475973, 0.9699645409475973, 0.9699645409475973, 0.9699645409475973, 0.9699645409475973, 0.9699645409475973, 0.9699645409475973, 0.9699645409475973, 0.9699645409475973, 0.9699645409475973, 0.9699645409475973, 0.9699645409475973, 0.9699645409475973, 0.9699645409475973, 0.9716893087348278, 0.9716893087348278, 0.9716893087348278, 0.9716893087348278, 0.9716893087348278, 0.9716893087348278, 0.9781373310193644]}], \"f1_score_micro\": [{\"categories\": [\"0\", \"1\", \"5\", \"6\", \"9\", \"10\", \"13\", \"17\", \"22\", \"23\", \"25\", \"26\", \"27\", \"28\", \"29\", \"30\", \"31\", \"32\", \"33\", \"34\", \"35\", \"36\", \"37\", \"38\", \"39\", \"40\", \"41\", \"42\", \"43\", \"44\", \"45\", \"46\", \"47\", \"48\", \"49\", \"50\", \"51\", \"52\", \"53\", \"54\", \"55\", \"56\", \"57\", \"61\"], \"mode\": \"markers\", \"name\": \"f1_score_micro\", \"stepped\": false, \"type\": \"scatter\", \"data\": [0.9718045112781954, 0.9735902255639097, 0.7767230576441102, 0.9226190476190474, 0.93671679197995, 0.9453947368421053, 0.9085526315789473, 0.9683270676691729, 0.9542606516290727, 0.9577067669172932, 0.9613095238095237, 0.9595238095238094, 0.968295739348371, 0.9665726817042606, 0.9665413533834586, 0.9594924812030076, 0.9700814536340852, 0.9314536340852131, 0.9612781954887218, 0.9718358395989976, 0.9718358395989973, 0.9542919799498746, 0.9665413533834586, 0.968295739348371, 0.9490288220551377, 0.9402255639097744, 0.956015037593985, 0.9682644110275689, 0.9700501253132833, 0.9647556390977444, 0.9542919799498746, 0.9700187969924812, 0.9682644110275691, 0.9683270676691729, 0.9700814536340852, 0.9560463659147869, 0.9648182957393484, 0.9735588972431077, 0.9736215538847117, 0.968295739348371, 0.6625, 0.9752819548872182, 0.963032581453634, 0.982393483709273]}, {\"categories\": [\"0\", \"1\", \"5\", \"6\", \"9\", \"10\", \"13\", \"17\", \"22\", \"23\", \"25\", \"26\", \"27\", \"28\", \"29\", \"30\", \"31\", \"32\", \"33\", \"34\", \"35\", \"36\", \"37\", \"38\", \"39\", \"40\", \"41\", \"42\", \"43\", \"44\", \"45\", \"46\", \"47\", \"48\", \"49\", \"50\", \"51\", \"52\", \"53\", \"54\", \"55\", \"56\", \"57\", \"61\"], \"mode\": \"lines\", \"name\": \"f1_score_micro_max\", \"stepped\": true, \"type\": \"scatter\", \"data\": [0.9718045112781954, 0.9735902255639097, 0.9735902255639097, 0.9735902255639097, 0.9735902255639097, 0.9735902255639097, 0.9735902255639097, 0.9735902255639097, 0.9735902255639097, 0.9735902255639097, 0.9735902255639097, 0.9735902255639097, 0.9735902255639097, 0.9735902255639097, 0.9735902255639097, 0.9735902255639097, 0.9735902255639097, 0.9735902255639097, 0.9735902255639097, 0.9735902255639097, 0.9735902255639097, 0.9735902255639097, 0.9735902255639097, 0.9735902255639097, 0.9735902255639097, 0.9735902255639097, 0.9735902255639097, 0.9735902255639097, 0.9735902255639097, 0.9735902255639097, 0.9735902255639097, 0.9735902255639097, 0.9735902255639097, 0.9735902255639097, 0.9735902255639097, 0.9735902255639097, 0.9735902255639097, 0.9735902255639097, 0.9736215538847117, 0.9736215538847117, 0.9736215538847117, 0.9752819548872182, 0.9752819548872182, 0.982393483709273]}], \"average_precision_score_macro\": [{\"categories\": [\"0\", \"1\", \"5\", \"6\", \"9\", \"10\", \"13\", \"17\", \"22\", \"23\", \"25\", \"26\", \"27\", \"28\", \"29\", \"30\", \"31\", \"32\", \"33\", \"34\", \"35\", \"36\", \"37\", \"38\", \"39\", \"40\", \"41\", \"42\", \"43\", \"44\", \"45\", \"46\", \"47\", \"48\", \"49\", \"50\", \"51\", \"52\", \"53\", \"54\", \"55\", \"56\", \"57\", \"61\"], \"mode\": \"markers\", \"name\": \"average_precision_score_macro\", \"stepped\": false, \"type\": \"scatter\", \"data\": [0.9950055660415902, 0.9949756545456658, 0.8984249777810132, 0.9814220311911145, 0.979124891105686, 0.9817545596494577, 0.9599398494278584, 0.9922255343592313, 0.9895473305806017, 0.9819136791566633, 0.9911007229242932, 0.9901945101538476, 0.9945343995496231, 0.9938035497867872, 0.9951783326058965, 0.9898130594349007, 0.9948187689054866, 0.9851069716092761, 0.9931390874516314, 0.9935869920300249, 0.9948309257883163, 0.9901319003593304, 0.9946844215257924, 0.9950076794261186, 0.9858773810875517, 0.9787961769017851, 0.9908743000749753, 0.9954990675617253, 0.9937061158925674, 0.9925585410829741, 0.9889125621925441, 0.9938817364843814, 0.9944209074347533, 0.9942136524538814, 0.9941432166127921, 0.9907701386165728, 0.9929435144127086, 0.9935004185592546, 0.9944629932192737, 0.9934988749917236, 0.6748486650755042, 0.9953420239398195, 0.990440036202167, 0.9972113334687732]}, {\"categories\": [\"0\", \"1\", \"5\", \"6\", \"9\", \"10\", \"13\", \"17\", \"22\", \"23\", \"25\", \"26\", \"27\", \"28\", \"29\", \"30\", \"31\", \"32\", \"33\", \"34\", \"35\", \"36\", \"37\", \"38\", \"39\", \"40\", \"41\", \"42\", \"43\", \"44\", \"45\", \"46\", \"47\", \"48\", \"49\", \"50\", \"51\", \"52\", \"53\", \"54\", \"55\", \"56\", \"57\", \"61\"], \"mode\": \"lines\", \"name\": \"average_precision_score_macro_max\", \"stepped\": true, \"type\": \"scatter\", \"data\": [0.9950055660415902, 0.9950055660415902, 0.9950055660415902, 0.9950055660415902, 0.9950055660415902, 0.9950055660415902, 0.9950055660415902, 0.9950055660415902, 0.9950055660415902, 0.9950055660415902, 0.9950055660415902, 0.9950055660415902, 0.9950055660415902, 0.9950055660415902, 0.9951783326058965, 0.9951783326058965, 0.9951783326058965, 0.9951783326058965, 0.9951783326058965, 0.9951783326058965, 0.9951783326058965, 0.9951783326058965, 0.9951783326058965, 0.9951783326058965, 0.9951783326058965, 0.9951783326058965, 0.9951783326058965, 0.9954990675617253, 0.9954990675617253, 0.9954990675617253, 0.9954990675617253, 0.9954990675617253, 0.9954990675617253, 0.9954990675617253, 0.9954990675617253, 0.9954990675617253, 0.9954990675617253, 0.9954990675617253, 0.9954990675617253, 0.9954990675617253, 0.9954990675617253, 0.9954990675617253, 0.9954990675617253, 0.9972113334687732]}], \"f1_score_weighted\": [{\"categories\": [\"0\", \"1\", \"5\", \"6\", \"9\", \"10\", \"13\", \"17\", \"22\", \"23\", \"25\", \"26\", \"27\", \"28\", \"29\", \"30\", \"31\", \"32\", \"33\", \"34\", \"35\", \"36\", \"37\", \"38\", \"39\", \"40\", \"41\", \"42\", \"43\", \"44\", \"45\", \"46\", \"47\", \"48\", \"49\", \"50\", \"51\", \"52\", \"53\", \"54\", \"55\", \"56\", \"57\", \"61\"], \"mode\": \"markers\", \"name\": \"f1_score_weighted\", \"stepped\": false, \"type\": \"scatter\", \"data\": [0.971606492256825, 0.9734208400948123, 0.7504802419990477, 0.9221796976385939, 0.9367302966224763, 0.9455367868927208, 0.9073785773217866, 0.9683298829115394, 0.9537118862724634, 0.9576792975822069, 0.961321327717385, 0.9590656599175251, 0.9682505658780028, 0.9663246400432118, 0.9663420141825364, 0.9593282514094283, 0.9698106311166779, 0.9316884384616648, 0.9611068050855656, 0.9717229731960986, 0.9717130206583846, 0.9539724015505984, 0.9663726491748011, 0.9679841627599988, 0.9486064447369401, 0.93973885136195, 0.9558767494429302, 0.9680830354414075, 0.96991678045631, 0.9646166133268469, 0.9537806320957317, 0.969931267174816, 0.9680836879231727, 0.9681575648956404, 0.9699755934415023, 0.9557137142757834, 0.9646425716403364, 0.9735055536740459, 0.9734340775571712, 0.9682001400031133, 0.6368082499967326, 0.9750929079690784, 0.9626364836548731, 0.9822991559480798]}, {\"categories\": [\"0\", \"1\", \"5\", \"6\", \"9\", \"10\", \"13\", \"17\", \"22\", \"23\", \"25\", \"26\", \"27\", \"28\", \"29\", \"30\", \"31\", \"32\", \"33\", \"34\", \"35\", \"36\", \"37\", \"38\", \"39\", \"40\", \"41\", \"42\", \"43\", \"44\", \"45\", \"46\", \"47\", \"48\", \"49\", \"50\", \"51\", \"52\", \"53\", \"54\", \"55\", \"56\", \"57\", \"61\"], \"mode\": \"lines\", \"name\": \"f1_score_weighted_max\", \"stepped\": true, \"type\": \"scatter\", \"data\": [0.971606492256825, 0.9734208400948123, 0.9734208400948123, 0.9734208400948123, 0.9734208400948123, 0.9734208400948123, 0.9734208400948123, 0.9734208400948123, 0.9734208400948123, 0.9734208400948123, 0.9734208400948123, 0.9734208400948123, 0.9734208400948123, 0.9734208400948123, 0.9734208400948123, 0.9734208400948123, 0.9734208400948123, 0.9734208400948123, 0.9734208400948123, 0.9734208400948123, 0.9734208400948123, 0.9734208400948123, 0.9734208400948123, 0.9734208400948123, 0.9734208400948123, 0.9734208400948123, 0.9734208400948123, 0.9734208400948123, 0.9734208400948123, 0.9734208400948123, 0.9734208400948123, 0.9734208400948123, 0.9734208400948123, 0.9734208400948123, 0.9734208400948123, 0.9734208400948123, 0.9734208400948123, 0.9735055536740459, 0.9735055536740459, 0.9735055536740459, 0.9735055536740459, 0.9750929079690784, 0.9750929079690784, 0.9822991559480798]}], \"f1_score_macro\": [{\"categories\": [\"0\", \"1\", \"5\", \"6\", \"9\", \"10\", \"13\", \"17\", \"22\", \"23\", \"25\", \"26\", \"27\", \"28\", \"29\", \"30\", \"31\", \"32\", \"33\", \"34\", \"35\", \"36\", \"37\", \"38\", \"39\", \"40\", \"41\", \"42\", \"43\", \"44\", \"45\", \"46\", \"47\", \"48\", \"49\", \"50\", \"51\", \"52\", \"53\", \"54\", \"55\", \"56\", \"57\", \"61\"], \"mode\": \"markers\", \"name\": \"f1_score_macro\", \"stepped\": false, \"type\": \"scatter\", \"data\": [0.9694160676540076, 0.9717346011880661, 0.7178123406246626, 0.9143458440274339, 0.9321701248078128, 0.941718896074736, 0.8980900060503579, 0.9654705391154048, 0.9500813469484968, 0.9546916970107737, 0.9579103991743434, 0.9557518489423205, 0.9654527720574879, 0.9635175770945603, 0.9631862189582281, 0.9556272216701298, 0.9673754395632403, 0.9257924030300269, 0.957620913298687, 0.9695239638873122, 0.9687320012918909, 0.9504997261844457, 0.9639131391035514, 0.9657538435387936, 0.9436338046885224, 0.9354265068678412, 0.9522208791969661, 0.9651151112737019, 0.9676194538837096, 0.9615498942264613, 0.9499531123549506, 0.9673929715455618, 0.9650578213087648, 0.9655976094810985, 0.9672235364092303, 0.952212024428567, 0.9614378425005944, 0.9710640651411276, 0.9711928126823345, 0.965556522872442, 0.5931201015976363, 0.9734826329824964, 0.95979693856283, 0.9808651753980211]}, {\"categories\": [\"0\", \"1\", \"5\", \"6\", \"9\", \"10\", \"13\", \"17\", \"22\", \"23\", \"25\", \"26\", \"27\", \"28\", \"29\", \"30\", \"31\", \"32\", \"33\", \"34\", \"35\", \"36\", \"37\", \"38\", \"39\", \"40\", \"41\", \"42\", \"43\", \"44\", \"45\", \"46\", \"47\", \"48\", \"49\", \"50\", \"51\", \"52\", \"53\", \"54\", \"55\", \"56\", \"57\", \"61\"], \"mode\": \"lines\", \"name\": \"f1_score_macro_max\", \"stepped\": true, \"type\": \"scatter\", \"data\": [0.9694160676540076, 0.9717346011880661, 0.9717346011880661, 0.9717346011880661, 0.9717346011880661, 0.9717346011880661, 0.9717346011880661, 0.9717346011880661, 0.9717346011880661, 0.9717346011880661, 0.9717346011880661, 0.9717346011880661, 0.9717346011880661, 0.9717346011880661, 0.9717346011880661, 0.9717346011880661, 0.9717346011880661, 0.9717346011880661, 0.9717346011880661, 0.9717346011880661, 0.9717346011880661, 0.9717346011880661, 0.9717346011880661, 0.9717346011880661, 0.9717346011880661, 0.9717346011880661, 0.9717346011880661, 0.9717346011880661, 0.9717346011880661, 0.9717346011880661, 0.9717346011880661, 0.9717346011880661, 0.9717346011880661, 0.9717346011880661, 0.9717346011880661, 0.9717346011880661, 0.9717346011880661, 0.9717346011880661, 0.9717346011880661, 0.9717346011880661, 0.9717346011880661, 0.9734826329824964, 0.9734826329824964, 0.9808651753980211]}], \"AUC_weighted\": [{\"categories\": [\"0\", \"1\", \"5\", \"6\", \"9\", \"10\", \"13\", \"17\", \"22\", \"23\", \"25\", \"26\", \"27\", \"28\", \"29\", \"30\", \"31\", \"32\", \"33\", \"34\", \"35\", \"36\", \"37\", \"38\", \"39\", \"40\", \"41\", \"42\", \"43\", \"44\", \"45\", \"46\", \"47\", \"48\", \"49\", \"50\", \"51\", \"52\", \"53\", \"54\", \"55\", \"56\", \"57\", \"61\"], \"mode\": \"markers\", \"name\": \"AUC_weighted\", \"stepped\": false, \"type\": \"scatter\", \"data\": [0.9947209139504535, 0.9945989074403396, 0.8988235656576524, 0.9818203059854163, 0.9806884521598954, 0.9831450855106294, 0.9642404386490734, 0.9920135027193776, 0.9894330759956317, 0.984789362839235, 0.9910000442438361, 0.9898949565609069, 0.994393700254537, 0.9936810958515221, 0.9949268666457598, 0.9896032108863253, 0.9945416136519079, 0.9859099760533843, 0.9928183906410875, 0.993533025873462, 0.9947347155897013, 0.9901365126117623, 0.9944104847965773, 0.9945916628963303, 0.9865607401604102, 0.9799873337073419, 0.9905638547988515, 0.9953034138240973, 0.9936501180298464, 0.9924252941587592, 0.9888630286195415, 0.9937700037858546, 0.9942323572967421, 0.9939905064865735, 0.994007658172776, 0.9908100446341466, 0.9929084974229431, 0.9934629307548997, 0.9942627590634936, 0.9933751819971711, 0.661600370301751, 0.9950853323657032, 0.9911817572896202, 0.9970297023947919]}, {\"categories\": [\"0\", \"1\", \"5\", \"6\", \"9\", \"10\", \"13\", \"17\", \"22\", \"23\", \"25\", \"26\", \"27\", \"28\", \"29\", \"30\", \"31\", \"32\", \"33\", \"34\", \"35\", \"36\", \"37\", \"38\", \"39\", \"40\", \"41\", \"42\", \"43\", \"44\", \"45\", \"46\", \"47\", \"48\", \"49\", \"50\", \"51\", \"52\", \"53\", \"54\", \"55\", \"56\", \"57\", \"61\"], \"mode\": \"lines\", \"name\": \"AUC_weighted_max\", \"stepped\": true, \"type\": \"scatter\", \"data\": [0.9947209139504535, 0.9947209139504535, 0.9947209139504535, 0.9947209139504535, 0.9947209139504535, 0.9947209139504535, 0.9947209139504535, 0.9947209139504535, 0.9947209139504535, 0.9947209139504535, 0.9947209139504535, 0.9947209139504535, 0.9947209139504535, 0.9947209139504535, 0.9949268666457598, 0.9949268666457598, 0.9949268666457598, 0.9949268666457598, 0.9949268666457598, 0.9949268666457598, 0.9949268666457598, 0.9949268666457598, 0.9949268666457598, 0.9949268666457598, 0.9949268666457598, 0.9949268666457598, 0.9949268666457598, 0.9953034138240973, 0.9953034138240973, 0.9953034138240973, 0.9953034138240973, 0.9953034138240973, 0.9953034138240973, 0.9953034138240973, 0.9953034138240973, 0.9953034138240973, 0.9953034138240973, 0.9953034138240973, 0.9953034138240973, 0.9953034138240973, 0.9953034138240973, 0.9953034138240973, 0.9953034138240973, 0.9970297023947919]}], \"balanced_accuracy\": [{\"categories\": [\"0\", \"1\", \"5\", \"6\", \"9\", \"10\", \"13\", \"17\", \"22\", \"23\", \"25\", \"26\", \"27\", \"28\", \"29\", \"30\", \"31\", \"32\", \"33\", \"34\", \"35\", \"36\", \"37\", \"38\", \"39\", \"40\", \"41\", \"42\", \"43\", \"44\", \"45\", \"46\", \"47\", \"48\", \"49\", \"50\", \"51\", \"52\", \"53\", \"54\", \"55\", \"56\", \"57\", \"61\"], \"mode\": \"markers\", \"name\": \"balanced_accuracy\", \"stepped\": false, \"type\": \"scatter\", \"data\": [0.9664923021352049, 0.9699645409475973, 0.7091012051510772, 0.9132855283911498, 0.9350609952698774, 0.9451645830002237, 0.8933368339164003, 0.965899433612312, 0.945989334284411, 0.9568316014743073, 0.9599294674824994, 0.9514255217998825, 0.9658784427217559, 0.9598236483616919, 0.9622112603192793, 0.9542936302580699, 0.9629864627598004, 0.932370148788958, 0.9565516075253555, 0.9678047509476538, 0.9683851733627578, 0.9493320452818536, 0.9621997743132654, 0.9617642405375781, 0.9446257007704475, 0.9347484282569001, 0.9514365180112889, 0.9623085205469746, 0.9651409507838536, 0.9610721325752923, 0.9484218704010903, 0.9679528956913497, 0.9629970575002172, 0.9629287271764893, 0.9661125484852736, 0.9509218704010903, 0.9600872840904439, 0.9716893087348278, 0.967334288846757, 0.9653336588074067, 0.6004467082220977, 0.9710826281206717, 0.9554331250058551, 0.9781373310193644]}, {\"categories\": [\"0\", \"1\", \"5\", \"6\", \"9\", \"10\", \"13\", \"17\", \"22\", \"23\", \"25\", \"26\", \"27\", \"28\", \"29\", \"30\", \"31\", \"32\", \"33\", \"34\", \"35\", \"36\", \"37\", \"38\", \"39\", \"40\", \"41\", \"42\", \"43\", \"44\", \"45\", \"46\", \"47\", \"48\", \"49\", \"50\", \"51\", \"52\", \"53\", \"54\", \"55\", \"56\", \"57\", \"61\"], \"mode\": \"lines\", \"name\": \"balanced_accuracy_max\", \"stepped\": true, \"type\": \"scatter\", \"data\": [0.9664923021352049, 0.9699645409475973, 0.9699645409475973, 0.9699645409475973, 0.9699645409475973, 0.9699645409475973, 0.9699645409475973, 0.9699645409475973, 0.9699645409475973, 0.9699645409475973, 0.9699645409475973, 0.9699645409475973, 0.9699645409475973, 0.9699645409475973, 0.9699645409475973, 0.9699645409475973, 0.9699645409475973, 0.9699645409475973, 0.9699645409475973, 0.9699645409475973, 0.9699645409475973, 0.9699645409475973, 0.9699645409475973, 0.9699645409475973, 0.9699645409475973, 0.9699645409475973, 0.9699645409475973, 0.9699645409475973, 0.9699645409475973, 0.9699645409475973, 0.9699645409475973, 0.9699645409475973, 0.9699645409475973, 0.9699645409475973, 0.9699645409475973, 0.9699645409475973, 0.9699645409475973, 0.9716893087348278, 0.9716893087348278, 0.9716893087348278, 0.9716893087348278, 0.9716893087348278, 0.9716893087348278, 0.9781373310193644]}]}, \"metricName\": null, \"primaryMetricName\": \"AUC_weighted\", \"showLegend\": false}, \"run_metrics\": [{\"name\": \"experiment_status\", \"run_id\": \"AutoML_04db1331-2219-4eef-93bc-3b73ce29a4ec\", \"categories\": [0, 1, 2, 3, 4, 5, 6, 7, 8, 9, 10, 11, 12, 13], \"series\": [{\"data\": [\"DatasetEvaluation\", \"FeaturesGeneration\", \"DatasetFeaturization\", \"DatasetFeaturizationCompleted\", \"DatasetCrossValidationSplit\", \"ModelSelection\", \"BestRunExplainModel\", \"ModelExplanationDataSetSetup\", \"PickSurrogateModel\", \"EngineeredFeatureExplanations\", \"EngineeredFeatureExplanations\", \"RawFeaturesExplanations\", \"RawFeaturesExplanations\", \"BestRunExplainModel\"]}]}, {\"name\": \"experiment_status_description\", \"run_id\": \"AutoML_04db1331-2219-4eef-93bc-3b73ce29a4ec\", \"categories\": [0, 1, 2, 3, 4, 5, 6, 7, 8, 9, 10, 11, 12, 13], \"series\": [{\"data\": [\"Gathering dataset statistics.\", \"Generating features for the dataset.\", \"Beginning to fit featurizers and featurize the dataset.\", \"Completed fit featurizers and featurizing the dataset.\", \"Generating individually featurized CV splits.\", \"Beginning model selection.\", \"Best run model explanations started\", \"Model explanations data setup completed\", \"Choosing LightGBM as the surrogate model for explanations\", \"Computation of engineered features started\", \"Computation of engineered features completed\", \"Computation of raw features started\", \"Computation of raw features completed\", \"Best run model explanations completed\"]}]}, {\"name\": \"f1_score_weighted\", \"run_id\": \"AutoML_04db1331-2219-4eef-93bc-3b73ce29a4ec\", \"categories\": [0], \"series\": [{\"data\": [0.9822991559480798]}]}, {\"name\": \"average_precision_score_macro\", \"run_id\": \"AutoML_04db1331-2219-4eef-93bc-3b73ce29a4ec\", \"categories\": [0], \"series\": [{\"data\": [0.9972113334687732]}]}, {\"name\": \"weighted_accuracy\", \"run_id\": \"AutoML_04db1331-2219-4eef-93bc-3b73ce29a4ec\", \"categories\": [0], \"series\": [{\"data\": [0.9855823082884321]}]}, {\"name\": \"recall_score_weighted\", \"run_id\": \"AutoML_04db1331-2219-4eef-93bc-3b73ce29a4ec\", \"categories\": [0], \"series\": [{\"data\": [0.982393483709273]}]}, {\"name\": \"recall_score_macro\", \"run_id\": \"AutoML_04db1331-2219-4eef-93bc-3b73ce29a4ec\", \"categories\": [0], \"series\": [{\"data\": [0.9781373310193644]}]}, {\"name\": \"f1_score_macro\", \"run_id\": \"AutoML_04db1331-2219-4eef-93bc-3b73ce29a4ec\", \"categories\": [0], \"series\": [{\"data\": [0.9808651753980211]}]}, {\"name\": \"matthews_correlation\", \"run_id\": \"AutoML_04db1331-2219-4eef-93bc-3b73ce29a4ec\", \"categories\": [0], \"series\": [{\"data\": [0.9628508423823933]}]}, {\"name\": \"AUC_weighted\", \"run_id\": \"AutoML_04db1331-2219-4eef-93bc-3b73ce29a4ec\", \"categories\": [0], \"series\": [{\"data\": [0.9970297023947919]}]}, {\"name\": \"precision_score_weighted\", \"run_id\": \"AutoML_04db1331-2219-4eef-93bc-3b73ce29a4ec\", \"categories\": [0], \"series\": [{\"data\": [0.983250633845872]}]}, {\"name\": \"norm_macro_recall\", \"run_id\": \"AutoML_04db1331-2219-4eef-93bc-3b73ce29a4ec\", \"categories\": [0], \"series\": [{\"data\": [0.9562746620387286]}]}, {\"name\": \"average_precision_score_weighted\", \"run_id\": \"AutoML_04db1331-2219-4eef-93bc-3b73ce29a4ec\", \"categories\": [0], \"series\": [{\"data\": [0.9973250077446478]}]}, {\"name\": \"log_loss\", \"run_id\": \"AutoML_04db1331-2219-4eef-93bc-3b73ce29a4ec\", \"categories\": [0], \"series\": [{\"data\": [0.10125785324674945]}]}, {\"name\": \"average_precision_score_micro\", \"run_id\": \"AutoML_04db1331-2219-4eef-93bc-3b73ce29a4ec\", \"categories\": [0], \"series\": [{\"data\": [0.9969485499951599]}]}, {\"name\": \"precision_score_micro\", \"run_id\": \"AutoML_04db1331-2219-4eef-93bc-3b73ce29a4ec\", \"categories\": [0], \"series\": [{\"data\": [0.982393483709273]}]}, {\"name\": \"AUC_micro\", \"run_id\": \"AutoML_04db1331-2219-4eef-93bc-3b73ce29a4ec\", \"categories\": [0], \"series\": [{\"data\": [0.996816210325312]}]}, {\"name\": \"AUC_macro\", \"run_id\": \"AutoML_04db1331-2219-4eef-93bc-3b73ce29a4ec\", \"categories\": [0], \"series\": [{\"data\": [0.9970297023947919]}]}, {\"name\": \"accuracy\", \"run_id\": \"AutoML_04db1331-2219-4eef-93bc-3b73ce29a4ec\", \"categories\": [0], \"series\": [{\"data\": [0.982393483709273]}]}, {\"name\": \"recall_score_micro\", \"run_id\": \"AutoML_04db1331-2219-4eef-93bc-3b73ce29a4ec\", \"categories\": [0], \"series\": [{\"data\": [0.982393483709273]}]}, {\"name\": \"f1_score_micro\", \"run_id\": \"AutoML_04db1331-2219-4eef-93bc-3b73ce29a4ec\", \"categories\": [0], \"series\": [{\"data\": [0.982393483709273]}]}, {\"name\": \"precision_score_macro\", \"run_id\": \"AutoML_04db1331-2219-4eef-93bc-3b73ce29a4ec\", \"categories\": [0], \"series\": [{\"data\": [0.9847982110482111]}]}, {\"name\": \"balanced_accuracy\", \"run_id\": \"AutoML_04db1331-2219-4eef-93bc-3b73ce29a4ec\", \"categories\": [0], \"series\": [{\"data\": [0.9781373310193644]}]}], \"run_logs\": \"\\nRun is completed.\", \"graph\": {}, \"widget_settings\": {\"childWidgetDisplay\": \"popup\", \"send_telemetry\": false, \"log_level\": \"INFO\", \"sdk_version\": \"1.49.0\"}, \"loading\": false}"
          },
          "metadata": {},
          "output_type": "display_data"
        },
        {
          "data": {
            "text/html": [
              "<table style=\"width:100%\"><tr><th>Experiment</th><th>Id</th><th>Type</th><th>Status</th><th>Details Page</th><th>Docs Page</th></tr><tr><td>cancer-auto-ml</td><td>AutoML_04db1331-2219-4eef-93bc-3b73ce29a4ec</td><td>automl</td><td>NotStarted</td><td><a href=\"https://ml.azure.com/runs/AutoML_04db1331-2219-4eef-93bc-3b73ce29a4ec?wsid=/subscriptions/3d1a56d2-7c81-4118-9790-f85d1acf0c77/resourcegroups/aml-quickstarts-233260/workspaces/quick-starts-ws-233260&amp;tid=660b3398-b80e-49d2-bc5b-ac1dc93b5254\" target=\"_blank\" rel=\"noopener\">Link to Azure Machine Learning studio</a></td><td><a href=\"https://docs.microsoft.com/en-us/python/api/overview/azure/ml/intro?view=azure-ml-py\" target=\"_blank\" rel=\"noopener\">Link to Documentation</a></td></tr></table>"
            ],
            "text/plain": [
              "<IPython.core.display.HTML object>"
            ]
          },
          "metadata": {},
          "output_type": "display_data"
        },
        {
          "name": "stdout",
          "output_type": "stream",
          "text": [
            "\n",
            "Current status: FeaturesGeneration. Generating features for the dataset.\n",
            "Current status: DatasetCrossValidationSplit. Generating individually featurized CV splits.\n",
            "Current status: ModelSelection. Beginning model selection.\n",
            "\n",
            "********************************************************************************************\n",
            "DATA GUARDRAILS: \n",
            "\n",
            "TYPE:         Cross validation\n",
            "STATUS:       DONE\n",
            "DESCRIPTION:  In order to accurately evaluate the model(s) trained by AutoML, we leverage a dataset that the model is not trained on. Hence, if the user doesn't provide an explicit validation dataset, a part of the training dataset is used to achieve this. For smaller datasets (fewer than 20,000 samples), cross-validation is leveraged, else a single hold-out set is split from the training data to serve as the validation dataset. Hence, for your input data we leverage cross-validation with 10 folds, if the number of training samples are fewer than 1000, and 3 folds in all other cases.\n",
            "              Learn more about cross validation: https://aka.ms/AutomatedMLCrossValidation\n",
            "DETAILS:      \n",
            "+------------------------------+\n",
            "|Number of folds               |\n",
            "+==============================+\n",
            "|10                            |\n",
            "+------------------------------+\n",
            "\n",
            "********************************************************************************************\n",
            "\n",
            "TYPE:         Class balancing detection\n",
            "STATUS:       PASSED\n",
            "DESCRIPTION:  Your inputs were analyzed, and all classes are balanced in your training data.\n",
            "              Learn more about imbalanced data: https://aka.ms/AutomatedMLImbalancedData\n",
            "\n",
            "********************************************************************************************\n",
            "\n",
            "TYPE:         Missing feature values imputation\n",
            "STATUS:       PASSED\n",
            "DESCRIPTION:  No feature missing values were detected in the training data.\n",
            "              Learn more about missing value imputation: https://aka.ms/AutomatedMLFeaturization\n",
            "\n",
            "********************************************************************************************\n",
            "\n",
            "TYPE:         High cardinality feature detection\n",
            "STATUS:       PASSED\n",
            "DESCRIPTION:  Your inputs were analyzed, and no high cardinality features were detected.\n",
            "              Learn more about high cardinality feature handling: https://aka.ms/AutomatedMLFeaturization\n",
            "\n",
            "********************************************************************************************\n",
            "\n",
            "********************************************************************************************\n",
            "ITER: The iteration being evaluated.\n",
            "PIPELINE: A summary description of the pipeline being evaluated.\n",
            "DURATION: Time taken for the current iteration.\n",
            "METRIC: The result of computing score on the fitted pipeline.\n",
            "BEST: The best observed score thus far.\n",
            "********************************************************************************************\n",
            "\n",
            " ITER   PIPELINE                                       DURATION            METRIC      BEST\n",
            "    0   MaxAbsScaler LightGBM                          0:00:18             0.9947    0.9947\n",
            "    1   MaxAbsScaler XGBoostClassifier                 0:00:15             0.9946    0.9947\n",
            "    2   MaxAbsScaler ExtremeRandomTrees                0:00:13             0.9880    0.9947\n",
            "    3   MaxAbsScaler RandomForest                      0:00:13             0.9879    0.9947\n",
            "    4   StandardScalerWrapper LightGBM                 0:00:15             0.9895    0.9947\n",
            "    5   StandardScalerWrapper KNN                      0:00:13             0.8988    0.9947\n",
            "    6   SparseNormalizer XGBoostClassifier             0:00:14             0.9818    0.9947\n",
            "    7   SparseNormalizer RandomForest                  0:00:15             0.9699    0.9947\n",
            "    8   RobustScaler KNN                               0:00:15             0.9892    0.9947\n",
            "    9   MinMaxScaler RandomForest                      0:00:15             0.9807    0.9947\n",
            "   10   StandardScalerWrapper LogisticRegression       0:00:13             0.9831    0.9947\n",
            "   11   StandardScalerWrapper SVM                      0:00:14             0.9905    0.9947\n",
            "   12   StandardScalerWrapper XGBoostClassifier        0:00:15             0.9889    0.9947\n",
            "   13   SparseNormalizer KNN                           0:00:13             0.9642    0.9947\n",
            "   14   RobustScaler ExtremeRandomTrees                0:00:13             0.9856    0.9947\n",
            "   15   SparseNormalizer XGBoostClassifier             0:00:13             0.9804    0.9947\n",
            "   16   MinMaxScaler ExtremeRandomTrees                0:00:16             0.9905    0.9947\n",
            "   17   MinMaxScaler ExtremeRandomTrees                0:00:13             0.9920    0.9947\n",
            "   18   SparseNormalizer LightGBM                      0:00:13             0.9615    0.9947\n",
            "   19   MaxAbsScaler ExtremeRandomTrees                0:00:19             0.9918    0.9947\n",
            "   23   MaxAbsScaler LogisticRegression                0:00:33             0.9848    0.9947\n",
            "   21   StandardScalerWrapper RandomForest             0:01:54             0.9899    0.9947\n",
            "   25   StandardScalerWrapper ExtremeRandomTrees       0:00:36             0.9910    0.9947\n",
            "   20   StandardScalerWrapper XGBoostClassifier        0:01:56             0.9914    0.9947\n",
            "   22   MaxAbsScaler LightGBM                          0:02:13             0.9894    0.9947\n",
            "   24   MinMaxScaler LightGBM                          0:00:33             0.9930    0.9947\n",
            "   27   StandardScalerWrapper XGBoostClassifier        0:00:36             0.9944    0.9947\n",
            "   26   MaxAbsScaler RandomForest                      0:00:56             0.9899    0.9947\n",
            "   28   StandardScalerWrapper LightGBM                 0:00:35             0.9937    0.9947\n",
            "   29   StandardScalerWrapper XGBoostClassifier        0:00:33             0.9949    0.9949\n",
            "   30   MinMaxScaler LightGBM                          0:00:35             0.9896    0.9949\n",
            "   32   RobustScaler RandomForest                      0:00:37             0.9859    0.9949\n",
            "   33   StandardScalerWrapper XGBoostClassifier        0:00:33             0.9928    0.9949\n",
            "   31   StandardScalerWrapper GradientBoosting         0:00:49             0.9945    0.9949\n",
            "   34   StandardScalerWrapper LightGBM                 0:00:34             0.9935    0.9949\n",
            "   35   StandardScalerWrapper XGBoostClassifier        0:00:35             0.9947    0.9949\n",
            "   36   StandardScalerWrapper XGBoostClassifier        0:00:35             0.9901    0.9949\n",
            "   37   StandardScalerWrapper XGBoostClassifier        0:00:34             0.9944    0.9949\n",
            "   38   StandardScalerWrapper XGBoostClassifier        0:00:36             0.9946    0.9949\n",
            "   39   StandardScalerWrapper XGBoostClassifier        0:00:34             0.9866    0.9949\n",
            "   40   StandardScalerWrapper XGBoostClassifier        0:00:36             0.9800    0.9949\n",
            "   41   StandardScalerWrapper XGBoostClassifier        0:00:34             0.9906    0.9949\n",
            "   42   StandardScalerWrapper XGBoostClassifier        0:00:37             0.9953    0.9953\n",
            "   43   MaxAbsScaler LightGBM                          0:00:35             0.9937    0.9953\n",
            "   44   MaxAbsScaler LightGBM                          0:00:32             0.9924    0.9953\n",
            "   45   StandardScalerWrapper XGBoostClassifier        0:00:34             0.9889    0.9953\n",
            "   46   StandardScalerWrapper LightGBM                 0:00:34             0.9938    0.9953\n",
            "   47   StandardScalerWrapper LightGBM                 0:00:34             0.9942    0.9953\n",
            "   48   StandardScalerWrapper LightGBM                 0:00:34             0.9940    0.9953\n",
            "   49   RobustScaler LightGBM                          0:00:33             0.9940    0.9953\n",
            "   50   StandardScalerWrapper XGBoostClassifier        0:00:37             0.9908    0.9953\n",
            "   51   StandardScalerWrapper LightGBM                 0:00:32             0.9929    0.9953\n",
            "   52   MaxAbsScaler LightGBM                          0:00:32             0.9935    0.9953\n",
            "   53   StandardScalerWrapper GradientBoosting         0:00:46             0.9943    0.9953\n",
            "   54   StandardScalerWrapper LightGBM                 0:00:35             0.9934    0.9953\n",
            "   55   PCA XGBoostClassifier                          0:00:34             0.6616    0.9953\n",
            "   56   StandardScalerWrapper XGBoostClassifier        0:00:39             0.9951    0.9953\n",
            "   57   RobustScaler LightGBM                          0:00:23             0.9912    0.9953\n",
            "   58   MaxAbsScaler GradientBoosting                  0:00:14                nan    0.9953\n",
            "   59                                                  0:00:12                nan    0.9953\n",
            "   60                                                  0:00:06                nan    0.9953\n",
            "   61    VotingEnsemble                                0:01:38             0.9970    0.9970\n",
            "   62    StackEnsemble                                 0:01:39             0.9960    0.9970\n"
          ]
        },
        {
          "data": {
            "text/plain": [
              "{'runId': 'AutoML_04db1331-2219-4eef-93bc-3b73ce29a4ec',\n",
              " 'target': 'cluster-project',\n",
              " 'status': 'Completed',\n",
              " 'startTimeUtc': '2023-05-09T12:37:22.568395Z',\n",
              " 'endTimeUtc': '2023-05-09T13:02:21.878424Z',\n",
              " 'services': {},\n",
              " 'warnings': [{'source': 'JasmineService',\n",
              "   'message': 'No scores improved over last 10 iterations, so experiment stopped early. This early stopping behavior can be disabled by setting enable_early_stopping = False in AutoMLConfig for notebook/python SDK runs.'}],\n",
              " 'properties': {'num_iterations': '1000',\n",
              "  'training_type': 'TrainFull',\n",
              "  'acquisition_function': 'EI',\n",
              "  'primary_metric': 'AUC_weighted',\n",
              "  'train_split': '0',\n",
              "  'acquisition_parameter': '0',\n",
              "  'num_cross_validation': None,\n",
              "  'target': 'cluster-project',\n",
              "  'AMLSettingsJsonString': '{\"path\":null,\"name\":\"cancer-auto-ml\",\"subscription_id\":\"3d1a56d2-7c81-4118-9790-f85d1acf0c77\",\"resource_group\":\"aml-quickstarts-233260\",\"workspace_name\":\"quick-starts-ws-233260\",\"region\":\"westeurope\",\"compute_target\":\"cluster-project\",\"spark_service\":null,\"azure_service\":\"remote\",\"many_models\":false,\"pipeline_fetch_max_batch_size\":1,\"enable_batch_run\":true,\"enable_parallel_run\":false,\"num_procs\":null,\"enable_run_restructure\":false,\"start_auxiliary_runs_before_parent_complete\":false,\"enable_code_generation\":true,\"iterations\":1000,\"primary_metric\":\"AUC_weighted\",\"task_type\":\"classification\",\"positive_label\":null,\"data_script\":null,\"test_size\":0.0,\"test_include_predictions_only\":false,\"validation_size\":0.0,\"n_cross_validations\":null,\"y_min\":null,\"y_max\":null,\"num_classes\":null,\"featurization\":\"auto\",\"_ignore_package_version_incompatibilities\":false,\"is_timeseries\":false,\"max_cores_per_iteration\":1,\"max_concurrent_iterations\":5,\"iteration_timeout_minutes\":null,\"mem_in_mb\":null,\"enforce_time_on_windows\":false,\"experiment_timeout_minutes\":20,\"experiment_exit_score\":null,\"partition_column_names\":null,\"whitelist_models\":null,\"blacklist_algos\":[\"TensorFlowLinearClassifier\",\"TensorFlowDNN\"],\"supported_models\":[\"LogisticRegression\",\"DecisionTree\",\"LinearSVM\",\"MultinomialNaiveBayes\",\"SVM\",\"KNN\",\"SGD\",\"AveragedPerceptronClassifier\",\"BernoulliNaiveBayes\",\"GradientBoosting\",\"LightGBM\",\"RandomForest\",\"XGBoostClassifier\",\"ExtremeRandomTrees\",\"TabnetClassifier\",\"TensorFlowDNN\",\"TensorFlowLinearClassifier\"],\"private_models\":[],\"auto_blacklist\":true,\"blacklist_samples_reached\":false,\"exclude_nan_labels\":true,\"verbosity\":20,\"_debug_log\":\"azureml_automl.log\",\"show_warnings\":false,\"model_explainability\":true,\"service_url\":null,\"sdk_url\":null,\"sdk_packages\":null,\"enable_onnx_compatible_models\":false,\"enable_split_onnx_featurizer_estimator_models\":false,\"vm_type\":\"STANDARD_D2_V2\",\"telemetry_verbosity\":20,\"send_telemetry\":true,\"enable_dnn\":false,\"scenario\":\"AutoML\",\"environment_label\":null,\"save_mlflow\":false,\"enable_categorical_indicators\":false,\"force_text_dnn\":false,\"enable_feature_sweeping\":true,\"enable_early_stopping\":true,\"early_stopping_n_iters\":10,\"arguments\":null,\"dataset_id\":\"d5a5fa2f-0ead-4d2c-888b-37b80ea0733f\",\"hyperdrive_config\":null,\"validation_dataset_id\":null,\"run_source\":null,\"metrics\":null,\"enable_metric_confidence\":false,\"enable_ensembling\":true,\"enable_stack_ensembling\":true,\"ensemble_iterations\":15,\"enable_tf\":false,\"enable_subsampling\":null,\"subsample_seed\":null,\"enable_nimbusml\":false,\"enable_streaming\":false,\"force_streaming\":false,\"track_child_runs\":true,\"n_best_runs\":1,\"allowed_private_models\":[],\"label_column_name\":\"diagnosis\",\"weight_column_name\":null,\"cv_split_column_names\":null,\"enable_local_managed\":false,\"_local_managed_run_id\":null,\"cost_mode\":1,\"lag_length\":0,\"metric_operation\":\"maximize\",\"preprocess\":true}',\n",
              "  'DataPrepJsonString': '{\\\\\"training_data\\\\\": {\\\\\"datasetId\\\\\": \\\\\"d5a5fa2f-0ead-4d2c-888b-37b80ea0733f\\\\\"}, \\\\\"datasets\\\\\": 0}',\n",
              "  'EnableSubsampling': None,\n",
              "  'runTemplate': 'AutoML',\n",
              "  'azureml.runsource': 'automl',\n",
              "  'display_task_type': 'classification',\n",
              "  'dependencies_versions': '{\"azureml-widgets\": \"1.49.0\", \"azureml-training-tabular\": \"1.49.0\", \"azureml-train\": \"1.49.0\", \"azureml-train-restclients-hyperdrive\": \"1.49.0\", \"azureml-train-core\": \"1.49.0\", \"azureml-train-automl\": \"1.49.0\", \"azureml-train-automl-runtime\": \"1.49.0\", \"azureml-train-automl-client\": \"1.49.0\", \"azureml-tensorboard\": \"1.49.0\", \"azureml-telemetry\": \"1.49.0\", \"azureml-sdk\": \"1.49.0\", \"azureml-responsibleai\": \"1.49.0\", \"azureml-pipeline\": \"1.49.0\", \"azureml-pipeline-steps\": \"1.49.0\", \"azureml-pipeline-core\": \"1.49.0\", \"azureml-opendatasets\": \"1.49.0\", \"azureml-mlflow\": \"1.49.0\", \"azureml-interpret\": \"1.49.0\", \"azureml-inference-server-http\": \"0.8.0\", \"azureml-explain-model\": \"1.49.0\", \"azureml-defaults\": \"1.49.0\", \"azureml-dataset-runtime\": \"1.49.0\", \"azureml-dataprep\": \"4.9.1\", \"azureml-dataprep-rslex\": \"2.16.1\", \"azureml-dataprep-native\": \"38.0.0\", \"azureml-datadrift\": \"1.49.0\", \"azureml-core\": \"1.49.0\", \"azureml-contrib-services\": \"1.49.0\", \"azureml-contrib-server\": \"1.49.0\", \"azureml-contrib-reinforcementlearning\": \"1.49.0\", \"azureml-contrib-pipeline-steps\": \"1.49.0\", \"azureml-contrib-notebook\": \"1.49.0\", \"azureml-contrib-fairness\": \"1.49.0\", \"azureml-contrib-dataset\": \"1.49.0\", \"azureml-contrib-automl-pipeline-steps\": \"1.49.0\", \"azureml-cli-common\": \"1.49.0\", \"azureml-automl-runtime\": \"1.49.0\", \"azureml-automl-dnn-nlp\": \"1.49.0\", \"azureml-automl-core\": \"1.49.0\", \"azureml-accel-models\": \"1.49.0\"}',\n",
              "  '_aml_system_scenario_identification': 'Remote.Parent',\n",
              "  'ClientType': 'SDK',\n",
              "  'PlatformVersion': 'DPV1',\n",
              "  'environment_cpu_name': 'AzureML-AutoML',\n",
              "  'environment_cpu_label': 'prod',\n",
              "  'environment_gpu_name': 'AzureML-AutoML-GPU',\n",
              "  'environment_gpu_label': 'prod',\n",
              "  'root_attribution': 'automl',\n",
              "  'attribution': 'AutoML',\n",
              "  'Orchestrator': 'AutoML',\n",
              "  'CancelUri': 'https://westeurope.api.azureml.ms/jasmine/v1.0/subscriptions/3d1a56d2-7c81-4118-9790-f85d1acf0c77/resourceGroups/aml-quickstarts-233260/providers/Microsoft.MachineLearningServices/workspaces/quick-starts-ws-233260/experimentids/69e1debc-2d85-4b47-b963-3e36429e25f2/cancel/AutoML_04db1331-2219-4eef-93bc-3b73ce29a4ec',\n",
              "  'ClientSdkVersion': None,\n",
              "  'snapshotId': '00000000-0000-0000-0000-000000000000',\n",
              "  'SetupRunId': 'AutoML_04db1331-2219-4eef-93bc-3b73ce29a4ec_setup',\n",
              "  'SetupRunContainerId': 'dcid.AutoML_04db1331-2219-4eef-93bc-3b73ce29a4ec_setup',\n",
              "  'FeaturizationRunJsonPath': 'featurizer_container.json',\n",
              "  'FeaturizationRunId': 'AutoML_04db1331-2219-4eef-93bc-3b73ce29a4ec_featurize',\n",
              "  'ProblemInfoJsonString': '{\"dataset_num_categorical\": 0, \"is_sparse\": false, \"subsampling\": false, \"has_extra_col\": true, \"dataset_classes\": 2, \"dataset_features\": 31, \"dataset_samples\": 569, \"single_frequency_class_detected\": false}',\n",
              "  'ModelExplainRunId': 'AutoML_04db1331-2219-4eef-93bc-3b73ce29a4ec_ModelExplain'},\n",
              " 'inputDatasets': [{'dataset': {'id': 'd5a5fa2f-0ead-4d2c-888b-37b80ea0733f'}, 'consumptionDetails': {'type': 'RunInput', 'inputName': 'training_data', 'mechanism': 'Direct'}}],\n",
              " 'outputDatasets': [{'identifier': {'savedId': '0e74d10c-be4b-43ec-99cd-6474e23b453b'},\n",
              "   'outputType': 'RunOutput',\n",
              "   'outputDetails': {'outputName': 'full_training_dataset'},\n",
              "   'dataset': {\n",
              "     \"source\": [\n",
              "       \"('workspaceartifactstore', 'ExperimentRun/dcid.AutoML_04db1331-2219-4eef-93bc-3b73ce29a4ec/outputs/featurization/data/full_training_dataset.df.parquet')\"\n",
              "     ],\n",
              "     \"definition\": [\n",
              "       \"GetDatastoreFiles\",\n",
              "       \"ReadParquetFile\",\n",
              "       \"DropColumns\"\n",
              "     ],\n",
              "     \"registration\": {\n",
              "       \"id\": \"0e74d10c-be4b-43ec-99cd-6474e23b453b\",\n",
              "       \"name\": null,\n",
              "       \"version\": null,\n",
              "       \"workspace\": \"Workspace.create(name='quick-starts-ws-233260', subscription_id='3d1a56d2-7c81-4118-9790-f85d1acf0c77', resource_group='aml-quickstarts-233260')\"\n",
              "     }\n",
              "   }}],\n",
              " 'logFiles': {},\n",
              " 'submittedBy': 'ODL_User 233260'}"
            ]
          },
          "execution_count": 8,
          "metadata": {},
          "output_type": "execute_result"
        }
      ],
      "source": [
        "RunDetails(remote_run).show()\n",
        "remote_run.wait_for_completion(show_output=True)"
      ]
    },
    {
      "attachments": {},
      "cell_type": "markdown",
      "metadata": {},
      "source": [
        "## Best Model\n",
        "\n"
      ]
    },
    {
      "cell_type": "code",
      "execution_count": 9,
      "metadata": {
        "gather": {
          "logged": 1683637364575
        },
        "jupyter": {
          "outputs_hidden": false,
          "source_hidden": false
        },
        "nteract": {
          "transient": {
            "deleting": false
          }
        }
      },
      "outputs": [
        {
          "name": "stdout",
          "output_type": "stream",
          "text": [
            "Run(Experiment: cancer-auto-ml,\n",
            "Id: AutoML_04db1331-2219-4eef-93bc-3b73ce29a4ec_61,\n",
            "Type: azureml.scriptrun,\n",
            "Status: Completed)\n",
            "average_precision_score_weighted: 0.9973250077446478\n",
            "balanced_accuracy: 0.9781373310193644\n",
            "f1_score_macro: 0.9808651753980211\n",
            "accuracy: 0.982393483709273\n",
            "norm_macro_recall: 0.9562746620387286\n",
            "recall_score_micro: 0.982393483709273\n",
            "precision_score_micro: 0.982393483709273\n",
            "average_precision_score_micro: 0.9969485499951599\n",
            "precision_score_macro: 0.9847982110482111\n",
            "log_loss: 0.10125785324674945\n",
            "matthews_correlation: 0.9628508423823933\n",
            "AUC_weighted: 0.9970297023947919\n",
            "average_precision_score_macro: 0.9972113334687732\n",
            "precision_score_weighted: 0.983250633845872\n",
            "f1_score_micro: 0.982393483709273\n",
            "AUC_micro: 0.996816210325312\n",
            "AUC_macro: 0.9970297023947919\n",
            "recall_score_macro: 0.9781373310193644\n",
            "recall_score_weighted: 0.982393483709273\n",
            "f1_score_weighted: 0.9822991559480798\n",
            "weighted_accuracy: 0.9855823082884321\n",
            "accuracy_table: aml://artifactId/ExperimentRun/dcid.AutoML_04db1331-2219-4eef-93bc-3b73ce29a4ec_61/accuracy_table\n",
            "confusion_matrix: aml://artifactId/ExperimentRun/dcid.AutoML_04db1331-2219-4eef-93bc-3b73ce29a4ec_61/confusion_matrix\n"
          ]
        }
      ],
      "source": [
        "\n",
        "best_run = remote_run.get_best_child()\n",
        "print(best_run)\n",
        "\n",
        "brm = best_run.get_metrics()\n",
        "\n",
        "for metric_name, metric in zip(brm.keys(), brm.values()):\n",
        "    print(f\"{metric_name}: {metric}\")"
      ]
    },
    {
      "cell_type": "code",
      "execution_count": 10,
      "metadata": {
        "gather": {
          "logged": 1683637364763
        },
        "jupyter": {
          "outputs_hidden": false,
          "source_hidden": false
        },
        "nteract": {
          "transient": {
            "deleting": false
          }
        }
      },
      "outputs": [
        {
          "name": "stdout",
          "output_type": "stream",
          "text": [
            "{'runTemplate': 'automl_child', 'pipeline_id': '__AutoML_Ensemble__', 'pipeline_spec': '{\"pipeline_id\":\"__AutoML_Ensemble__\",\"objects\":[{\"module\":\"azureml.train.automl.ensemble\",\"class_name\":\"Ensemble\",\"spec_class\":\"sklearn\",\"param_args\":[],\"param_kwargs\":{\"automl_settings\":\"{\\'task_type\\':\\'classification\\',\\'primary_metric\\':\\'AUC_weighted\\',\\'verbosity\\':20,\\'ensemble_iterations\\':15,\\'is_timeseries\\':False,\\'name\\':\\'cancer-auto-ml\\',\\'compute_target\\':\\'cluster-project\\',\\'subscription_id\\':\\'3d1a56d2-7c81-4118-9790-f85d1acf0c77\\',\\'region\\':\\'westeurope\\',\\'spark_service\\':None}\",\"ensemble_run_id\":\"AutoML_04db1331-2219-4eef-93bc-3b73ce29a4ec_61\",\"experiment_name\":\"cancer-auto-ml\",\"workspace_name\":\"quick-starts-ws-233260\",\"subscription_id\":\"3d1a56d2-7c81-4118-9790-f85d1acf0c77\",\"resource_group_name\":\"aml-quickstarts-233260\"}}]}', 'training_percent': '100', 'predicted_cost': None, 'iteration': '61', '_aml_system_scenario_identification': 'Remote.Child', '_azureml.ComputeTargetType': 'amlctrain', 'ContentSnapshotId': 'bd30a2f0-f4e4-40a5-b586-c93575b6f033', 'ProcessInfoFile': 'azureml-logs/process_info.json', 'ProcessStatusFile': 'azureml-logs/process_status.json', 'run_preprocessor': '', 'run_algorithm': 'VotingEnsemble', 'ensembled_iterations': '[42, 56, 29, 35, 0, 11, 48, 23, 50]', 'ensembled_algorithms': \"['XGBoostClassifier', 'XGBoostClassifier', 'XGBoostClassifier', 'XGBoostClassifier', 'LightGBM', 'SVM', 'LightGBM', 'LogisticRegression', 'XGBoostClassifier']\", 'ensembled_run_ids': \"['AutoML_04db1331-2219-4eef-93bc-3b73ce29a4ec_42', 'AutoML_04db1331-2219-4eef-93bc-3b73ce29a4ec_56', 'AutoML_04db1331-2219-4eef-93bc-3b73ce29a4ec_29', 'AutoML_04db1331-2219-4eef-93bc-3b73ce29a4ec_35', 'AutoML_04db1331-2219-4eef-93bc-3b73ce29a4ec_0', 'AutoML_04db1331-2219-4eef-93bc-3b73ce29a4ec_11', 'AutoML_04db1331-2219-4eef-93bc-3b73ce29a4ec_48', 'AutoML_04db1331-2219-4eef-93bc-3b73ce29a4ec_23', 'AutoML_04db1331-2219-4eef-93bc-3b73ce29a4ec_50']\", 'ensemble_weights': '[0.18181818181818182, 0.09090909090909091, 0.09090909090909091, 0.09090909090909091, 0.09090909090909091, 0.09090909090909091, 0.09090909090909091, 0.09090909090909091, 0.18181818181818182]', 'best_individual_pipeline_score': '0.9953034138240973', 'best_individual_iteration': '42', 'model_output_path': 'outputs/model.pkl', 'conda_env_data_location': 'aml://artifact/ExperimentRun/dcid.AutoML_04db1331-2219-4eef-93bc-3b73ce29a4ec_61/outputs/conda_env_v_1_0_0.yml', 'model_data_location': 'aml://artifact/ExperimentRun/dcid.AutoML_04db1331-2219-4eef-93bc-3b73ce29a4ec_61/outputs/model.pkl', 'model_size_on_disk': '1651883', 'scoring_data_location': 'aml://artifact/ExperimentRun/dcid.AutoML_04db1331-2219-4eef-93bc-3b73ce29a4ec_61/outputs/scoring_file_v_1_0_0.py', 'scoring_data_location_v2': 'aml://artifact/ExperimentRun/dcid.AutoML_04db1331-2219-4eef-93bc-3b73ce29a4ec_61/outputs/scoring_file_v_2_0_0.py', 'scoring_data_location_pbi': 'aml://artifact/ExperimentRun/dcid.AutoML_04db1331-2219-4eef-93bc-3b73ce29a4ec_61/outputs/scoring_file_pbi_v_1_0_0.py', 'model_exp_support': 'True', 'pipeline_graph_version': '1.0.0', 'model_name': 'AutoML04db1331261', 'score': '0.9970297023947919', 'score_table': 'NaN', 'run_properties': 'classification_labels=numpy.array([0, 1]', 'pipeline_script': '{\"pipeline_id\":\"__AutoML_Ensemble__\",\"objects\":[{\"module\":\"azureml.train.automl.ensemble\",\"class_name\":\"Ensemble\",\"spec_class\":\"sklearn\",\"param_args\":[],\"param_kwargs\":{\"automl_settings\":\"{\\'task_type\\':\\'classification\\',\\'primary_metric\\':\\'AUC_weighted\\',\\'verbosity\\':20,\\'ensemble_iterations\\':15,\\'is_timeseries\\':False,\\'name\\':\\'cancer-auto-ml\\',\\'compute_target\\':\\'cluster-project\\',\\'subscription_id\\':\\'3d1a56d2-7c81-4118-9790-f85d1acf0c77\\',\\'region\\':\\'westeurope\\',\\'spark_service\\':None}\",\"ensemble_run_id\":\"AutoML_04db1331-2219-4eef-93bc-3b73ce29a4ec_61\",\"experiment_name\":\"cancer-auto-ml\",\"workspace_name\":\"quick-starts-ws-233260\",\"subscription_id\":\"3d1a56d2-7c81-4118-9790-f85d1acf0c77\",\"resource_group_name\":\"aml-quickstarts-233260\"}}]}', 'training_type': 'MeanCrossValidation', 'fit_time': '49', 'goal': 'AUC_weighted_max', 'primary_metric': 'AUC_weighted', 'errors': '{}', 'onnx_model_resource': '{}', 'dependencies_versions': '{\"azureml-training-tabular\": \"1.50.0\", \"azureml-train-restclients-hyperdrive\": \"1.50.0\", \"azureml-train-core\": \"1.50.0\", \"azureml-train-automl-runtime\": \"1.50.0\", \"azureml-train-automl-client\": \"1.50.0\", \"azureml-telemetry\": \"1.50.0\", \"azureml-responsibleai\": \"1.50.0\", \"azureml-pipeline-core\": \"1.50.0.post1\", \"azureml-mlflow\": \"1.50.0\", \"azureml-interpret\": \"1.50.0\", \"azureml-inference-server-http\": \"0.8.3\", \"azureml-defaults\": \"1.50.0\", \"azureml-dataset-runtime\": \"1.50.0\", \"azureml-dataprep\": \"4.10.6\", \"azureml-dataprep-rslex\": \"2.17.5\", \"azureml-dataprep-native\": \"38.0.0\", \"azureml-core\": \"1.50.0\", \"azureml-automl-runtime\": \"1.50.0\", \"azureml-automl-core\": \"1.50.0\"}', 'num_cores': '2', 'num_logical_cores': '2', 'peak_memory_usage': '1400752', 'vm_configuration': 'x86_64', 'core_hours': '0.015472353611111113', 'feature_skus': 'automatedml_sdk_guardrails'}\n"
          ]
        }
      ],
      "source": [
        "print(best_run.properties)"
      ]
    },
    {
      "cell_type": "code",
      "execution_count": 11,
      "metadata": {
        "gather": {
          "logged": 1683637365312
        },
        "jupyter": {
          "outputs_hidden": false,
          "source_hidden": false
        },
        "nteract": {
          "transient": {
            "deleting": false
          }
        }
      },
      "outputs": [],
      "source": [
        "model_name = best_run.properties[\"model_name\"]\n",
        "\n",
        "script_file_name = \"inference/score.py\"\n",
        "\n",
        "best_run.download_file(\"outputs/scoring_file_v_1_0_0.py\", \"inference/score.py\")"
      ]
    },
    {
      "attachments": {},
      "cell_type": "markdown",
      "metadata": {},
      "source": [
        "## Model Deployment\n",
        "\n",
        "Remember you have to deploy only one of the two models you trained but you still need to register both the models. Perform the steps in the rest of this notebook only if you wish to deploy this model.\n"
      ]
    },
    {
      "cell_type": "code",
      "execution_count": 12,
      "metadata": {
        "gather": {
          "logged": 1683637366701
        },
        "jupyter": {
          "outputs_hidden": false,
          "source_hidden": false
        },
        "nteract": {
          "transient": {
            "deleting": false
          }
        }
      },
      "outputs": [],
      "source": [
        "description = \"AutoML Model trained on cancer data to predict if a patient has a malignant or benign tumour\"\n",
        "tags = None\n",
        "model = remote_run.register_model(\n",
        "    model_name=model_name, description=description, tags=tags\n",
        ")"
      ]
    },
    {
      "cell_type": "code",
      "execution_count": 13,
      "metadata": {
        "gather": {
          "logged": 1683637530325
        },
        "jupyter": {
          "outputs_hidden": false,
          "source_hidden": false
        },
        "nteract": {
          "transient": {
            "deleting": false
          }
        }
      },
      "outputs": [
        {
          "name": "stdout",
          "output_type": "stream",
          "text": [
            "automl04db1331261\n",
            "Tips: You can try get_logs(): https://aka.ms/debugimage#dockerlog or local deployment: https://aka.ms/debugimage#debug-locally to debug if deployment takes longer than 10 minutes.\n",
            "Running\n",
            "2023-05-09 13:02:49+00:00 Creating Container Registry if not exists.\n",
            "2023-05-09 13:02:50+00:00 Use the existing image.\n",
            "2023-05-09 13:02:51+00:00 Submitting deployment to compute.\n",
            "2023-05-09 13:02:59+00:00 Checking the status of deployment automl04db1331261..\n",
            "2023-05-09 13:05:16+00:00 Checking the status of inference endpoint automl04db1331261.\n",
            "Succeeded\n",
            "ACI service creation operation finished, operation \"Succeeded\"\n",
            "Healthy\n"
          ]
        }
      ],
      "source": [
        "\n",
        "inference_config = InferenceConfig(entry_script=script_file_name)\n",
        "\n",
        "aciconfig = AciWebservice.deploy_configuration(\n",
        "    cpu_cores=2,\n",
        "    memory_gb=2,\n",
        "    tags={\"area\": \"CancerData\", \"type\": \"automl_cd_classification\"},\n",
        "    description=\"sample service for CancerData Automl Classification\",\n",
        ")\n",
        "\n",
        "aci_service_name = model_name.lower()\n",
        "print(aci_service_name)\n",
        "aci_service = Model.deploy(ws, aci_service_name, [model], inference_config, aciconfig)\n",
        "aci_service.wait_for_deployment(True)\n",
        "print(aci_service.state)"
      ]
    },
    {
      "cell_type": "code",
      "execution_count": 14,
      "metadata": {
        "gather": {
          "logged": 1683637530802
        },
        "jupyter": {
          "outputs_hidden": false,
          "source_hidden": false
        },
        "nteract": {
          "transient": {
            "deleting": false
          }
        }
      },
      "outputs": [
        {
          "data": {
            "text/plain": [
              "'2023-05-09T13:04:56,970057700+00:00 - rsyslog/run \\n2023-05-09T13:04:56,984260700+00:00 - gunicorn/run \\n2023-05-09T13:04:56,986682500+00:00 | gunicorn/run | \\n2023-05-09T13:04:56,993048600+00:00 | gunicorn/run | ###############################################\\n2023-05-09T13:04:56,996606100+00:00 - nginx/run \\n2023-05-09T13:04:57,000159900+00:00 | gunicorn/run | AzureML Container Runtime Information\\n2023-05-09T13:04:57,004342500+00:00 | gunicorn/run | ###############################################\\n2023-05-09T13:04:57,007758700+00:00 | gunicorn/run | \\n2023-05-09T13:04:57,014842400+00:00 | gunicorn/run | \\n2023-05-09T13:04:57,029165800+00:00 | gunicorn/run | AzureML image information: openmpi4.1.0-ubuntu20.04, Materializaton Build:20230412.v4\\n2023-05-09T13:04:57,045744100+00:00 | gunicorn/run | \\n2023-05-09T13:04:57,055049300+00:00 | gunicorn/run | \\n2023-05-09T13:04:57,056972500+00:00 | gunicorn/run | PATH environment variable: /azureml-envs/azureml-automl/bin:/opt/miniconda/bin:/usr/local/sbin:/usr/local/bin:/usr/sbin:/usr/bin:/sbin:/bin\\n2023-05-09T13:04:57,061492200+00:00 | gunicorn/run | PYTHONPATH environment variable: \\n2023-05-09T13:04:57,064907400+00:00 | gunicorn/run | \\n2023-05-09T13:04:58,486823300+00:00 | gunicorn/run | CONDAPATH environment variable: /opt/miniconda\\n\\n# conda environments:\\n#\\n                         /azureml-envs/azureml-automl\\nbase                     /opt/miniconda\\n\\n2023-05-09T13:05:00,448143600+00:00 | gunicorn/run | \\n2023-05-09T13:05:00,454525100+00:00 | gunicorn/run | Pip Dependencies (before dynamic installation)\\n\\nadal==1.2.7\\napplicationinsights==0.11.10\\narch==5.3.1\\nargcomplete==2.1.2\\nasttokens==2.2.1\\nattrs==22.2.0\\nazure-common==1.1.28\\nazure-core==1.26.4\\nazure-graphrbac==0.61.1\\nazure-identity==1.12.0\\nazure-mgmt-authorization==3.0.0\\nazure-mgmt-containerregistry==10.1.0\\nazure-mgmt-core==1.4.0\\nazure-mgmt-keyvault==10.2.1\\nazure-mgmt-resource==22.0.0\\nazure-mgmt-storage==21.0.0\\nazure-storage-blob==12.13.0\\nazure-storage-queue==12.6.0\\nazureml-automl-core==1.50.0\\nazureml-automl-runtime==1.50.0\\nazureml-core==1.50.0\\nazureml-dataprep==4.10.6\\nazureml-dataprep-native==38.0.0\\nazureml-dataprep-rslex==2.17.5\\nazureml-dataset-runtime==1.50.0\\nazureml-defaults==1.50.0\\nazureml-inference-server-http==0.8.3\\nazureml-interpret==1.50.0\\nazureml-mlflow==1.50.0\\nazureml-pipeline-core==1.50.0.post1\\nazureml-responsibleai==1.50.0\\nazureml-telemetry==1.50.0\\nazureml-train-automl-client==1.50.0\\nazureml-train-automl-runtime==1.50.0\\nazureml-train-core==1.50.0\\nazureml-train-restclients-hyperdrive==1.50.0\\nazureml-training-tabular==1.50.0\\nbackcall==0.2.0\\nbackports.tempfile==1.0\\nbackports.weakref==1.0.post1\\nbcrypt==4.0.1\\nbokeh==2.4.3\\nboto==2.49.0\\nboto3==1.15.18\\nbotocore==1.18.18\\nbrotlipy @ file:///home/conda/feedstock_root/build_artifacts/brotlipy_1666764652625/work\\ncachetools==5.3.0\\ncertifi==2022.12.7\\ncffi @ file:///home/conda/feedstock_root/build_artifacts/cffi_1671179356964/work\\ncharset-normalizer @ file:///home/conda/feedstock_root/build_artifacts/charset-normalizer_1678108872112/work\\nclick==8.1.3\\ncloudpickle @ file:///home/conda/feedstock_root/build_artifacts/cloudpickle_1598400192773/work\\ncmdstanpy==0.9.5\\ncontextlib2==21.6.0\\ncontourpy==1.0.7\\nconvertdate @ file:///home/conda/feedstock_root/build_artifacts/convertdate_1642883757836/work\\ncryptography @ file:///home/conda/feedstock_root/build_artifacts/cryptography-split_1675828607636/work\\ncycler==0.11.0\\nCython==0.29.17\\ndask==2023.2.0\\ndatabricks-cli==0.17.6\\ndataclasses==0.6\\ndebugpy==1.6.7\\ndecorator==5.1.1\\ndice-ml==0.9\\ndill==0.3.6\\ndistributed==2023.2.0\\ndistro==1.8.0\\ndocker==5.0.3\\ndotnetcore2==3.1.23\\neconml==0.14.0\\nentrypoints==0.4\\nephem==4.1.4\\nerroranalysis==0.4.2\\nexecuting==1.2.0\\nfairlearn==0.8.0\\nfbprophet==0.7.1\\nfire==0.5.0\\nFlask==2.2.3\\nFlask-Cors==3.0.10\\nflatbuffers==23.3.3\\nfonttools==4.39.3\\nfsspec==2023.4.0\\nfusepy==3.0.1\\ngensim==3.8.3\\ngitdb==4.0.10\\nGitPython==3.1.31\\ngoogle-api-core==2.11.0\\ngoogle-auth==2.17.3\\ngoogleapis-common-protos==1.59.0\\ngunicorn==20.1.0\\nh5py==3.8.0\\nHeapDict==1.0.1\\nholidays @ file:///home/conda/feedstock_root/build_artifacts/holidays_1595448845196/work\\nhumanfriendly==10.0\\nidna @ file:///home/conda/feedstock_root/build_artifacts/idna_1663625384323/work\\nimportlib-metadata==6.3.0\\nimportlib-resources==5.12.0\\ninference-schema==1.5.1\\ninterpret-community==0.28.0\\ninterpret-core==0.2.7\\nipykernel==6.8.0\\nipython==8.12.0\\nisodate==0.6.1\\nitsdangerous==2.1.2\\njedi==0.18.2\\njeepney==0.8.0\\nJinja2==3.1.2\\njmespath==0.10.0\\njoblib @ file:///home/conda/feedstock_root/build_artifacts/joblib_1663332044897/work\\njsonpickle==3.0.1\\njsonschema==4.17.3\\njupyter_client==7.4.9\\njupyter_core==5.3.0\\nkeras2onnx==1.6.0\\nkiwisolver==1.4.4\\nknack==0.10.1\\nkorean-lunar-calendar @ file:///home/conda/feedstock_root/build_artifacts/korean_lunar_calendar_1663341251025/work\\nlightgbm==3.2.1\\nllvmlite==0.38.1\\nlocket==1.0.0\\nLunarCalendar==0.0.9\\nMarkupSafe==2.1.2\\nmatplotlib==3.7.1\\nmatplotlib-inline==0.1.6\\nml-wrappers==0.4.7\\nmlflow-skinny==2.2.2\\nmltable==1.3.0\\nmsal==1.21.0\\nmsal-extensions==1.0.0\\nmsgpack==1.0.5\\nmsrest==0.7.1\\nmsrestazure==0.6.4\\nndg-httpsclient==0.5.1\\nnest-asyncio==1.5.6\\nnetworkx==2.5\\nnumba==0.55.2\\nnumpy==1.22.3\\noauthlib==3.2.2\\nonnx==1.13.0\\nonnxconverter-common==1.6.0\\nonnxmltools==1.4.1\\nonnxruntime==1.11.1\\nopencensus==0.11.2\\nopencensus-context==0.1.3\\nopencensus-ext-azure==1.1.9\\npackaging==23.0\\npandas==1.1.5\\nparamiko==3.1.0\\nparso==0.8.3\\npartd==1.4.0\\npathspec==0.11.1\\npatsy==0.5.3\\npexpect==4.8.0\\npickleshare==0.7.5\\nPillow==9.5.0\\npkginfo==1.9.6\\npkgutil_resolve_name==1.3.10\\nplatformdirs @ file:///home/conda/feedstock_root/build_artifacts/platformdirs_1679871349196/work\\npmdarima==1.7.1\\npooch @ file:///home/conda/feedstock_root/build_artifacts/pooch_1679580333621/work\\nportalocker==2.7.0\\nprompt-toolkit==3.0.38\\nproperty-cached==1.6.4\\nprotobuf==3.20.3\\npsutil @ file:///home/conda/feedstock_root/build_artifacts/psutil_1667885878918/work\\nptyprocess==0.7.0\\npure-eval==0.2.2\\npy-cpuinfo==5.0.0\\npyarrow==9.0.0\\npyasn1==0.4.8\\npyasn1-modules==0.2.8\\npycparser @ file:///home/conda/feedstock_root/build_artifacts/pycparser_1636257122734/work\\npydantic==1.10.7\\nPygments==2.15.0\\nPyJWT==2.6.0\\nPyMeeus @ file:///home/conda/feedstock_root/build_artifacts/pymeeus_1670868433998/work\\nPyNaCl==1.5.0\\npyOpenSSL @ file:///home/conda/feedstock_root/build_artifacts/pyopenssl_1680037383858/work\\npyparsing==3.0.9\\npyrsistent==0.19.3\\nPySocks @ file:///home/conda/feedstock_root/build_artifacts/pysocks_1661604839144/work\\npystan==2.19.1.1\\npython-dateutil @ file:///home/conda/feedstock_root/build_artifacts/python-dateutil_1626286286081/work\\npytz==2022.7.1\\nPyYAML==6.0\\npyzmq==25.0.2\\nraiutils==0.4.0\\nrequests @ file:///home/conda/feedstock_root/build_artifacts/requests_1680286922386/work\\nrequests-oauthlib==1.3.1\\nresponsibleai==0.26.0\\nrsa==4.9\\ns3transfer==0.3.7\\nscikit-learn==0.22.1\\nscipy==1.5.3\\nSecretStorage==3.3.3\\nsemver==2.13.0\\nsetuptools-git==1.2\\nshap==0.39.0\\nsix @ file:///home/conda/feedstock_root/build_artifacts/six_1620240208055/work\\nskl2onnx==1.4.9\\nsklearn-pandas==1.7.0\\nslicer==0.0.7\\nsmart-open==1.9.0\\nsmmap==5.0.0\\nsortedcontainers==2.4.0\\nsparse==0.14.0\\nsqlparse==0.4.3\\nstack-data==0.6.2\\nstatsmodels==0.11.1\\ntabulate==0.9.0\\ntblib==1.7.0\\ntermcolor==2.2.0\\ntoolz==0.12.0\\ntornado==6.2\\ntqdm==4.65.0\\ntraitlets==5.9.0\\ntyping_extensions @ file:///home/conda/feedstock_root/build_artifacts/typing_extensions_1678559861143/work\\nurllib3==1.25.11\\nwcwidth==0.2.6\\nwebsocket-client==1.5.1\\nWerkzeug==2.2.3\\nwrapt==1.12.1\\nxgboost==1.3.3\\nzict==2.2.0\\nzipp==3.15.0\\n\\n2023-05-09T13:05:02,675900262+00:00 | gunicorn/run | \\n2023-05-09T13:05:02,678101050+00:00 | gunicorn/run | ###############################################\\n2023-05-09T13:05:02,682398028+00:00 | gunicorn/run | Checking if the Python package azureml-inference-server-http is installed\\n2023-05-09T13:05:02,684937415+00:00 | gunicorn/run | ###############################################\\n2023-05-09T13:05:02,687542901+00:00 | gunicorn/run | \\n2023-05-09T13:05:05,758767567+00:00 | gunicorn/run | \\n2023-05-09T13:05:05,760319459+00:00 | gunicorn/run | ###############################################\\n2023-05-09T13:05:05,763345643+00:00 | gunicorn/run | AzureML Inference Server\\n2023-05-09T13:05:05,768232318+00:00 | gunicorn/run | ###############################################\\n2023-05-09T13:05:05,770427706+00:00 | gunicorn/run | \\n2023-05-09T13:05:08,816348783+00:00 | gunicorn/run | Starting AzureML Inference Server HTTP.\\n2023-05-09 13:05:09,194 I [83] azmlinfsrv - Loaded logging config from /azureml-envs/azureml-automl/lib/python3.8/site-packages/azureml_inference_server_http/logging.json\\n2023-05-09 13:05:09,480 I [83] gunicorn.error - Starting gunicorn 20.1.0\\n2023-05-09 13:05:09,481 I [83] gunicorn.error - Listening at: http://0.0.0.0:31311 (83)\\n2023-05-09 13:05:09,482 I [83] gunicorn.error - Using worker: sync\\n2023-05-09 13:05:09,486 I [140] gunicorn.error - Booting worker with pid: 140\\n/azureml-envs/azureml-automl/lib/python3.8/site-packages/azureml_inference_server_http/server/config.py:51: FutureWarning: aliases are no longer used by BaseSettings to define which environment variables to read. Instead use the \"env\" field setting. See https://pydantic-docs.helpmanual.io/usage/settings/#environment-variable-names\\n  class AMLInferenceServerConfig(pydantic.BaseSettings):\\n\\nAzure ML Inferencing HTTP server v0.8.3\\n\\n\\nServer Settings\\n---------------\\nEntry Script Name: /var/azureml-app/main.py\\nModel Directory: /var/azureml-app/azureml-models/AutoML04db1331261/1\\nConfig File: None\\nWorker Count: 1\\nWorker Timeout (seconds): 300\\nServer Port: 31311\\nApplication Insights Enabled: false\\nApplication Insights Key: None\\nInferencing HTTP server version: azmlinfsrv/0.8.3\\nCORS for the specified origins: None\\n\\n\\nServer Routes\\n---------------\\nLiveness Probe: GET   127.0.0.1:31311/\\nScore:          POST  127.0.0.1:31311/score\\n\\n2023-05-09 13:05:10,390 I [140] azmlinfsrv - AML_FLASK_ONE_COMPATIBILITY is set. Patched Flask to ensure compatibility with Flask 1.\\nInitializing logger\\n2023-05-09 13:05:10,393 I [140] azmlinfsrv - Starting up app insights client\\n2023-05-09 13:05:11,593 I [140] azmlinfsrv.user_script - Found driver script at /var/azureml-app/main.py and the score script at /var/azureml-app/score.py\\n2023-05-09 13:05:11,593 I [140] azmlinfsrv.user_script - run() is decorated with @input_schema. Server will invoke it with the following arguments: data, method.\\n2023-05-09 13:05:11,593 I [140] azmlinfsrv.user_script - Invoking user\\'s init function\\nERROR:fbprophet.plot:Importing plotly failed. Interactive plots will not work.\\n2023-05-09 13:05:24,261 I [140] azmlinfsrv.user_script - Users\\'s init has completed successfully\\n2023-05-09 13:05:24,266 I [140] azmlinfsrv.swagger - Swaggers are prepared for the following versions: [2, 3, 3.1].\\n2023-05-09 13:05:24,266 I [140] azmlinfsrv - Scoring timeout is set to 60000\\n2023-05-09 13:05:24,274 W [140] azmlinfsrv - x-ms-request-id header has been deprecated and will be removed from future versions of the server. Please use x-ms-client-request-id.\\n2023-05-09 13:05:24,276 I [140] gunicorn.access - 127.0.0.1 - - [09/May/2023:13:05:24 +0000] \"GET / HTTP/1.0\" 200 7 \"-\" \"Go-http-client/1.1\"\\n2023-05-09 13:05:24,278 W [140] azmlinfsrv - x-ms-request-id header has been deprecated and will be removed from future versions of the server. Please use x-ms-client-request-id.\\n2023-05-09 13:05:24,279 I [140] gunicorn.access - 127.0.0.1 - - [09/May/2023:13:05:24 +0000] \"GET / HTTP/1.0\" 200 7 \"-\" \"Go-http-client/1.1\"\\n2023-05-09 13:05:24,286 W [140] azmlinfsrv - x-ms-request-id header has been deprecated and will be removed from future versions of the server. Please use x-ms-client-request-id.\\n2023-05-09 13:05:24,287 I [140] azmlinfsrv - GET /swagger.json 200 1.281ms 5529\\n2023-05-09 13:05:24,288 I [140] gunicorn.access - 127.0.0.1 - - [09/May/2023:13:05:24 +0000] \"GET /swagger.json HTTP/1.0\" 200 5529 \"-\" \"Go-http-client/1.1\"\\n2023-05-09 13:05:29,972 W [140] azmlinfsrv - x-ms-request-id header has been deprecated and will be removed from future versions of the server. Please use x-ms-client-request-id.\\n2023-05-09 13:05:29,973 I [140] gunicorn.access - 127.0.0.1 - - [09/May/2023:13:05:29 +0000] \"GET / HTTP/1.0\" 200 7 \"-\" \"Go-http-client/1.1\"\\n2023-05-09 13:05:29,983 W [140] azmlinfsrv - x-ms-request-id header has been deprecated and will be removed from future versions of the server. Please use x-ms-client-request-id.\\n2023-05-09 13:05:29,984 I [140] azmlinfsrv - GET /swagger.json 200 1.125ms 5529\\n2023-05-09 13:05:29,986 I [140] gunicorn.access - 127.0.0.1 - - [09/May/2023:13:05:29 +0000] \"GET /swagger.json HTTP/1.0\" 200 5529 \"-\" \"Go-http-client/1.1\"\\n'"
            ]
          },
          "execution_count": 14,
          "metadata": {},
          "output_type": "execute_result"
        }
      ],
      "source": [
        "aci_service.get_logs()"
      ]
    },
    {
      "cell_type": "code",
      "execution_count": 23,
      "metadata": {
        "gather": {
          "logged": 1683642309035
        },
        "jupyter": {
          "outputs_hidden": false,
          "source_hidden": false
        },
        "nteract": {
          "transient": {
            "deleting": false
          }
        }
      },
      "outputs": [],
      "source": [
        "from sklearn.model_selection import train_test_split\n",
        "\n",
        "def clean_data(data):\n",
        "    x_df = pd.read_csv(data).dropna()\n",
        "    y_df = x_df.pop(\"diagnosis\")\n",
        "    return x_df, y_df\n",
        "\n",
        "x, y = clean_data('breast-cancer.csv')\n",
        "\n",
        "# TODO: Split data into train and test sets.\n",
        "\n",
        "_, X_test, _, y_test = train_test_split(x, y, test_size=1/len(y), random_state=42)"
      ]
    },
    {
      "cell_type": "code",
      "execution_count": 24,
      "metadata": {
        "gather": {
          "logged": 1683642311520
        },
        "jupyter": {
          "outputs_hidden": false,
          "source_hidden": false
        },
        "nteract": {
          "transient": {
            "deleting": false
          }
        }
      },
      "outputs": [],
      "source": [
        "import requests\n",
        "\n",
        "X_test_json = X_test.to_json(orient=\"records\")\n",
        "data = '{\"data\": ' + X_test_json + \"}\"\n",
        "headers = {\"Content-Type\": \"application/json\"}\n",
        "\n",
        "resp = requests.post(aci_service.scoring_uri, data, headers=headers)\n",
        "\n",
        "y_pred = json.loads(json.loads(resp.text))[\"result\"]"
      ]
    },
    {
      "cell_type": "code",
      "execution_count": 26,
      "metadata": {
        "gather": {
          "logged": 1683642323894
        },
        "jupyter": {
          "outputs_hidden": false,
          "source_hidden": false
        },
        "nteract": {
          "transient": {
            "deleting": false
          }
        }
      },
      "outputs": [
        {
          "name": "stdout",
          "output_type": "stream",
          "text": [
            "1   1\n",
            "['B'] 204    B\n",
            "Name: diagnosis, dtype: object\n"
          ]
        }
      ],
      "source": [
        "print(len(y_pred), \" \", len(y_test))\n",
        "print(y_pred, y_test)"
      ]
    },
    {
      "cell_type": "markdown",
      "metadata": {},
      "source": [
        "**Submission Checklist**\n",
        "- I have registered the model.\n",
        "- I have deployed the model with the best accuracy as a webservice.\n",
        "- I have tested the webservice by sending a request to the model endpoint.\n",
        "- I have deleted the webservice and shutdown all the computes that I have used.\n",
        "- I have taken a screenshot showing the model endpoint as active.\n",
        "- The project includes a file containing the environment details.\n"
      ]
    },
    {
      "cell_type": "markdown",
      "metadata": {},
      "source": []
    }
  ],
  "metadata": {
    "kernel_info": {
      "name": "python38-azureml"
    },
    "kernelspec": {
      "display_name": "Python 3.8 - AzureML",
      "language": "python",
      "name": "python38-azureml"
    },
    "language_info": {
      "codemirror_mode": {
        "name": "ipython",
        "version": 3
      },
      "file_extension": ".py",
      "mimetype": "text/x-python",
      "name": "python",
      "nbconvert_exporter": "python",
      "pygments_lexer": "ipython3",
      "version": "3.8.5"
    },
    "microsoft": {
      "host": {
        "AzureML": {
          "notebookHasBeenCompleted": true
        }
      },
      "ms_spell_check": {
        "ms_spell_check_language": "en"
      }
    },
    "nteract": {
      "version": "nteract-front-end@1.0.0"
    }
  },
  "nbformat": 4,
  "nbformat_minor": 2
}
